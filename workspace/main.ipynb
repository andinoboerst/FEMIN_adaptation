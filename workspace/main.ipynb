{
 "cells": [
  {
   "cell_type": "code",
   "execution_count": 1,
   "metadata": {},
   "outputs": [],
   "source": [
    "from tct.tct_elastic_full import tct_elastic_full"
   ]
  },
  {
   "cell_type": "code",
   "execution_count": 2,
   "metadata": {},
   "outputs": [
    {
     "ename": "AttributeError",
     "evalue": "'XDMFFile' object has no attribute 'parameters'",
     "output_type": "error",
     "traceback": [
      "\u001b[0;31m---------------------------------------------------------------------------\u001b[0m",
      "\u001b[0;31mAttributeError\u001b[0m                            Traceback (most recent call last)",
      "Cell \u001b[0;32mIn[2], line 1\u001b[0m\n\u001b[0;32m----> 1\u001b[0m \u001b[43mtct_elastic_full\u001b[49m\u001b[43m(\u001b[49m\u001b[43m)\u001b[49m\n",
      "File \u001b[0;32m/workspace/workspace/tct/tct_elastic_full.py:106\u001b[0m, in \u001b[0;36mtct_elastic_full\u001b[0;34m()\u001b[0m\n\u001b[1;32m    104\u001b[0m xdmf_filename \u001b[38;5;241m=\u001b[39m \u001b[38;5;124m\"\u001b[39m\u001b[38;5;124mworkspace/tct_results.xdmf\u001b[39m\u001b[38;5;124m\"\u001b[39m \u001b[38;5;66;03m# Single file name for time series\u001b[39;00m\n\u001b[1;32m    105\u001b[0m \u001b[38;5;28;01mwith\u001b[39;00m XDMFFile(mesh\u001b[38;5;241m.\u001b[39mcomm, xdmf_filename, \u001b[38;5;124m\"\u001b[39m\u001b[38;5;124mw\u001b[39m\u001b[38;5;124m\"\u001b[39m) \u001b[38;5;28;01mas\u001b[39;00m xdmffile:\n\u001b[0;32m--> 106\u001b[0m     \u001b[43mxdmffile\u001b[49m\u001b[38;5;241;43m.\u001b[39;49m\u001b[43mparameters\u001b[49m\u001b[38;5;241m.\u001b[39mupdate(\n\u001b[1;32m    107\u001b[0m         {\n\u001b[1;32m    108\u001b[0m             \u001b[38;5;124m\"\u001b[39m\u001b[38;5;124mfunctions_share_mesh\u001b[39m\u001b[38;5;124m\"\u001b[39m: \u001b[38;5;28;01mTrue\u001b[39;00m,\n\u001b[1;32m    109\u001b[0m             \u001b[38;5;124m\"\u001b[39m\u001b[38;5;124mrewrite_function_mesh\u001b[39m\u001b[38;5;124m\"\u001b[39m: \u001b[38;5;28;01mFalse\u001b[39;00m\n\u001b[1;32m    110\u001b[0m         }\n\u001b[1;32m    111\u001b[0m     )\n\u001b[1;32m    112\u001b[0m     xdmffile\u001b[38;5;241m.\u001b[39mwrite_mesh(mesh) \u001b[38;5;66;03m# Write mesh ONCE, outside the loop (for time series, mesh typically doesn't change topology)\u001b[39;00m\n\u001b[1;32m    114\u001b[0m     \u001b[38;5;28;01mfor\u001b[39;00m step \u001b[38;5;129;01min\u001b[39;00m progressbar(\u001b[38;5;28mrange\u001b[39m(num_steps)):\n",
      "\u001b[0;31mAttributeError\u001b[0m: 'XDMFFile' object has no attribute 'parameters'"
     ]
    }
   ],
   "source": [
    "tct_elastic_full()"
   ]
  },
  {
   "cell_type": "code",
   "execution_count": null,
   "metadata": {},
   "outputs": [],
   "source": [
    "import pyvista as pv\n",
    "import pickle\n",
    "import numpy as np\n",
    "import matplotlib.pyplot as plt"
   ]
  },
  {
   "cell_type": "code",
   "execution_count": null,
   "metadata": {},
   "outputs": [],
   "source": [
    "with open('./tct_elastic_full.pkl', 'rb') as f:\n",
    "    mesh = pickle.load(f)\n",
    "\n",
    "with open('./u_full.npy', 'rb') as f:\n",
    "    u = np.load(f)\n",
    "\n",
    "with open('./v_full.npy', 'rb') as f:\n",
    "    v = np.load(f)"
   ]
  },
  {
   "cell_type": "code",
   "execution_count": null,
   "metadata": {},
   "outputs": [],
   "source": [
    "u_y = [u_i[1::2] for u_i in u]"
   ]
  },
  {
   "cell_type": "code",
   "execution_count": null,
   "metadata": {},
   "outputs": [],
   "source": [
    "pv.start_xvfb(0.5)  # Start virtual framebuffer for plotting"
   ]
  },
  {
   "cell_type": "code",
   "execution_count": null,
   "metadata": {},
   "outputs": [],
   "source": [
    "viridis = plt.cm.get_cmap(\"viridis\", 25)\n",
    "sargs = dict(\n",
    "    title_font_size=25,\n",
    "    label_font_size=20,\n",
    "    fmt=\"%.2e\",\n",
    "    color=\"black\",\n",
    "    position_x=0.1,\n",
    "    position_y=0.8,\n",
    "    width=0.8,\n",
    "    height=0.1,\n",
    ")"
   ]
  },
  {
   "cell_type": "code",
   "execution_count": null,
   "metadata": {},
   "outputs": [],
   "source": [
    "grid = pv.UnstructuredGrid(*mesh)\n",
    "grid.point_data['scalars'] = u_y[0]\n",
    "grid.set_active_scalars('scalars')\n",
    "\n",
    "with pv.Plotter() as plotter:\n",
    "    plotter.open_gif(\"u_time.gif\")\n",
    "\n",
    "    renderer = plotter.add_mesh(\n",
    "        grid,\n",
    "        show_edges=True,\n",
    "        lighting=False,\n",
    "        cmap=viridis,\n",
    "        scalar_bar_args=sargs,\n",
    "        clim=[0, 5],\n",
    "    )\n",
    "\n",
    "    plotter.view_xy()\n",
    "    plotter.camera.zoom(1.3)\n",
    "\n",
    "    for u_frame in u_y:    \n",
    "        plotter.update_scalars(u_frame, render=False)\n",
    "        plotter.write_frame()"
   ]
  }
 ],
 "metadata": {
  "kernelspec": {
   "display_name": "dolfinx-env",
   "language": "python",
   "name": "python3"
  },
  "language_info": {
   "codemirror_mode": {
    "name": "ipython",
    "version": 3
   },
   "file_extension": ".py",
   "mimetype": "text/x-python",
   "name": "python",
   "nbconvert_exporter": "python",
   "pygments_lexer": "ipython3",
   "version": "3.12.3"
  }
 },
 "nbformat": 4,
 "nbformat_minor": 2
}
