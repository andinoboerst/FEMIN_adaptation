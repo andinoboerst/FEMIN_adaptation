{
 "cells": [
  {
   "cell_type": "code",
   "execution_count": null,
   "metadata": {},
   "outputs": [],
   "source": [
    "import pickle\n",
    "import matplotlib.pyplot as plt\n",
    "from tct.tct_elastic import tct_elastic_predictor_error_comparison\n",
    "from misc.plotting import format_vectors_from_flat, create_mesh_animation"
   ]
  },
  {
   "cell_type": "code",
   "execution_count": 2,
   "metadata": {},
   "outputs": [],
   "source": [
    "with open(\"results/model_v3.pkl\", \"rb\") as f:\n",
    "    predictor = pickle.load(f)"
   ]
  },
  {
   "cell_type": "code",
   "execution_count": null,
   "metadata": {},
   "outputs": [],
   "source": [
    "mesh_pred, u_pred, v_pred, mesh_real, u_real, v_real, error = tct_elastic_predictor_error_comparison(predictor)"
   ]
  },
  {
   "cell_type": "code",
   "execution_count": null,
   "metadata": {},
   "outputs": [],
   "source": [
    "u_tensor_pred = format_vectors_from_flat(u_pred)\n",
    "v_tensor_pred = format_vectors_from_flat(v_pred)\n",
    "u_tensor_real = format_vectors_from_flat(u_real)\n",
    "v_tensor_real = format_vectors_from_flat(v_real)"
   ]
  },
  {
   "cell_type": "code",
   "execution_count": null,
   "metadata": {},
   "outputs": [],
   "source": [
    "with open(\"sim_results_error_v3.pkl\", \"wb\") as f:\n",
    "    pickle.dump((mesh_pred, u_tensor_pred, v_tensor_pred, mesh_real, u_tensor_real, v_tensor_real, error), f)"
   ]
  },
  {
   "cell_type": "code",
   "execution_count": null,
   "metadata": {},
   "outputs": [],
   "source": [
    "with open(\"sim_results_error_v3.pkl\", \"rb\") as f:\n",
    "    mesh_pred, u_tensor_pred, v_tensor_pred, mesh_real, u_tensor_real, v_tensor_real, error = pickle.load(f)"
   ]
  },
  {
   "cell_type": "code",
   "execution_count": null,
   "metadata": {},
   "outputs": [],
   "source": [
    "create_mesh_animation(mesh_pred, u_tensor_pred[:, :, 1], u_tensor_pred, name=\"comparison_prediction\")"
   ]
  },
  {
   "cell_type": "code",
   "execution_count": null,
   "metadata": {},
   "outputs": [],
   "source": [
    "create_mesh_animation(mesh_real, u_tensor_real[:, :, 1], u_tensor_real, name=\"comparison_real\")"
   ]
  },
  {
   "cell_type": "code",
   "execution_count": null,
   "metadata": {},
   "outputs": [],
   "source": [
    "create_mesh_animation(mesh_pred, u_tensor_pred[:, :, 1] - u_tensor_real[:, :, 1], u_tensor_pred, name=\"comparison_error\")"
   ]
  },
  {
   "cell_type": "code",
   "execution_count": null,
   "metadata": {},
   "outputs": [],
   "source": [
    "plt.plot(error)\n",
    "plt.show()"
   ]
  }
 ],
 "metadata": {
  "kernelspec": {
   "display_name": "dolfinx-env",
   "language": "python",
   "name": "python3"
  },
  "language_info": {
   "codemirror_mode": {
    "name": "ipython",
    "version": 3
   },
   "file_extension": ".py",
   "mimetype": "text/x-python",
   "name": "python",
   "nbconvert_exporter": "python",
   "pygments_lexer": "ipython3",
   "version": "3.12.3"
  }
 },
 "nbformat": 4,
 "nbformat_minor": 2
}
