{
 "cells": [
  {
   "cell_type": "code",
   "execution_count": 14,
   "id": "a5283f36",
   "metadata": {},
   "outputs": [
    {
     "ename": "ImportError",
     "evalue": "cannot import name 'VectorElement' from 'dolfinx.fem' (/usr/local/dolfinx-real/lib/python3.12/dist-packages/dolfinx/fem/__init__.py)",
     "output_type": "error",
     "traceback": [
      "\u001b[0;31m---------------------------------------------------------------------------\u001b[0m",
      "\u001b[0;31mImportError\u001b[0m                               Traceback (most recent call last)",
      "Cell \u001b[0;32mIn[14], line 5\u001b[0m\n\u001b[1;32m      3\u001b[0m \u001b[38;5;28;01mimport\u001b[39;00m \u001b[38;5;21;01mufl\u001b[39;00m\n\u001b[1;32m      4\u001b[0m \u001b[38;5;28;01mfrom\u001b[39;00m \u001b[38;5;21;01mdolfinx\u001b[39;00m \u001b[38;5;28;01mimport\u001b[39;00m fem, mesh, io, plot\n\u001b[0;32m----> 5\u001b[0m \u001b[38;5;28;01mfrom\u001b[39;00m \u001b[38;5;21;01mdolfinx\u001b[39;00m\u001b[38;5;21;01m.\u001b[39;00m\u001b[38;5;21;01mfem\u001b[39;00m \u001b[38;5;28;01mimport\u001b[39;00m functionspace, dirichletbc, Constant, VectorElement\n\u001b[1;32m      6\u001b[0m \u001b[38;5;28;01mfrom\u001b[39;00m \u001b[38;5;21;01mdolfinx\u001b[39;00m\u001b[38;5;21;01m.\u001b[39;00m\u001b[38;5;21;01mmesh\u001b[39;00m \u001b[38;5;28;01mimport\u001b[39;00m create_unit_square\n\u001b[1;32m      7\u001b[0m \u001b[38;5;28;01mfrom\u001b[39;00m \u001b[38;5;21;01mpetsc4py\u001b[39;00m \u001b[38;5;28;01mimport\u001b[39;00m PETSc\n",
      "\u001b[0;31mImportError\u001b[0m: cannot import name 'VectorElement' from 'dolfinx.fem' (/usr/local/dolfinx-real/lib/python3.12/dist-packages/dolfinx/fem/__init__.py)"
     ]
    }
   ],
   "source": [
    "from mpi4py import MPI\n",
    "import numpy as np\n",
    "import ufl\n",
    "from dolfinx import fem, mesh, io, plot\n",
    "from dolfinx.fem import functionspace, dirichletbc, Constant\n",
    "from dolfinx.mesh import create_unit_square\n",
    "from petsc4py import PETSc"
   ]
  },
  {
   "cell_type": "code",
   "execution_count": 13,
   "id": "a7fffeb0",
   "metadata": {},
   "outputs": [
    {
     "ename": "NameError",
     "evalue": "name 'VectorElement' is not defined",
     "output_type": "error",
     "traceback": [
      "\u001b[0;31m---------------------------------------------------------------------------\u001b[0m",
      "\u001b[0;31mNameError\u001b[0m                                 Traceback (most recent call last)",
      "Cell \u001b[0;32mIn[13], line 4\u001b[0m\n\u001b[1;32m      1\u001b[0m \u001b[38;5;66;03m# Create mesh (2D unit square)\u001b[39;00m\n\u001b[1;32m      2\u001b[0m msh \u001b[38;5;241m=\u001b[39m create_unit_square(MPI\u001b[38;5;241m.\u001b[39mCOMM_WORLD, \u001b[38;5;241m32\u001b[39m, \u001b[38;5;241m32\u001b[39m)\n\u001b[0;32m----> 4\u001b[0m element \u001b[38;5;241m=\u001b[39m \u001b[43mVectorElement\u001b[49m(\u001b[38;5;124m\"\u001b[39m\u001b[38;5;124mP\u001b[39m\u001b[38;5;124m\"\u001b[39m, mesh\u001b[38;5;241m.\u001b[39mufl_cell(), \u001b[38;5;241m1\u001b[39m)\n\u001b[1;32m      6\u001b[0m \u001b[38;5;66;03m# Define function space for displacement (vector P1 elements)\u001b[39;00m\n\u001b[1;32m      7\u001b[0m V \u001b[38;5;241m=\u001b[39m functionspace(msh, element)\n",
      "\u001b[0;31mNameError\u001b[0m: name 'VectorElement' is not defined"
     ]
    }
   ],
   "source": [
    "# Create mesh (2D unit square)\n",
    "msh = create_unit_square(MPI.COMM_WORLD, 32, 32)\n",
    "\n",
    "# Define function space for displacement (vector P1 elements)\n",
    "V = functionspace(msh, (\"P\", 1))\n",
    "\n",
    "# Trial and test functions\n",
    "u = ufl.TrialFunction(V)\n",
    "v = ufl.TestFunction(V)"
   ]
  },
  {
   "cell_type": "code",
   "execution_count": 6,
   "id": "c0287e40",
   "metadata": {},
   "outputs": [],
   "source": [
    "# Material parameters\n",
    "rho = fem.Constant(msh, PETSc.ScalarType(1.0))  # Density\n",
    "mu = fem.Constant(msh, PETSc.ScalarType(1.0))   # Shear modulus\n",
    "lambda_ = fem.Constant(msh, PETSc.ScalarType(1.0))  # Lamé parameter\n",
    "\n",
    "# Strain and stress tensors\n",
    "def epsilon(u):\n",
    "    return 0.5 * (ufl.grad(u) + ufl.grad(u).T)\n",
    "\n",
    "def sigma(u):\n",
    "    return lambda_ * ufl.div(u) * ufl.Identity(2) + 2 * mu * epsilon(u)"
   ]
  },
  {
   "cell_type": "code",
   "execution_count": 7,
   "id": "17b5195a",
   "metadata": {},
   "outputs": [
    {
     "ename": "ValueError",
     "evalue": "Transposed is only defined for rank 2 tensors.",
     "output_type": "error",
     "traceback": [
      "\u001b[0;31m---------------------------------------------------------------------------\u001b[0m",
      "\u001b[0;31mValueError\u001b[0m                                Traceback (most recent call last)",
      "Cell \u001b[0;32mIn[7], line 23\u001b[0m\n\u001b[1;32m     21\u001b[0m \u001b[38;5;66;03m# Weak form of the ODE\u001b[39;00m\n\u001b[1;32m     22\u001b[0m a \u001b[38;5;241m=\u001b[39m ufl\u001b[38;5;241m.\u001b[39mTrialFunction(V)\n\u001b[0;32m---> 23\u001b[0m F \u001b[38;5;241m=\u001b[39m rho \u001b[38;5;241m*\u001b[39m ufl\u001b[38;5;241m.\u001b[39minner(a, v) \u001b[38;5;241m*\u001b[39m ufl\u001b[38;5;241m.\u001b[39mdx \u001b[38;5;241m+\u001b[39m ufl\u001b[38;5;241m.\u001b[39minner(\u001b[43msigma\u001b[49m\u001b[43m(\u001b[49m\u001b[43mu\u001b[49m\u001b[43m)\u001b[49m, epsilon(v)) \u001b[38;5;241m*\u001b[39m ufl\u001b[38;5;241m.\u001b[39mdx \u001b[38;5;241m-\u001b[39m ufl\u001b[38;5;241m.\u001b[39minner(f_ext \u001b[38;5;241m+\u001b[39m f_NN, v) \u001b[38;5;241m*\u001b[39m ufl\u001b[38;5;241m.\u001b[39mdx\n\u001b[1;32m     25\u001b[0m \u001b[38;5;66;03m# Newmark-beta time integration\u001b[39;00m\n\u001b[1;32m     26\u001b[0m a_new \u001b[38;5;241m=\u001b[39m a\n",
      "Cell \u001b[0;32mIn[6], line 11\u001b[0m, in \u001b[0;36msigma\u001b[0;34m(u)\u001b[0m\n\u001b[1;32m     10\u001b[0m \u001b[38;5;28;01mdef\u001b[39;00m \u001b[38;5;21msigma\u001b[39m(u):\n\u001b[0;32m---> 11\u001b[0m     \u001b[38;5;28;01mreturn\u001b[39;00m lambda_ \u001b[38;5;241m*\u001b[39m ufl\u001b[38;5;241m.\u001b[39mdiv(u) \u001b[38;5;241m*\u001b[39m ufl\u001b[38;5;241m.\u001b[39mIdentity(\u001b[38;5;241m2\u001b[39m) \u001b[38;5;241m+\u001b[39m \u001b[38;5;241m2\u001b[39m \u001b[38;5;241m*\u001b[39m mu \u001b[38;5;241m*\u001b[39m \u001b[43mepsilon\u001b[49m\u001b[43m(\u001b[49m\u001b[43mu\u001b[49m\u001b[43m)\u001b[49m\n",
      "Cell \u001b[0;32mIn[6], line 8\u001b[0m, in \u001b[0;36mepsilon\u001b[0;34m(u)\u001b[0m\n\u001b[1;32m      7\u001b[0m \u001b[38;5;28;01mdef\u001b[39;00m \u001b[38;5;21mepsilon\u001b[39m(u):\n\u001b[0;32m----> 8\u001b[0m     \u001b[38;5;28;01mreturn\u001b[39;00m \u001b[38;5;241m0.5\u001b[39m \u001b[38;5;241m*\u001b[39m (ufl\u001b[38;5;241m.\u001b[39mgrad(u) \u001b[38;5;241m+\u001b[39m \u001b[43mufl\u001b[49m\u001b[38;5;241;43m.\u001b[39;49m\u001b[43mgrad\u001b[49m\u001b[43m(\u001b[49m\u001b[43mu\u001b[49m\u001b[43m)\u001b[49m\u001b[38;5;241;43m.\u001b[39;49m\u001b[43mT\u001b[49m)\n",
      "File \u001b[0;32m/dolfinx-env/lib/python3.12/site-packages/ufl/exproperators.py:365\u001b[0m, in \u001b[0;36m_transpose\u001b[0;34m(self)\u001b[0m\n\u001b[1;32m    359\u001b[0m \u001b[38;5;28;01mdef\u001b[39;00m \u001b[38;5;21m_transpose\u001b[39m(\u001b[38;5;28mself\u001b[39m):\n\u001b[1;32m    360\u001b[0m \u001b[38;5;250m    \u001b[39m\u001b[38;5;124;03m\"\"\"Transpose a rank-2 tensor expression.\u001b[39;00m\n\u001b[1;32m    361\u001b[0m \n\u001b[1;32m    362\u001b[0m \u001b[38;5;124;03m    For more general transpose operations of higher order tensor\u001b[39;00m\n\u001b[1;32m    363\u001b[0m \u001b[38;5;124;03m    expressions, use indexing and Tensor.\u001b[39;00m\n\u001b[1;32m    364\u001b[0m \u001b[38;5;124;03m    \"\"\"\u001b[39;00m\n\u001b[0;32m--> 365\u001b[0m     \u001b[38;5;28;01mreturn\u001b[39;00m \u001b[43mTransposed\u001b[49m\u001b[43m(\u001b[49m\u001b[38;5;28;43mself\u001b[39;49m\u001b[43m)\u001b[49m\n",
      "File \u001b[0;32m/dolfinx-env/lib/python3.12/site-packages/ufl/tensoralgebra.py:106\u001b[0m, in \u001b[0;36mTransposed.__init__\u001b[0;34m(self, A)\u001b[0m\n\u001b[1;32m    104\u001b[0m CompoundTensorOperator\u001b[38;5;241m.\u001b[39m\u001b[38;5;21m__init__\u001b[39m(\u001b[38;5;28mself\u001b[39m, (A,))\n\u001b[1;32m    105\u001b[0m \u001b[38;5;28;01mif\u001b[39;00m \u001b[38;5;28mlen\u001b[39m(A\u001b[38;5;241m.\u001b[39mufl_shape) \u001b[38;5;241m!=\u001b[39m \u001b[38;5;241m2\u001b[39m:\n\u001b[0;32m--> 106\u001b[0m     \u001b[38;5;28;01mraise\u001b[39;00m \u001b[38;5;167;01mValueError\u001b[39;00m(\u001b[38;5;124m\"\u001b[39m\u001b[38;5;124mTransposed is only defined for rank 2 tensors.\u001b[39m\u001b[38;5;124m\"\u001b[39m)\n",
      "\u001b[0;31mValueError\u001b[0m: Transposed is only defined for rank 2 tensors."
     ]
    }
   ],
   "source": [
    "# Time parameters\n",
    "T = 3.0           # Total simulation time\n",
    "dt = 0.01         # Time step\n",
    "t = 0.0           # Initial time\n",
    "\n",
    "# Newmark-beta parameters\n",
    "beta = 0.25\n",
    "gamma = 0.5\n",
    "\n",
    "# Previous displacement, velocity, acceleration\n",
    "u_prev = fem.Function(V)\n",
    "v_prev = fem.Function(V)\n",
    "a_prev = fem.Function(V)\n",
    "\n",
    "# External force (gravity-like)\n",
    "f_ext = fem.Constant(msh, PETSc.ScalarType((0.0, 0.0)))\n",
    "\n",
    "# Neural network force (placeholder)\n",
    "f_NN = fem.Function(V)  # Replace with your NN prediction\n",
    "\n",
    "# Weak form of the ODE\n",
    "a = ufl.TrialFunction(V)\n",
    "F = rho * ufl.inner(a, v) * ufl.dx + ufl.inner(sigma(u), epsilon(v)) * ufl.dx - ufl.inner(f_ext + f_NN, v) * ufl.dx\n",
    "\n",
    "# Newmark-beta time integration\n",
    "a_new = a\n",
    "u_new = u_prev + dt * v_prev + (dt**2 / 2) * ((1 - 2 * beta) * a_prev + 2 * beta * a_new)\n",
    "v_new = v_prev + dt * ((1 - gamma) * a_prev + gamma * a_new)\n",
    "\n",
    "# Update variational form\n",
    "F_new = ufl.replace(F, {a: a_new, u: u_new})\n",
    "a_sol = fem.Function(V)"
   ]
  },
  {
   "cell_type": "code",
   "execution_count": null,
   "id": "c0a4611f",
   "metadata": {},
   "outputs": [],
   "source": [
    "# Compile forms\n",
    "a_form = fem.form(ufl.lhs(F_new))\n",
    "L_form = fem.form(ufl.rhs(F_new))\n",
    "\n",
    "# Define solver\n",
    "A = fem.petsc.assemble_matrix(a_form)\n",
    "A.assemble()\n",
    "b = fem.petsc.create_vector(L_form)\n",
    "\n",
    "solver = PETSc.KSP().create(msh.comm)\n",
    "solver.setType(PETSc.KSP.Type.PREONLY)\n",
    "solver.getPC().setType(PETSc.PC.Type.LU)"
   ]
  },
  {
   "cell_type": "code",
   "execution_count": null,
   "id": "8865fbd5",
   "metadata": {},
   "outputs": [],
   "source": [
    "# Time-stepping loop\n",
    "xdmf = io.XDMFFile(msh.comm, \"displacement.xdmf\", \"w\")\n",
    "xdmf.write_mesh(msh)\n",
    "\n",
    "while t <= T:\n",
    "    # Update NN force (replace with your model)\n",
    "    # Example: f_NN.x.array[:] = get_nn_force(u_prev.x.array, v_prev.x.array)\n",
    "    \n",
    "    # Assemble RHS\n",
    "    with b.localForm() as b_loc:\n",
    "        b_loc.set(0.0)\n",
    "    fem.petsc.assemble_vector(b, L_form)\n",
    "    \n",
    "    # Solve for acceleration\n",
    "    solver.solve(b, a_sol.vector)\n",
    "    a_sol.x.scatter_forward()\n",
    "    \n",
    "    # Update displacement and velocity\n",
    "    u_new_expr = u_prev + dt * v_prev + (dt**2 / 2) * ((1 - 2 * beta) * a_prev + 2 * beta * a_sol)\n",
    "    v_new_expr = v_prev + dt * ((1 - gamma) * a_prev + gamma * a_sol)\n",
    "    \n",
    "    # Assign to functions\n",
    "    u_prev.x.array[:] = u_new_expr.x.array\n",
    "    v_prev.x.array[:] = v_new_expr.x.array\n",
    "    a_prev.x.array[:] = a_sol.x.array\n",
    "    \n",
    "    # Write to file\n",
    "    xdmf.write_function(u_prev, t)\n",
    "    \n",
    "    t += dt\n",
    "\n",
    "xdmf.close()"
   ]
  },
  {
   "cell_type": "code",
   "execution_count": null,
   "id": "cd43b815",
   "metadata": {},
   "outputs": [],
   "source": [
    "import torch\n",
    "\n",
    "class ForcePredictor(torch.nn.Module):\n",
    "    # Your NN architecture here\n",
    "    ...\n",
    "\n",
    "model = ForcePredictor()\n",
    "model.load_state_dict(torch.load(\"model.pth\"))\n",
    "\n",
    "def get_nn_force(u, v):\n",
    "    # Convert dolfinx data to numpy\n",
    "    u_np = u_prev.x.array\n",
    "    v_np = v_prev.x.array\n",
    "    \n",
    "    # Predict force (example using PyTorch)\n",
    "    with torch.no_grad():\n",
    "        input = torch.tensor(np.concatenate([u_np, v_np]), dtype=torch.float32)\n",
    "        f_nn_np = model(input).numpy()\n",
    "    \n",
    "    # Map to dolfinx function\n",
    "    f_NN.x.array[:] = f_nn_np\n",
    "    return f_NN"
   ]
  },
  {
   "cell_type": "code",
   "execution_count": null,
   "id": "a9c4c3d3",
   "metadata": {},
   "outputs": [],
   "source": [
    "# Define boundary (right edge)\n",
    "def boundary(x):\n",
    "    return np.isclose(x[0], 1.0)\n",
    "\n",
    "# Apply Dirichlet BC (homogeneous)\n",
    "tdim = msh.topology.dim\n",
    "msh.topology.create_connectivity(tdim-1, tdim)\n",
    "boundary_facets = mesh.locate_entities_boundary(msh, tdim-1, boundary)\n",
    "bc = dirichletbc(PETSc.ScalarType((0.0, 0.0)), boundary_facets, V)"
   ]
  },
  {
   "cell_type": "code",
   "execution_count": null,
   "id": "cb1e5250",
   "metadata": {},
   "outputs": [],
   "source": []
  },
  {
   "cell_type": "code",
   "execution_count": null,
   "id": "c00f9f01",
   "metadata": {},
   "outputs": [],
   "source": []
  },
  {
   "cell_type": "code",
   "execution_count": null,
   "id": "4d600f5b",
   "metadata": {},
   "outputs": [],
   "source": []
  },
  {
   "cell_type": "code",
   "execution_count": null,
   "id": "abf2f0f6",
   "metadata": {},
   "outputs": [],
   "source": []
  },
  {
   "cell_type": "code",
   "execution_count": null,
   "id": "6ef8009b",
   "metadata": {},
   "outputs": [],
   "source": []
  },
  {
   "cell_type": "code",
   "execution_count": null,
   "id": "fbba060f",
   "metadata": {},
   "outputs": [],
   "source": []
  },
  {
   "cell_type": "code",
   "execution_count": null,
   "id": "e41165c5",
   "metadata": {},
   "outputs": [],
   "source": []
  }
 ],
 "metadata": {
  "jupytext": {
   "formats": "ipynb"
  },
  "kernelspec": {
   "display_name": "Python 3 (ipykernel)",
   "language": "python",
   "name": "python3"
  },
  "language_info": {
   "codemirror_mode": {
    "name": "ipython",
    "version": 3
   },
   "file_extension": ".py",
   "mimetype": "text/x-python",
   "name": "python",
   "nbconvert_exporter": "python",
   "pygments_lexer": "ipython3",
   "version": "3.12.3"
  }
 },
 "nbformat": 4,
 "nbformat_minor": 5
}
