{
 "cells": [
  {
   "cell_type": "code",
   "execution_count": 1,
   "metadata": {},
   "outputs": [],
   "source": [
    "import numpy as np\n",
    "import pyvista\n",
    "import matplotlib.pyplot as plt\n",
    "\n",
    "from mpi4py import MPI\n",
    "from dolfinx import mesh, la, fem, plot\n",
    "\n",
    "import dolfinx.fem.petsc as petsc\n",
    "from petsc4py import PETSc\n",
    "\n",
    "from ufl import SpatialCoordinate, TrialFunction, TestFunction, inner, dx, dot, grad, sym, Identity, tr, system, as_vector, sqrt\n",
    "\n",
    "from dolfinx.io import XDMFFile"
   ]
  },
  {
   "cell_type": "markdown",
   "metadata": {},
   "source": [
    "# Create Mesh"
   ]
  },
  {
   "cell_type": "code",
   "execution_count": 2,
   "metadata": {},
   "outputs": [],
   "source": [
    "# Create a rectangular mesh: 100mm x 50mm with 20x10 divisions\n",
    "domain = mesh.create_rectangle(MPI.COMM_WORLD, [[0, 0], [100, 50]], [20, 10])"
   ]
  },
  {
   "cell_type": "code",
   "execution_count": 3,
   "metadata": {},
   "outputs": [],
   "source": [
    "\n",
    "\n",
    "pyvista.start_xvfb()\n",
    "grid = pyvista.UnstructuredGrid(*plot.vtk_mesh(domain))\n",
    "plotter = pyvista.Plotter(window_size=(120, 60))\n",
    "renderer = plotter.add_mesh(grid, show_edges=True)"
   ]
  },
  {
   "cell_type": "code",
   "execution_count": 4,
   "metadata": {},
   "outputs": [],
   "source": [
    "plotter.view_xy()\n",
    "plotter.camera.zoom(2)\n",
    "plotter.export_html(\"./tct.html\")"
   ]
  },
  {
   "cell_type": "code",
   "execution_count": 5,
   "metadata": {},
   "outputs": [
    {
     "data": {
      "text/html": [
       "<iframe src='./tct.html' scrolling=\"no\" width=\"800px\" height=\"400px\"></iframe> <!--  # noqa, -->\n"
      ],
      "text/plain": [
       "<IPython.core.display.HTML object>"
      ]
     },
     "metadata": {},
     "output_type": "display_data"
    }
   ],
   "source": [
    "%%html\n",
    "<iframe src='./tct.html' scrolling=\"no\" width=\"800px\" height=\"400px\"></iframe> <!--  # noqa, -->"
   ]
  },
  {
   "cell_type": "code",
   "execution_count": null,
   "metadata": {},
   "outputs": [],
   "source": []
  },
  {
   "cell_type": "code",
   "execution_count": 6,
   "metadata": {},
   "outputs": [],
   "source": [
    "# Define function space for displacement\n",
    "V = fem.functionspace(domain, (\"CG\", 1, (2,)))\n"
   ]
  },
  {
   "cell_type": "code",
   "execution_count": 7,
   "metadata": {},
   "outputs": [],
   "source": [
    "# Locate DOFs on the left edge (x = 0)\n",
    "def left_edge(x):\n",
    "    return np.isclose(x[0], 0)\n",
    "\n",
    "# Locate DOFs on the top edge (y = 50)\n",
    "def top_edge(x):\n",
    "    return np.isclose(x[1], 50)\n",
    "\n",
    "# Locate DOFs on the bottom edge (y = 0) for sinusoidal load\n",
    "def bottom_edge(x):\n",
    "    return np.isclose(x[1], 0)\n",
    "\n",
    "# Get boundary DOFs\n",
    "left_dofs = fem.locate_dofs_geometrical(V, left_edge)\n",
    "top_dofs = fem.locate_dofs_geometrical(V, top_edge)\n",
    "bottom_dofs = fem.locate_dofs_geometrical(V, bottom_edge)\n"
   ]
  },
  {
   "cell_type": "code",
   "execution_count": 8,
   "metadata": {},
   "outputs": [],
   "source": [
    "# Fixed zero displacement for left and top edges\n",
    "zero_displacement = fem.Constant(domain, PETSc.ScalarType(0.0))\n",
    "\n",
    "# Time-dependent displacement at the bottom\n",
    "t = 0  # Initialize time\n",
    "amp = 5.0  # Amplitude in mm\n",
    "omega = 5000  # Frequency in Hz\n",
    "sinusoidal_disp = fem.Constant(domain, PETSc.ScalarType(0.0))\n",
    "\n",
    "def update_sinusoidal_disp(t):\n",
    "    sinusoidal_disp.value = - amp * np.sin(omega * t)\n",
    "\n",
    "# Apply boundary conditions\n",
    "# bc_left = fem.dirichletbc(zero_displacement, left_dofs, V.sub(0))   # Fixed left\n",
    "bc_top = fem.dirichletbc(zero_displacement, top_dofs, V.sub(1))     # Fixed top\n",
    "bc_bottom = fem.dirichletbc(sinusoidal_disp, bottom_dofs, V.sub(1)) # Sinusoidal\n",
    "\n",
    "# bcs = [bc_left, bc_top, bc_bottom]\n",
    "bcs = [bc_top, bc_bottom]"
   ]
  },
  {
   "cell_type": "code",
   "execution_count": 9,
   "metadata": {},
   "outputs": [],
   "source": [
    "dt = fem.Constant(domain, 1e-5)\n",
    "\n",
    "# Define trial and test functions\n",
    "u = TrialFunction(V)\n",
    "v = TestFunction(V)\n",
    "\n",
    "f = fem.Constant(domain, (0.0, 0.0))\n",
    "\n",
    "def epsilon(u):\n",
    "    return 0.5 * sym(grad(u))\n",
    "\n",
    "def sigma(u):\n",
    "    return lambda_ * tr(epsilon(u)) * Identity(2) + 2 * mu * epsilon(u)\n",
    "\n",
    "# Define material properties\n",
    "E = 210e9  # Young's modulus (Pa)\n",
    "nu = 0.3   # Poisson's ratio\n",
    "rho = 7850 # Density (kg/m³)\n",
    "\n",
    "# Define stress-strain relation (Plane stress assumption)\n",
    "lambda_ = (E * nu) / ((1 + nu) * (1 - 2 * nu))  # First Lame parameter\n",
    "mu = E / (2 * (1 + nu))  # Shear modulus\n",
    "\n",
    "\n",
    "# Define weak form\n",
    "F = inner(sigma(u), epsilon(v)) * dx\n",
    "F -= dt * inner(f, v) * dx\n",
    "\n",
    "a, L = system(F)\n",
    "\n",
    "\n",
    "# # Define trial function for bilinear form\n",
    "# du = TrialFunction(V)\n",
    "\n",
    "# # Define the bilinear form (stiffness matrix)\n",
    "# a = inner(sigma(du), epsilon(v)) * dx\n",
    "\n",
    "# L = fem.form(inner(fem.Constant(domain, PETSc.ScalarType((0.0, 0.0))), v) * dx)\n",
    "# # L = inner(f_ext, v) * dx"
   ]
  },
  {
   "cell_type": "code",
   "execution_count": 10,
   "metadata": {},
   "outputs": [],
   "source": [
    "compiled_a = fem.form(a)\n",
    "A = petsc.assemble_matrix(compiled_a, bcs=bcs)\n",
    "A.assemble()\n",
    "\n",
    "compiled_L = fem.form(L)\n",
    "b = fem.Function(V)"
   ]
  },
  {
   "cell_type": "code",
   "execution_count": 11,
   "metadata": {},
   "outputs": [],
   "source": [
    "solver = PETSc.KSP().create(domain.comm)\n",
    "solver.setOperators(A)\n",
    "solver.setType(PETSc.KSP.Type.CG)\n",
    "pc = solver.getPC()\n",
    "pc.setType(PETSc.PC.Type.HYPRE)\n",
    "pc.setHYPREType(\"boomeramg\")"
   ]
  },
  {
   "cell_type": "code",
   "execution_count": null,
   "metadata": {},
   "outputs": [],
   "source": []
  },
  {
   "cell_type": "code",
   "execution_count": 12,
   "metadata": {},
   "outputs": [],
   "source": [
    "T = 0.003  # Total time\n",
    "\n",
    "# Create functions for displacement, velocity, and acceleration\n",
    "u_n = fem.Function(V)  # Displacement at time step n\n",
    "v_n = fem.Function(V)  # Velocity at time step n\n",
    "a_n = fem.Function(V)  # Acceleration at time step n\n",
    "\n",
    "gamma = fem.Function(V) # Plastic multiplier\n",
    "\n",
    "u_h = fem.Function(V)"
   ]
  },
  {
   "cell_type": "code",
   "execution_count": null,
   "metadata": {},
   "outputs": [],
   "source": []
  },
  {
   "cell_type": "code",
   "execution_count": 13,
   "metadata": {},
   "outputs": [],
   "source": [
    "pyvista.start_xvfb(0.5)  # Start virtual framebuffer for plotting\n",
    "plotter = pyvista.Plotter()\n",
    "plotter.open_gif(\"u_time.gif\")"
   ]
  },
  {
   "cell_type": "code",
   "execution_count": 14,
   "metadata": {},
   "outputs": [],
   "source": [
    "topology, cells, geometry = plot.vtk_mesh(V)\n",
    "grid = pyvista.UnstructuredGrid(topology, cells, geometry)\n",
    "grid.point_data[\"u_h\"] = u_h.x.array[1::2]"
   ]
  },
  {
   "cell_type": "code",
   "execution_count": 15,
   "metadata": {},
   "outputs": [],
   "source": [
    "viridis = plt.cm.get_cmap(\"viridis\", 25)\n",
    "sargs = dict(\n",
    "    title_font_size=25,\n",
    "    label_font_size=20,\n",
    "    fmt=\"%.2e\",\n",
    "    color=\"black\",\n",
    "    position_x=0.1,\n",
    "    position_y=0.8,\n",
    "    width=0.8,\n",
    "    height=0.1,\n",
    ")"
   ]
  },
  {
   "cell_type": "code",
   "execution_count": 16,
   "metadata": {},
   "outputs": [],
   "source": [
    "renderer = plotter.add_mesh(\n",
    "    grid,\n",
    "    show_edges=True,\n",
    "    lighting=False,\n",
    "    cmap=viridis,\n",
    "    scalar_bar_args=sargs,\n",
    "    clim=[0, 5],\n",
    ")"
   ]
  },
  {
   "cell_type": "code",
   "execution_count": 17,
   "metadata": {},
   "outputs": [],
   "source": [
    "plotter.view_xy()\n",
    "plotter.camera.zoom(1.3)"
   ]
  },
  {
   "cell_type": "code",
   "execution_count": null,
   "metadata": {},
   "outputs": [],
   "source": []
  },
  {
   "cell_type": "code",
   "execution_count": null,
   "metadata": {},
   "outputs": [],
   "source": []
  },
  {
   "cell_type": "code",
   "execution_count": 18,
   "metadata": {},
   "outputs": [
    {
     "name": "stderr",
     "output_type": "stream",
     "text": [
      "error: XDG_RUNTIME_DIR is invalid or not set in the environment.\n",
      "MESA: error: ZINK: failed to choose pdev\n",
      "glx: failed to create drisw screen\n"
     ]
    }
   ],
   "source": [
    "u_n.x.array[:] = 0  # ✅ Zero initial displacement\n",
    "v_n.x.array[:] = 0  # ✅ Zero initial velocity\n",
    "a_n.x.array[:] = 0  # ✅ Zero initial acceleration\n",
    "\n",
    "\n",
    "with XDMFFile(MPI.COMM_WORLD, \"solution.xdmf\", \"w\") as xdmf:\n",
    "    xdmf.write_mesh(domain)\n",
    "    \n",
    "    # Time-stepping loop\n",
    "    while t < T:\n",
    "        # Update boundary condition\n",
    "        update_sinusoidal_disp(t)\n",
    "    \n",
    "        # Assemble RHS\n",
    "        b.x.array[:] = 0\n",
    "        petsc.assemble_vector(b.x.petsc_vec, compiled_L)\n",
    "    \n",
    "        # Apply boundary condition\n",
    "        petsc.apply_lifting(b.x.petsc_vec, [compiled_a], [bcs])\n",
    "        b.x.scatter_reverse(la.InsertMode.add)\n",
    "        fem.petsc.set_bc(b.x.petsc_vec, bcs)\n",
    "    \n",
    "        # Update acceleration, velocity, displacement\n",
    "        a_n.x.array[:] = b.x.array[:]\n",
    "        v_n.x.array[:] += dt.value * a_n.x.array[:]  \n",
    "        u_n.x.array[:] += dt.value * v_n.x.array[:]  \n",
    "    \n",
    "        # Apply BCs to displacement after update\n",
    "        fem.set_bc(u_n.x.array[:], bcs)  # Apply BCs to the PETSc vector\n",
    "    \n",
    "        # Assemble force vector (explicit method does NOT use A)\n",
    "        # b = fem.assemble_vector(fem.form(L))  # Correct RHS assembly\n",
    "        # fem.set_bc(b, bcs, x0=None)  # Apply BCs to force vector\n",
    "    \n",
    "        # Solve linear problem\n",
    "        # solver.solve(b.x.petsc_vec, u_h.x.petsc_vec)\n",
    "        # u_h.x.scatter_forward()\n",
    "    \n",
    "        # Update un\n",
    "        # u_n.x.array[:] = u_h.x.array\n",
    "    \n",
    "        # Update acceleration (assuming lumped mass M = I)\n",
    "        # a_n.x.array[:] = b.array[:] \n",
    "    \n",
    "        # # Update velocity using explicit integration\n",
    "        # v_n.x.array[:] += dt * a_n.x.array[:]\n",
    "    \n",
    "        # # Update displacement using explicit integration\n",
    "        # u_n.x.array[:] += dt * v_n.x.array[:]\n",
    "    \n",
    "        # # Apply BCs to displacement after update\n",
    "        # fem.set_bc(u_n.x, bcs)\n",
    "    \n",
    "        xdmf.write_function(u_n, t)\n",
    "    \n",
    "        plotter.update_scalars(u_n.x.array[1::2], render=False)\n",
    "        plotter.write_frame()\n",
    "    \n",
    "        # Update time\n",
    "        t += dt.value\n"
   ]
  },
  {
   "cell_type": "code",
   "execution_count": 19,
   "metadata": {},
   "outputs": [],
   "source": [
    "plotter.close()"
   ]
  },
  {
   "cell_type": "code",
   "execution_count": null,
   "metadata": {},
   "outputs": [],
   "source": []
  },
  {
   "cell_type": "code",
   "execution_count": 20,
   "metadata": {},
   "outputs": [],
   "source": [
    "w_grid = pyvista.UnstructuredGrid(*plot.vtk_mesh(domain))\n",
    "w_plotter = pyvista.Plotter(window_size=(800, 400))\n",
    "w_grid.point_data[\"u_h_y\"] = u_n.x.array[1::2].real\n",
    "w_plotter.add_mesh(w_grid, show_edges=True, cmap=viridis, scalar_bar_args=sargs)\n",
    "w_plotter.view_xy()\n",
    "w_plotter.export_html(\"./w.html\")"
   ]
  },
  {
   "cell_type": "code",
   "execution_count": 21,
   "metadata": {},
   "outputs": [
    {
     "data": {
      "text/html": [
       "<iframe src='./w.html' scrolling=\"no\" width=\"800px\" height=\"400px\"></iframe> <!--  # noqa, -->\n"
      ],
      "text/plain": [
       "<IPython.core.display.HTML object>"
      ]
     },
     "metadata": {},
     "output_type": "display_data"
    }
   ],
   "source": [
    "%%html\n",
    "<iframe src='./w.html' scrolling=\"no\" width=\"800px\" height=\"400px\"></iframe> <!--  # noqa, -->"
   ]
  },
  {
   "cell_type": "code",
   "execution_count": null,
   "metadata": {},
   "outputs": [],
   "source": []
  },
  {
   "cell_type": "code",
   "execution_count": 22,
   "metadata": {},
   "outputs": [],
   "source": [
    "# ✅ Ensure the mesh is passed correctly\n",
    "# with XDMFFile(MPI.COMM_WORLD, \"solution.xdmf\", \"w\") as xdmf:\n",
    "#     xdmf.write_mesh(domain)  # ✅ First write the mesh\n",
    "#     xdmf.write_function(u_n)  # ✅ Then write the function"
   ]
  },
  {
   "cell_type": "code",
   "execution_count": null,
   "metadata": {},
   "outputs": [],
   "source": []
  },
  {
   "cell_type": "code",
   "execution_count": 23,
   "metadata": {},
   "outputs": [
    {
     "data": {
      "text/plain": [
       "array([-3.43721860e+00, -3.43721860e+00, -1.01390787e+05,  4.34531946e+04,\n",
       "       -3.43721860e+00, -1.44843982e+05, -1.15875185e+05, -1.88297176e+05,\n",
       "       -3.43721860e+00, -2.75203566e+05,  1.44843982e+04, -5.79375927e+04,\n",
       "       -2.02781575e+05, -3.43721860e+00, -1.44843982e+05,  0.00000000e+00,\n",
       "       -2.75203566e+05,  7.24219909e+04, -7.24219909e+04, -3.43721860e+00,\n",
       "        7.24219909e+04, -1.30359584e+05,  1.44843982e+04, -1.30359584e+05,\n",
       "       -1.30359584e+05,  1.44843982e+04, -3.43721860e+00, -7.24219909e+04,\n",
       "        2.89687964e+04, -1.01390787e+05,  1.44843982e+04,  1.44843982e+04,\n",
       "        0.00000000e+00, -7.24219909e+04, -3.43721860e+00, -1.44843982e+05,\n",
       "        0.00000000e+00, -7.24219909e+04,  2.25801468e-12, -2.02781575e+05,\n",
       "        0.00000000e+00,  0.00000000e+00, -2.17265973e+05, -3.43721860e+00,\n",
       "       -7.24219909e+04,  0.00000000e+00, -2.02781575e+05,  7.24219909e+04,\n",
       "       -1.15875185e+05,  1.44843982e+05, -2.02781575e+05,  7.24219909e+04,\n",
       "       -1.44843982e+05, -3.43721860e+00,  0.00000000e+00,  0.00000000e+00,\n",
       "        1.44843982e+05, -2.60719167e+05,  1.44843982e+04, -1.30359584e+05,\n",
       "       -2.02781575e+05,  7.24219909e+04,  0.00000000e+00, -7.24219909e+04,\n",
       "       -3.43721860e+00,  0.00000000e+00,  0.00000000e+00, -7.24219909e+04,\n",
       "        7.24219909e+04, -5.79375927e+04,  0.00000000e+00,  0.00000000e+00,\n",
       "       -7.24219909e+04,  0.00000000e+00,  0.00000000e+00,  0.00000000e+00,\n",
       "       -3.43721860e+00, -1.44843982e+05, -5.79375927e+04,  2.18157768e-12,\n",
       "       -4.05563149e+05,  1.44843982e+05, -5.79375927e+04,  7.24219909e+04,\n",
       "        0.00000000e+00,  0.00000000e+00,  0.00000000e+00, -3.43721860e+00,\n",
       "        4.34531946e+04, -1.01390787e+05,  7.24219909e+04, -2.02781575e+05,\n",
       "        0.00000000e+00,  0.00000000e+00, -2.02781575e+05,  7.24219909e+04,\n",
       "       -5.79375927e+04,  0.00000000e+00, -3.43721860e+00, -7.24219909e+04,\n",
       "       -2.02781575e+05,  3.57708931e-12,  0.00000000e+00,  0.00000000e+00,\n",
       "       -7.24219909e+04,  0.00000000e+00,  4.34531946e+04, -2.89687964e+04,\n",
       "        0.00000000e+00, -3.43721860e+00,  0.00000000e+00,  0.00000000e+00,\n",
       "        0.00000000e+00,  0.00000000e+00,  0.00000000e+00,  0.00000000e+00,\n",
       "        0.00000000e+00,  0.00000000e+00, -2.60719167e+05,  0.00000000e+00,\n",
       "       -3.43721860e+00, -1.06111050e-11,  0.00000000e+00, -7.24219909e+04,\n",
       "        0.00000000e+00,  0.00000000e+00,  3.57708931e-12, -5.79375927e+04,\n",
       "        2.89687964e+04, -2.89687964e+04,  0.00000000e+00, -3.43721860e+00,\n",
       "       -7.24219909e+04,  0.00000000e+00,  0.00000000e+00,  0.00000000e+00,\n",
       "        0.00000000e+00,  0.00000000e+00,  0.00000000e+00,  0.00000000e+00,\n",
       "       -5.79375927e+04,  0.00000000e+00, -3.43721860e+00, -1.09117329e-11,\n",
       "       -5.79375927e+04,  5.13494611e-12,  0.00000000e+00,  0.00000000e+00,\n",
       "        0.00000000e+00,  0.00000000e+00,  2.89687964e+04, -2.89687964e+04,\n",
       "        0.00000000e+00, -3.43721860e+00,  3.57708931e-12, -2.02781575e+05,\n",
       "        0.00000000e+00,  0.00000000e+00,  0.00000000e+00,  0.00000000e+00,\n",
       "        0.00000000e+00,  0.00000000e+00,  0.00000000e+00,  0.00000000e+00,\n",
       "       -3.43721860e+00, -7.24219909e+04, -5.79375927e+04,  5.13494611e-12,\n",
       "        0.00000000e+00,  0.00000000e+00,  0.00000000e+00,  0.00000000e+00,\n",
       "        0.00000000e+00,  0.00000000e+00,  0.00000000e+00, -3.43721860e+00,\n",
       "        7.24219909e+04, -2.02781575e+05,  0.00000000e+00,  0.00000000e+00,\n",
       "        0.00000000e+00,  0.00000000e+00,  0.00000000e+00,  0.00000000e+00,\n",
       "        0.00000000e+00,  0.00000000e+00, -2.02781575e+05,  7.24219909e+04,\n",
       "       -5.79375927e+04,  7.24219909e+04,  0.00000000e+00,  0.00000000e+00,\n",
       "        0.00000000e+00,  0.00000000e+00,  0.00000000e+00,  0.00000000e+00,\n",
       "        4.34531946e+04, -2.89687964e+04,  0.00000000e+00,  0.00000000e+00,\n",
       "        0.00000000e+00,  0.00000000e+00,  0.00000000e+00,  0.00000000e+00,\n",
       "        0.00000000e+00,  0.00000000e+00,  0.00000000e+00,  0.00000000e+00,\n",
       "        0.00000000e+00,  0.00000000e+00,  0.00000000e+00,  0.00000000e+00,\n",
       "        0.00000000e+00,  0.00000000e+00,  0.00000000e+00,  0.00000000e+00,\n",
       "        0.00000000e+00,  0.00000000e+00,  0.00000000e+00,  0.00000000e+00,\n",
       "        0.00000000e+00,  0.00000000e+00,  0.00000000e+00,  0.00000000e+00,\n",
       "        0.00000000e+00,  0.00000000e+00,  0.00000000e+00,  0.00000000e+00,\n",
       "        0.00000000e+00,  0.00000000e+00,  0.00000000e+00,  0.00000000e+00,\n",
       "        0.00000000e+00,  0.00000000e+00,  0.00000000e+00,  0.00000000e+00,\n",
       "        0.00000000e+00,  0.00000000e+00,  0.00000000e+00,  0.00000000e+00,\n",
       "        0.00000000e+00,  0.00000000e+00,  0.00000000e+00,  0.00000000e+00,\n",
       "        0.00000000e+00,  0.00000000e+00,  0.00000000e+00,  0.00000000e+00,\n",
       "        0.00000000e+00,  0.00000000e+00,  0.00000000e+00,  0.00000000e+00,\n",
       "        0.00000000e+00,  0.00000000e+00,  0.00000000e+00,  0.00000000e+00,\n",
       "        0.00000000e+00,  0.00000000e+00,  0.00000000e+00,  0.00000000e+00,\n",
       "        0.00000000e+00,  0.00000000e+00,  0.00000000e+00,  0.00000000e+00,\n",
       "        0.00000000e+00,  0.00000000e+00,  0.00000000e+00,  0.00000000e+00,\n",
       "        0.00000000e+00,  0.00000000e+00,  0.00000000e+00,  0.00000000e+00,\n",
       "        0.00000000e+00,  0.00000000e+00,  0.00000000e+00,  0.00000000e+00,\n",
       "        0.00000000e+00,  0.00000000e+00,  0.00000000e+00,  0.00000000e+00,\n",
       "        0.00000000e+00,  0.00000000e+00,  0.00000000e+00,  0.00000000e+00,\n",
       "        0.00000000e+00,  0.00000000e+00,  0.00000000e+00,  0.00000000e+00,\n",
       "        0.00000000e+00,  0.00000000e+00,  0.00000000e+00,  0.00000000e+00,\n",
       "        0.00000000e+00,  0.00000000e+00,  0.00000000e+00,  0.00000000e+00,\n",
       "        0.00000000e+00,  0.00000000e+00,  0.00000000e+00,  0.00000000e+00,\n",
       "        0.00000000e+00,  0.00000000e+00,  0.00000000e+00,  0.00000000e+00,\n",
       "        0.00000000e+00,  0.00000000e+00,  0.00000000e+00,  0.00000000e+00,\n",
       "        0.00000000e+00,  0.00000000e+00,  0.00000000e+00,  0.00000000e+00,\n",
       "        0.00000000e+00,  0.00000000e+00,  0.00000000e+00,  0.00000000e+00,\n",
       "        0.00000000e+00,  0.00000000e+00,  0.00000000e+00,  0.00000000e+00,\n",
       "        0.00000000e+00,  0.00000000e+00,  0.00000000e+00,  0.00000000e+00,\n",
       "        0.00000000e+00,  0.00000000e+00,  0.00000000e+00,  0.00000000e+00,\n",
       "        0.00000000e+00,  0.00000000e+00,  0.00000000e+00,  0.00000000e+00,\n",
       "        0.00000000e+00,  0.00000000e+00,  0.00000000e+00,  0.00000000e+00,\n",
       "        0.00000000e+00,  0.00000000e+00,  0.00000000e+00,  0.00000000e+00,\n",
       "        0.00000000e+00,  0.00000000e+00,  0.00000000e+00,  0.00000000e+00,\n",
       "        0.00000000e+00,  0.00000000e+00,  0.00000000e+00,  0.00000000e+00,\n",
       "        0.00000000e+00,  0.00000000e+00,  0.00000000e+00,  0.00000000e+00,\n",
       "        0.00000000e+00,  0.00000000e+00,  0.00000000e+00,  0.00000000e+00,\n",
       "        0.00000000e+00,  0.00000000e+00,  0.00000000e+00,  0.00000000e+00,\n",
       "        0.00000000e+00,  0.00000000e+00,  0.00000000e+00,  0.00000000e+00,\n",
       "        0.00000000e+00,  0.00000000e+00,  0.00000000e+00,  0.00000000e+00,\n",
       "        0.00000000e+00,  0.00000000e+00,  0.00000000e+00,  0.00000000e+00,\n",
       "        0.00000000e+00,  0.00000000e+00,  0.00000000e+00,  0.00000000e+00,\n",
       "        0.00000000e+00,  0.00000000e+00,  0.00000000e+00,  0.00000000e+00,\n",
       "        0.00000000e+00,  0.00000000e+00,  0.00000000e+00,  0.00000000e+00,\n",
       "        0.00000000e+00,  0.00000000e+00,  0.00000000e+00,  0.00000000e+00,\n",
       "        0.00000000e+00,  0.00000000e+00,  0.00000000e+00,  0.00000000e+00,\n",
       "        0.00000000e+00,  0.00000000e+00,  0.00000000e+00,  0.00000000e+00,\n",
       "        0.00000000e+00,  0.00000000e+00,  0.00000000e+00,  0.00000000e+00,\n",
       "        0.00000000e+00,  0.00000000e+00,  0.00000000e+00,  0.00000000e+00,\n",
       "        0.00000000e+00,  0.00000000e+00,  0.00000000e+00,  0.00000000e+00,\n",
       "        0.00000000e+00,  0.00000000e+00,  0.00000000e+00,  0.00000000e+00,\n",
       "        0.00000000e+00,  0.00000000e+00,  0.00000000e+00,  0.00000000e+00,\n",
       "        0.00000000e+00,  0.00000000e+00,  0.00000000e+00,  0.00000000e+00,\n",
       "        0.00000000e+00,  0.00000000e+00,  0.00000000e+00,  0.00000000e+00,\n",
       "        0.00000000e+00,  0.00000000e+00,  0.00000000e+00,  0.00000000e+00,\n",
       "        0.00000000e+00,  0.00000000e+00,  0.00000000e+00,  0.00000000e+00,\n",
       "        0.00000000e+00,  0.00000000e+00,  0.00000000e+00,  0.00000000e+00,\n",
       "        0.00000000e+00,  0.00000000e+00,  0.00000000e+00,  0.00000000e+00,\n",
       "        0.00000000e+00,  0.00000000e+00,  0.00000000e+00,  0.00000000e+00,\n",
       "        0.00000000e+00,  0.00000000e+00,  0.00000000e+00,  0.00000000e+00,\n",
       "        0.00000000e+00,  0.00000000e+00,  0.00000000e+00,  0.00000000e+00,\n",
       "        0.00000000e+00,  0.00000000e+00,  0.00000000e+00,  0.00000000e+00,\n",
       "        0.00000000e+00,  0.00000000e+00,  0.00000000e+00,  0.00000000e+00,\n",
       "        0.00000000e+00,  0.00000000e+00])"
      ]
     },
     "execution_count": 23,
     "metadata": {},
     "output_type": "execute_result"
    }
   ],
   "source": [
    "u_n.x.array"
   ]
  },
  {
   "cell_type": "code",
   "execution_count": null,
   "metadata": {},
   "outputs": [],
   "source": []
  },
  {
   "cell_type": "code",
   "execution_count": 24,
   "metadata": {},
   "outputs": [
    {
     "name": "stdout",
     "output_type": "stream",
     "text": [
      "Function space shape: 231\n",
      "Function value size: (462,)\n"
     ]
    }
   ],
   "source": [
    "print(\"Function space shape:\", V.dofmap.index_map.size_global)  # Should match number of DOFs in 2D\n",
    "print(\"Function value size:\", u_n.x.array.shape)  # Should be (num_dofs * 2,)\n"
   ]
  },
  {
   "cell_type": "code",
   "execution_count": null,
   "metadata": {},
   "outputs": [],
   "source": []
  },
  {
   "cell_type": "code",
   "execution_count": 25,
   "metadata": {},
   "outputs": [
    {
     "name": "stdout",
     "output_type": "stream",
     "text": [
      "First 10 values of u_n.x.array[:]: [-3.43721860e+00 -3.43721860e+00 -1.01390787e+05  4.34531946e+04\n",
      " -3.43721860e+00 -1.44843982e+05 -1.15875185e+05 -1.88297176e+05\n",
      " -3.43721860e+00 -2.75203566e+05]\n"
     ]
    }
   ],
   "source": [
    "print(\"First 10 values of u_n.x.array[:]:\", u_n.x.array[:10])\n"
   ]
  },
  {
   "cell_type": "code",
   "execution_count": null,
   "metadata": {},
   "outputs": [],
   "source": []
  },
  {
   "cell_type": "code",
   "execution_count": 26,
   "metadata": {},
   "outputs": [
    {
     "name": "stdout",
     "output_type": "stream",
     "text": [
      "u_x values: [-3.43721860e+00 -1.01390787e+05 -3.43721860e+00 -1.15875185e+05\n",
      " -3.43721860e+00  1.44843982e+04 -2.02781575e+05 -1.44843982e+05\n",
      " -2.75203566e+05 -7.24219909e+04  7.24219909e+04  1.44843982e+04\n",
      " -1.30359584e+05 -3.43721860e+00  2.89687964e+04  1.44843982e+04\n",
      "  0.00000000e+00 -3.43721860e+00  0.00000000e+00  2.25801468e-12\n",
      "  0.00000000e+00 -2.17265973e+05 -7.24219909e+04 -2.02781575e+05\n",
      " -1.15875185e+05 -2.02781575e+05 -1.44843982e+05  0.00000000e+00\n",
      "  1.44843982e+05  1.44843982e+04 -2.02781575e+05  0.00000000e+00\n",
      " -3.43721860e+00  0.00000000e+00  7.24219909e+04  0.00000000e+00\n",
      " -7.24219909e+04  0.00000000e+00 -3.43721860e+00 -5.79375927e+04\n",
      " -4.05563149e+05 -5.79375927e+04  0.00000000e+00  0.00000000e+00\n",
      "  4.34531946e+04  7.24219909e+04  0.00000000e+00 -2.02781575e+05\n",
      " -5.79375927e+04 -3.43721860e+00 -2.02781575e+05  0.00000000e+00\n",
      " -7.24219909e+04  4.34531946e+04  0.00000000e+00  0.00000000e+00\n",
      "  0.00000000e+00  0.00000000e+00  0.00000000e+00 -2.60719167e+05\n",
      " -3.43721860e+00  0.00000000e+00  0.00000000e+00  3.57708931e-12\n",
      "  2.89687964e+04  0.00000000e+00 -7.24219909e+04  0.00000000e+00\n",
      "  0.00000000e+00  0.00000000e+00 -5.79375927e+04 -3.43721860e+00\n",
      " -5.79375927e+04  0.00000000e+00  0.00000000e+00  2.89687964e+04\n",
      "  0.00000000e+00  3.57708931e-12  0.00000000e+00  0.00000000e+00\n",
      "  0.00000000e+00  0.00000000e+00 -3.43721860e+00 -5.79375927e+04\n",
      "  0.00000000e+00  0.00000000e+00  0.00000000e+00  0.00000000e+00\n",
      "  7.24219909e+04  0.00000000e+00  0.00000000e+00  0.00000000e+00\n",
      "  0.00000000e+00 -2.02781575e+05 -5.79375927e+04  0.00000000e+00\n",
      "  0.00000000e+00  0.00000000e+00  4.34531946e+04  0.00000000e+00\n",
      "  0.00000000e+00  0.00000000e+00  0.00000000e+00  0.00000000e+00\n",
      "  0.00000000e+00  0.00000000e+00  0.00000000e+00  0.00000000e+00\n",
      "  0.00000000e+00  0.00000000e+00  0.00000000e+00  0.00000000e+00\n",
      "  0.00000000e+00  0.00000000e+00  0.00000000e+00  0.00000000e+00\n",
      "  0.00000000e+00  0.00000000e+00  0.00000000e+00  0.00000000e+00\n",
      "  0.00000000e+00  0.00000000e+00  0.00000000e+00  0.00000000e+00\n",
      "  0.00000000e+00  0.00000000e+00  0.00000000e+00  0.00000000e+00\n",
      "  0.00000000e+00  0.00000000e+00  0.00000000e+00  0.00000000e+00\n",
      "  0.00000000e+00  0.00000000e+00  0.00000000e+00  0.00000000e+00\n",
      "  0.00000000e+00  0.00000000e+00  0.00000000e+00  0.00000000e+00\n",
      "  0.00000000e+00  0.00000000e+00  0.00000000e+00  0.00000000e+00\n",
      "  0.00000000e+00  0.00000000e+00  0.00000000e+00  0.00000000e+00\n",
      "  0.00000000e+00  0.00000000e+00  0.00000000e+00  0.00000000e+00\n",
      "  0.00000000e+00  0.00000000e+00  0.00000000e+00  0.00000000e+00\n",
      "  0.00000000e+00  0.00000000e+00  0.00000000e+00  0.00000000e+00\n",
      "  0.00000000e+00  0.00000000e+00  0.00000000e+00  0.00000000e+00\n",
      "  0.00000000e+00  0.00000000e+00  0.00000000e+00  0.00000000e+00\n",
      "  0.00000000e+00  0.00000000e+00  0.00000000e+00  0.00000000e+00\n",
      "  0.00000000e+00  0.00000000e+00  0.00000000e+00  0.00000000e+00\n",
      "  0.00000000e+00  0.00000000e+00  0.00000000e+00  0.00000000e+00\n",
      "  0.00000000e+00  0.00000000e+00  0.00000000e+00  0.00000000e+00\n",
      "  0.00000000e+00  0.00000000e+00  0.00000000e+00  0.00000000e+00\n",
      "  0.00000000e+00  0.00000000e+00  0.00000000e+00  0.00000000e+00\n",
      "  0.00000000e+00  0.00000000e+00  0.00000000e+00  0.00000000e+00\n",
      "  0.00000000e+00  0.00000000e+00  0.00000000e+00  0.00000000e+00\n",
      "  0.00000000e+00  0.00000000e+00  0.00000000e+00  0.00000000e+00\n",
      "  0.00000000e+00  0.00000000e+00  0.00000000e+00  0.00000000e+00\n",
      "  0.00000000e+00  0.00000000e+00  0.00000000e+00  0.00000000e+00\n",
      "  0.00000000e+00  0.00000000e+00  0.00000000e+00  0.00000000e+00\n",
      "  0.00000000e+00  0.00000000e+00  0.00000000e+00  0.00000000e+00\n",
      "  0.00000000e+00  0.00000000e+00  0.00000000e+00  0.00000000e+00\n",
      "  0.00000000e+00  0.00000000e+00  0.00000000e+00  0.00000000e+00\n",
      "  0.00000000e+00  0.00000000e+00  0.00000000e+00]\n",
      "u_y values: [-3.43721860e+00  4.34531946e+04 -1.44843982e+05 -1.88297176e+05\n",
      " -2.75203566e+05 -5.79375927e+04 -3.43721860e+00  0.00000000e+00\n",
      "  7.24219909e+04 -3.43721860e+00 -1.30359584e+05 -1.30359584e+05\n",
      "  1.44843982e+04 -7.24219909e+04 -1.01390787e+05  1.44843982e+04\n",
      " -7.24219909e+04 -1.44843982e+05 -7.24219909e+04 -2.02781575e+05\n",
      "  0.00000000e+00 -3.43721860e+00  0.00000000e+00  7.24219909e+04\n",
      "  1.44843982e+05  7.24219909e+04 -3.43721860e+00  0.00000000e+00\n",
      " -2.60719167e+05 -1.30359584e+05  7.24219909e+04 -7.24219909e+04\n",
      "  0.00000000e+00 -7.24219909e+04 -5.79375927e+04  0.00000000e+00\n",
      "  0.00000000e+00  0.00000000e+00 -1.44843982e+05  2.18157768e-12\n",
      "  1.44843982e+05  7.24219909e+04  0.00000000e+00 -3.43721860e+00\n",
      " -1.01390787e+05 -2.02781575e+05  0.00000000e+00  7.24219909e+04\n",
      "  0.00000000e+00 -7.24219909e+04  3.57708931e-12  0.00000000e+00\n",
      "  0.00000000e+00 -2.89687964e+04 -3.43721860e+00  0.00000000e+00\n",
      "  0.00000000e+00  0.00000000e+00  0.00000000e+00  0.00000000e+00\n",
      " -1.06111050e-11 -7.24219909e+04  0.00000000e+00 -5.79375927e+04\n",
      " -2.89687964e+04 -3.43721860e+00  0.00000000e+00  0.00000000e+00\n",
      "  0.00000000e+00  0.00000000e+00  0.00000000e+00 -1.09117329e-11\n",
      "  5.13494611e-12  0.00000000e+00  0.00000000e+00 -2.89687964e+04\n",
      " -3.43721860e+00 -2.02781575e+05  0.00000000e+00  0.00000000e+00\n",
      "  0.00000000e+00  0.00000000e+00 -7.24219909e+04  5.13494611e-12\n",
      "  0.00000000e+00  0.00000000e+00  0.00000000e+00 -3.43721860e+00\n",
      " -2.02781575e+05  0.00000000e+00  0.00000000e+00  0.00000000e+00\n",
      "  0.00000000e+00  7.24219909e+04  7.24219909e+04  0.00000000e+00\n",
      "  0.00000000e+00  0.00000000e+00 -2.89687964e+04  0.00000000e+00\n",
      "  0.00000000e+00  0.00000000e+00  0.00000000e+00  0.00000000e+00\n",
      "  0.00000000e+00  0.00000000e+00  0.00000000e+00  0.00000000e+00\n",
      "  0.00000000e+00  0.00000000e+00  0.00000000e+00  0.00000000e+00\n",
      "  0.00000000e+00  0.00000000e+00  0.00000000e+00  0.00000000e+00\n",
      "  0.00000000e+00  0.00000000e+00  0.00000000e+00  0.00000000e+00\n",
      "  0.00000000e+00  0.00000000e+00  0.00000000e+00  0.00000000e+00\n",
      "  0.00000000e+00  0.00000000e+00  0.00000000e+00  0.00000000e+00\n",
      "  0.00000000e+00  0.00000000e+00  0.00000000e+00  0.00000000e+00\n",
      "  0.00000000e+00  0.00000000e+00  0.00000000e+00  0.00000000e+00\n",
      "  0.00000000e+00  0.00000000e+00  0.00000000e+00  0.00000000e+00\n",
      "  0.00000000e+00  0.00000000e+00  0.00000000e+00  0.00000000e+00\n",
      "  0.00000000e+00  0.00000000e+00  0.00000000e+00  0.00000000e+00\n",
      "  0.00000000e+00  0.00000000e+00  0.00000000e+00  0.00000000e+00\n",
      "  0.00000000e+00  0.00000000e+00  0.00000000e+00  0.00000000e+00\n",
      "  0.00000000e+00  0.00000000e+00  0.00000000e+00  0.00000000e+00\n",
      "  0.00000000e+00  0.00000000e+00  0.00000000e+00  0.00000000e+00\n",
      "  0.00000000e+00  0.00000000e+00  0.00000000e+00  0.00000000e+00\n",
      "  0.00000000e+00  0.00000000e+00  0.00000000e+00  0.00000000e+00\n",
      "  0.00000000e+00  0.00000000e+00  0.00000000e+00  0.00000000e+00\n",
      "  0.00000000e+00  0.00000000e+00  0.00000000e+00  0.00000000e+00\n",
      "  0.00000000e+00  0.00000000e+00  0.00000000e+00  0.00000000e+00\n",
      "  0.00000000e+00  0.00000000e+00  0.00000000e+00  0.00000000e+00\n",
      "  0.00000000e+00  0.00000000e+00  0.00000000e+00  0.00000000e+00\n",
      "  0.00000000e+00  0.00000000e+00  0.00000000e+00  0.00000000e+00\n",
      "  0.00000000e+00  0.00000000e+00  0.00000000e+00  0.00000000e+00\n",
      "  0.00000000e+00  0.00000000e+00  0.00000000e+00  0.00000000e+00\n",
      "  0.00000000e+00  0.00000000e+00  0.00000000e+00  0.00000000e+00\n",
      "  0.00000000e+00  0.00000000e+00  0.00000000e+00  0.00000000e+00\n",
      "  0.00000000e+00  0.00000000e+00  0.00000000e+00  0.00000000e+00\n",
      "  0.00000000e+00  0.00000000e+00  0.00000000e+00  0.00000000e+00\n",
      "  0.00000000e+00  0.00000000e+00  0.00000000e+00  0.00000000e+00\n",
      "  0.00000000e+00  0.00000000e+00  0.00000000e+00  0.00000000e+00\n",
      "  0.00000000e+00  0.00000000e+00  0.00000000e+00]\n"
     ]
    }
   ],
   "source": [
    "print(\"u_x values:\", u_n.x.array[::2])  # Every 2nd value is u_x\n",
    "print(\"u_y values:\", u_n.x.array[1::2])  # Every 2nd value is u_y\n"
   ]
  },
  {
   "cell_type": "code",
   "execution_count": 27,
   "metadata": {},
   "outputs": [
    {
     "name": "stdout",
     "output_type": "stream",
     "text": [
      "f\n"
     ]
    }
   ],
   "source": [
    "print(b)"
   ]
  },
  {
   "cell_type": "code",
   "execution_count": null,
   "metadata": {},
   "outputs": [],
   "source": []
  },
  {
   "cell_type": "code",
   "execution_count": null,
   "metadata": {},
   "outputs": [],
   "source": []
  },
  {
   "cell_type": "code",
   "execution_count": null,
   "metadata": {},
   "outputs": [],
   "source": []
  }
 ],
 "metadata": {
  "kernelspec": {
   "display_name": "dolfinx-env",
   "language": "python",
   "name": "python3"
  },
  "language_info": {
   "codemirror_mode": {
    "name": "ipython",
    "version": 3
   },
   "file_extension": ".py",
   "mimetype": "text/x-python",
   "name": "python",
   "nbconvert_exporter": "python",
   "pygments_lexer": "ipython3",
   "version": "3.12.3"
  }
 },
 "nbformat": 4,
 "nbformat_minor": 4
}
