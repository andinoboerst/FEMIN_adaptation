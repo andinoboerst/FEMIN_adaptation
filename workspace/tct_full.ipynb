{
 "cells": [
  {
   "cell_type": "code",
   "execution_count": 1,
   "metadata": {},
   "outputs": [],
   "source": [
    "import numpy as np\n",
    "import pyvista\n",
    "import matplotlib.pyplot as plt\n",
    "\n",
    "from mpi4py import MPI\n",
    "from dolfinx import mesh, la, fem, plot\n",
    "\n",
    "import dolfinx.fem.petsc as petsc\n",
    "from petsc4py import PETSc\n",
    "\n",
    "from ufl import SpatialCoordinate, TrialFunction, TestFunction, inner, dx, dot, grad, sym, Identity, tr, system, as_vector, sqrt\n",
    "\n",
    "from dolfinx.io import XDMFFile"
   ]
  },
  {
   "cell_type": "markdown",
   "metadata": {},
   "source": [
    "# Create Mesh"
   ]
  },
  {
   "cell_type": "code",
   "execution_count": 2,
   "metadata": {},
   "outputs": [],
   "source": [
    "# Create a rectangular mesh: 100mm x 50mm with 20x10 divisions\n",
    "domain = mesh.create_rectangle(MPI.COMM_WORLD, [[0, 0], [100, 50]], [20, 10])"
   ]
  },
  {
   "cell_type": "code",
   "execution_count": 3,
   "metadata": {},
   "outputs": [],
   "source": [
    "\n",
    "\n",
    "pyvista.start_xvfb()\n",
    "grid = pyvista.UnstructuredGrid(*plot.vtk_mesh(domain))\n",
    "plotter = pyvista.Plotter(window_size=(120, 60))\n",
    "renderer = plotter.add_mesh(grid, show_edges=True)"
   ]
  },
  {
   "cell_type": "code",
   "execution_count": 4,
   "metadata": {},
   "outputs": [],
   "source": [
    "plotter.view_xy()\n",
    "plotter.camera.zoom(2)\n",
    "plotter.export_html(\"./tct.html\")"
   ]
  },
  {
   "cell_type": "code",
   "execution_count": 5,
   "metadata": {},
   "outputs": [
    {
     "data": {
      "text/html": [
       "<iframe src='./tct.html' scrolling=\"no\" width=\"800px\" height=\"400px\"></iframe> <!--  # noqa, -->\n"
      ],
      "text/plain": [
       "<IPython.core.display.HTML object>"
      ]
     },
     "metadata": {},
     "output_type": "display_data"
    }
   ],
   "source": [
    "%%html\n",
    "<iframe src='./tct.html' scrolling=\"no\" width=\"800px\" height=\"400px\"></iframe> <!--  # noqa, -->"
   ]
  },
  {
   "cell_type": "code",
   "execution_count": null,
   "metadata": {},
   "outputs": [],
   "source": []
  },
  {
   "cell_type": "code",
   "execution_count": 6,
   "metadata": {},
   "outputs": [],
   "source": [
    "# Define function space for displacement\n",
    "V = fem.functionspace(domain, (\"CG\", 1, (2,)))\n"
   ]
  },
  {
   "cell_type": "code",
   "execution_count": 7,
   "metadata": {},
   "outputs": [],
   "source": [
    "# Locate DOFs on the left edge (x = 0)\n",
    "def left_edge(x):\n",
    "    return np.isclose(x[0], 0)\n",
    "\n",
    "# Locate DOFs on the top edge (y = 50)\n",
    "def top_edge(x):\n",
    "    return np.isclose(x[1], 50)\n",
    "\n",
    "# Locate DOFs on the bottom edge (y = 0) for sinusoidal load\n",
    "def bottom_edge(x):\n",
    "    return np.isclose(x[1], 0)\n",
    "\n",
    "# Get boundary DOFs\n",
    "left_dofs = fem.locate_dofs_geometrical(V, left_edge)\n",
    "top_dofs = fem.locate_dofs_geometrical(V, top_edge)\n",
    "bottom_dofs = fem.locate_dofs_geometrical(V, bottom_edge)\n"
   ]
  },
  {
   "cell_type": "code",
   "execution_count": 8,
   "metadata": {},
   "outputs": [],
   "source": [
    "# Fixed zero displacement for left and top edges\n",
    "zero_displacement = fem.Constant(domain, PETSc.ScalarType(0.0))\n",
    "\n",
    "# Time-dependent displacement at the bottom\n",
    "t = 0  # Initialize time\n",
    "amp = 5.0  # Amplitude in mm\n",
    "omega = 5000  # Frequency in Hz\n",
    "sinusoidal_disp = fem.Constant(domain, PETSc.ScalarType(0.0))\n",
    "\n",
    "def update_sinusoidal_disp(t):\n",
    "    sinusoidal_disp.value = - amp * np.sin(omega * t)\n",
    "\n",
    "# Apply boundary conditions\n",
    "# bc_left = fem.dirichletbc(zero_displacement, left_dofs, V.sub(0))   # Fixed left\n",
    "bc_top = fem.dirichletbc(zero_displacement, top_dofs, V.sub(1))     # Fixed top\n",
    "bc_bottom = fem.dirichletbc(sinusoidal_disp, bottom_dofs, V.sub(1)) # Sinusoidal\n",
    "\n",
    "# bcs = [bc_left, bc_top, bc_bottom]\n",
    "bcs = [bc_top, bc_bottom]"
   ]
  },
  {
   "cell_type": "code",
   "execution_count": 9,
   "metadata": {},
   "outputs": [],
   "source": [
    "dt = fem.Constant(domain, 1e-5)\n",
    "\n",
    "# Define trial and test functions\n",
    "u = TrialFunction(V)\n",
    "v = TestFunction(V)\n",
    "\n",
    "# Initialize plastic strain\n",
    "W = fem.functionspace(domain, (\"CG\", 1, (2, 2)))\n",
    "\n",
    "# ✅ Initialize plastic strain functions\n",
    "eps_p = fem.Function(W)    # Stores plastic strain at current time step\n",
    "eps_p_n = fem.Function(W)\n",
    "\n",
    "# ✅ Define a scalar function space (1 value per node)\n",
    "V_scalar = fem.functionspace(domain, (\"CG\", 1))\n",
    "\n",
    "# ✅ Create function to store von Mises stress\n",
    "sigma_vm = fem.Function(V_scalar)\n",
    "sigma_dev_func = fem.Function(W)\n",
    "\n",
    "f = fem.Constant(domain, (0.0, 0.0))\n",
    "\n",
    "def epsilon(u):\n",
    "    return 0.5 * sym(grad(u))\n",
    "\n",
    "def sigma(u):\n",
    "    # return lambda_ * tr(epsilon(u)) * Identity(2) + 2 * mu * epsilon(u)\n",
    "    return lambda_ * tr(epsilon(u) - eps_p) * Identity(2) + 2 * mu * (epsilon(u) - eps_p)\n",
    "\n",
    "def von_mises_stress(sigma):\n",
    "    dev_stress = sigma - (1/3) * tr(sigma) * Identity(2)  # Deviatoric stress\n",
    "    return sqrt(3/2 * inner(dev_stress, dev_stress))\n",
    "\n",
    "# Define material properties\n",
    "E = 210e9  # Young's modulus (Pa)\n",
    "nu = 0.3   # Poisson's ratio\n",
    "rho = 7850 # Density (kg/m³)\n",
    "yield_stress = 250e6\n",
    "\n",
    "# Define stress-strain relation (Plane stress assumption)\n",
    "lambda_ = (E * nu) / ((1 + nu) * (1 - 2 * nu))  # First Lame parameter\n",
    "mu = E / (2 * (1 + nu))  # Shear modulus\n",
    "\n",
    "\n",
    "# Define weak form\n",
    "F = inner(sigma(u), epsilon(v)) * dx\n",
    "F -= dt * inner(f, v) * dx\n",
    "\n",
    "a, L = system(F)\n",
    "\n",
    "\n",
    "# # Define trial function for bilinear form\n",
    "# du = TrialFunction(V)\n",
    "\n",
    "# # Define the bilinear form (stiffness matrix)\n",
    "# a = inner(sigma(du), epsilon(v)) * dx\n",
    "\n",
    "# L = fem.form(inner(fem.Constant(domain, PETSc.ScalarType((0.0, 0.0))), v) * dx)\n",
    "# # L = inner(f_ext, v) * dx"
   ]
  },
  {
   "cell_type": "code",
   "execution_count": 10,
   "metadata": {},
   "outputs": [],
   "source": [
    "compiled_a = fem.form(a)\n",
    "A = petsc.assemble_matrix(compiled_a, bcs=bcs)\n",
    "A.assemble()\n",
    "\n",
    "compiled_L = fem.form(L)\n",
    "b = fem.Function(V)"
   ]
  },
  {
   "cell_type": "code",
   "execution_count": 11,
   "metadata": {},
   "outputs": [],
   "source": [
    "solver = PETSc.KSP().create(domain.comm)\n",
    "solver.setOperators(A)\n",
    "solver.setType(PETSc.KSP.Type.CG)\n",
    "pc = solver.getPC()\n",
    "pc.setType(PETSc.PC.Type.HYPRE)\n",
    "pc.setHYPREType(\"boomeramg\")"
   ]
  },
  {
   "cell_type": "code",
   "execution_count": null,
   "metadata": {},
   "outputs": [],
   "source": []
  },
  {
   "cell_type": "code",
   "execution_count": 12,
   "metadata": {},
   "outputs": [],
   "source": [
    "T = 0.003  # Total time\n",
    "\n",
    "# Create functions for displacement, velocity, and acceleration\n",
    "u_n = fem.Function(V)  # Displacement at time step n\n",
    "v_n = fem.Function(V)  # Velocity at time step n\n",
    "a_n = fem.Function(V)  # Acceleration at time step n\n",
    "\n",
    "gamma = fem.Function(V) # Plastic multiplier\n",
    "\n",
    "u_h = fem.Function(V)"
   ]
  },
  {
   "cell_type": "code",
   "execution_count": null,
   "metadata": {},
   "outputs": [],
   "source": []
  },
  {
   "cell_type": "code",
   "execution_count": 13,
   "metadata": {},
   "outputs": [],
   "source": [
    "pyvista.start_xvfb(0.5)  # Start virtual framebuffer for plotting\n",
    "plotter = pyvista.Plotter()\n",
    "plotter.open_gif(\"u_time.gif\")"
   ]
  },
  {
   "cell_type": "code",
   "execution_count": 14,
   "metadata": {},
   "outputs": [],
   "source": [
    "topology, cells, geometry = plot.vtk_mesh(V)\n",
    "grid = pyvista.UnstructuredGrid(topology, cells, geometry)\n",
    "grid.point_data[\"u_h\"] = u_h.x.array[1::2]"
   ]
  },
  {
   "cell_type": "code",
   "execution_count": 15,
   "metadata": {},
   "outputs": [],
   "source": [
    "viridis = plt.cm.get_cmap(\"viridis\", 25)\n",
    "sargs = dict(\n",
    "    title_font_size=25,\n",
    "    label_font_size=20,\n",
    "    fmt=\"%.2e\",\n",
    "    color=\"black\",\n",
    "    position_x=0.1,\n",
    "    position_y=0.8,\n",
    "    width=0.8,\n",
    "    height=0.1,\n",
    ")"
   ]
  },
  {
   "cell_type": "code",
   "execution_count": 16,
   "metadata": {},
   "outputs": [],
   "source": [
    "renderer = plotter.add_mesh(\n",
    "    grid,\n",
    "    show_edges=True,\n",
    "    lighting=False,\n",
    "    cmap=viridis,\n",
    "    scalar_bar_args=sargs,\n",
    "    clim=[0, 5],\n",
    ")"
   ]
  },
  {
   "cell_type": "code",
   "execution_count": 17,
   "metadata": {},
   "outputs": [],
   "source": [
    "plotter.view_xy()\n",
    "plotter.camera.zoom(1.3)"
   ]
  },
  {
   "cell_type": "code",
   "execution_count": null,
   "metadata": {},
   "outputs": [],
   "source": []
  },
  {
   "cell_type": "code",
   "execution_count": null,
   "metadata": {},
   "outputs": [],
   "source": []
  },
  {
   "cell_type": "code",
   "execution_count": 18,
   "metadata": {},
   "outputs": [
    {
     "name": "stderr",
     "output_type": "stream",
     "text": [
      "error: XDG_RUNTIME_DIR is invalid or not set in the environment.\n",
      "MESA: error: ZINK: failed to choose pdev\n",
      "glx: failed to create drisw screen\n"
     ]
    }
   ],
   "source": [
    "u_n.x.array[:] = 0  # ✅ Zero initial displacement\n",
    "v_n.x.array[:] = 0  # ✅ Zero initial velocity\n",
    "a_n.x.array[:] = 0  # ✅ Zero initial acceleration\n",
    "\n",
    "\n",
    "with XDMFFile(MPI.COMM_WORLD, \"solution.xdmf\", \"w\") as xdmf:\n",
    "    xdmf.write_mesh(domain)\n",
    "    \n",
    "    # Time-stepping loop\n",
    "    while t < T:\n",
    "        # Update boundary condition\n",
    "        update_sinusoidal_disp(t)\n",
    "    \n",
    "        # Assemble RHS\n",
    "        b.x.array[:] = 0\n",
    "        petsc.assemble_vector(b.x.petsc_vec, compiled_L)\n",
    "    \n",
    "        # Apply boundary condition\n",
    "        petsc.apply_lifting(b.x.petsc_vec, [compiled_a], [bcs])\n",
    "        b.x.scatter_reverse(la.InsertMode.add)\n",
    "        fem.petsc.set_bc(b.x.petsc_vec, bcs)\n",
    "    \n",
    "        # Compute strain dynamically at the current time step\n",
    "        eps_e = epsilon(u_n) - eps_p  # Elastic strain = total strain - plastic strain\n",
    "    \n",
    "        # Compute updated stress based on current elastic strain\n",
    "        sigma = lambda_ * tr(eps_e) * Identity(2) + 2 * mu * eps_e\n",
    "    \n",
    "        # Compute von Mises stress from the updated stress (UFL expression)\n",
    "        sigma_vm_ufl = von_mises_stress(sigma)\n",
    "    \n",
    "        # Define projection weak form\n",
    "        sigma_vm_form = fem.form(sigma_vm_ufl * dx)  \n",
    "        sigma_vm.x.array[:] = fem.assemble_scalar(sigma_vm_form) \n",
    "    \n",
    "        # Compute plastic correction (if yielding occurs)\n",
    "        gamma = np.maximum(0, (sigma_vm.x.array[:] - yield_stress) / (2 * mu))  \n",
    "    \n",
    "        # Update plastic strain: eps_p = eps_p_n + gamma * (sigma_dev / sigma_vm)\n",
    "        sigma_dev = sigma - (1/3) * tr(sigma) * Identity(2)\n",
    "    \n",
    "        tau = TestFunction(W)  \n",
    "    \n",
    "        # Define the projection weak form for deviatoric stress\n",
    "        sigma_dev_form = fem.form(inner(sigma_dev, tau) * dx)\n",
    "        \n",
    "        sigma_dev_vec = fem.assemble_vector(sigma_dev_form)\n",
    "        sigma_dev_func.x.array[:] = sigma_dev_vec.array[:]\n",
    "    \n",
    "        # Ensure sigma_vm is nonzero before division\n",
    "        sigma_vm_numpy = sigma_vm.x.array[:]  # Convert to NumPy array\n",
    "        nonzero_vm = np.maximum(sigma_vm_numpy, 1e-6)[:, None, None]  # Ensure no division by zero\n",
    "\n",
    "        # Reshape gamma correctly to match the flattened shape\n",
    "        gamma = gamma.flatten()  \n",
    "        \n",
    "        # Ensure sigma_dev_func is also flattened\n",
    "        sigma_dev_flat = sigma_dev_func.x.array[:].reshape(-1, 2, 2)\n",
    "        \n",
    "        # Ensure nonzero_vm is correctly reshaped for broadcasting\n",
    "        # nonzero_vm = np.maximum(sigma_vm_numpy, 1e-3).reshape(-1, 1, 1)  # Now (231, 1, 1)\n",
    "        nonzero_vm = np.where(abs(sigma_vm_numpy) < 1e-3, 0, sigma_vm_numpy).reshape(-1, 1, 1)\n",
    "        gamma = np.maximum(0, np.minimum((sigma_vm_numpy - yield_stress) / (2 * mu), 1.0)).reshape(-1, 1, 1)  # Now (231, 1, 1)\n",
    "        \n",
    "        # Now update plastic strain without shape mismatch\n",
    "        # eps_p.x.array[:] = (eps_p_n.x.array[:].reshape(-1, 2, 2) + gamma * (sigma_dev_flat / nonzero_vm)).flatten()\n",
    "        eps_p.x.array[:] = (eps_p_n.x.array[:].reshape(-1, 2, 2) + gamma * np.divide(sigma_dev_flat, nonzero_vm, out=np.zeros_like(sigma_dev_flat), where=nonzero_vm!=0)).flatten()\n",
    "\n",
    "        eps_p.x.array[:] = np.clip(eps_p.x.array[:], -0.5, 0.5)  # Prevents runaway strain growth\n",
    "    \n",
    "        # Update acceleration, velocity, displacement\n",
    "        a_n.x.array[:] = b.x.array[:]\n",
    "        v_n.x.array[:] += dt.value * a_n.x.array[:]  \n",
    "        u_n.x.array[:] += dt.value * v_n.x.array[:]  \n",
    "    \n",
    "        # Apply BCs to displacement after update\n",
    "        fem.set_bc(u_n.x.array[:], bcs)  # Apply BCs to the PETSc vector\n",
    "\n",
    "    \n",
    "        # Store previous step's plastic strain for next iteration\n",
    "        eps_p_n.x.array[:] = eps_p.x.array[:]  \n",
    "    \n",
    "        # Assemble force vector (explicit method does NOT use A)\n",
    "        # b = fem.assemble_vector(fem.form(L))  # Correct RHS assembly\n",
    "        # fem.set_bc(b, bcs, x0=None)  # Apply BCs to force vector\n",
    "    \n",
    "        # Solve linear problem\n",
    "        # solver.solve(b.x.petsc_vec, u_h.x.petsc_vec)\n",
    "        # u_h.x.scatter_forward()\n",
    "    \n",
    "        # Update un\n",
    "        # u_n.x.array[:] = u_h.x.array\n",
    "    \n",
    "        # Update acceleration (assuming lumped mass M = I)\n",
    "        # a_n.x.array[:] = b.array[:] \n",
    "    \n",
    "        # # Update velocity using explicit integration\n",
    "        # v_n.x.array[:] += dt * a_n.x.array[:]\n",
    "    \n",
    "        # # Update displacement using explicit integration\n",
    "        # u_n.x.array[:] += dt * v_n.x.array[:]\n",
    "    \n",
    "        # # Apply BCs to displacement after update\n",
    "        # fem.set_bc(u_n.x, bcs)\n",
    "    \n",
    "        xdmf.write_function(u_n, t)\n",
    "    \n",
    "        plotter.update_scalars(u_n.x.array[1::2], render=False)\n",
    "        plotter.write_frame()\n",
    "    \n",
    "        # Update time\n",
    "        t += dt.value\n"
   ]
  },
  {
   "cell_type": "code",
   "execution_count": 19,
   "metadata": {},
   "outputs": [],
   "source": [
    "plotter.close()"
   ]
  },
  {
   "cell_type": "code",
   "execution_count": null,
   "metadata": {},
   "outputs": [],
   "source": []
  },
  {
   "cell_type": "code",
   "execution_count": 20,
   "metadata": {},
   "outputs": [],
   "source": [
    "w_grid = pyvista.UnstructuredGrid(*plot.vtk_mesh(domain))\n",
    "w_plotter = pyvista.Plotter(window_size=(800, 400))\n",
    "w_grid.point_data[\"u_h_y\"] = u_n.x.array[1::2].real\n",
    "w_plotter.add_mesh(w_grid, show_edges=True, cmap=viridis, scalar_bar_args=sargs)\n",
    "w_plotter.view_xy()\n",
    "w_plotter.export_html(\"./w.html\")"
   ]
  },
  {
   "cell_type": "code",
   "execution_count": 21,
   "metadata": {},
   "outputs": [
    {
     "data": {
      "text/html": [
       "<iframe src='./w.html' scrolling=\"no\" width=\"800px\" height=\"400px\"></iframe> <!--  # noqa, -->\n"
      ],
      "text/plain": [
       "<IPython.core.display.HTML object>"
      ]
     },
     "metadata": {},
     "output_type": "display_data"
    }
   ],
   "source": [
    "%%html\n",
    "<iframe src='./w.html' scrolling=\"no\" width=\"800px\" height=\"400px\"></iframe> <!--  # noqa, -->"
   ]
  },
  {
   "cell_type": "code",
   "execution_count": null,
   "metadata": {},
   "outputs": [],
   "source": []
  },
  {
   "cell_type": "code",
   "execution_count": 22,
   "metadata": {},
   "outputs": [],
   "source": [
    "# ✅ Ensure the mesh is passed correctly\n",
    "# with XDMFFile(MPI.COMM_WORLD, \"solution.xdmf\", \"w\") as xdmf:\n",
    "#     xdmf.write_mesh(domain)  # ✅ First write the mesh\n",
    "#     xdmf.write_function(u_n)  # ✅ Then write the function"
   ]
  },
  {
   "cell_type": "code",
   "execution_count": null,
   "metadata": {},
   "outputs": [],
   "source": []
  },
  {
   "cell_type": "code",
   "execution_count": 23,
   "metadata": {},
   "outputs": [
    {
     "data": {
      "text/plain": [
       "array([-3.43721860e+00, -3.43721860e+00, -2.68579534e+05,  4.36995081e+05,\n",
       "       -3.43721860e+00, -9.49906519e+05, -3.15293589e+05, -8.90525111e+05,\n",
       "       -3.43721860e+00, -5.13550855e+05,  8.77981097e+05, -1.01122166e+05,\n",
       "       -2.44265709e+06, -3.43721860e+00, -2.19207590e+06,  1.71663449e+06,\n",
       "       -1.06530918e+06,  1.09449743e+06, -2.30612039e+05, -3.43721860e+00,\n",
       "        1.87486275e+06, -1.39005004e+06,  9.07774885e+05, -1.17181867e+06,\n",
       "        3.23777248e+05, -9.70687098e+05, -3.43721860e+00, -6.96897664e+05,\n",
       "        7.88123779e+05, -7.93898151e+05,  7.34372784e+05, -6.45561496e+05,\n",
       "        1.92666207e+06, -1.82309790e+06, -3.43721860e+00, -1.80576404e+06,\n",
       "        5.60687521e+05, -6.95049058e+05, -5.91688675e+05, -2.41663327e+05,\n",
       "        5.94103535e+05,  1.49675586e+05, -2.20728332e+06, -3.43721860e+00,\n",
       "       -2.18711231e+06,  1.54859932e+06, -1.62628521e+06,  1.54630414e+06,\n",
       "       -6.87970987e+05,  1.38752698e+06, -8.44743728e+05,  1.13789562e+06,\n",
       "       -6.81788596e+05, -3.43721860e+00, -7.46858405e+04,  3.15587011e+05,\n",
       "        1.82373189e+06, -2.03183226e+06,  7.48465206e+05, -9.35849831e+05,\n",
       "       -1.21769355e+06,  7.25628502e+05, -1.11460086e+06,  5.80912247e+05,\n",
       "       -3.43721860e+00,  0.00000000e+00,  6.91437072e+05, -5.39498270e+05,\n",
       "        6.53350867e+05, -1.09412673e+05,  4.45840465e+05, -2.81985798e+05,\n",
       "       -1.28901648e+05, -7.97180775e+05,  8.86875187e+05,  0.00000000e+00,\n",
       "       -3.43721860e+00, -1.08524154e+06,  4.01920523e+05, -5.07915619e+05,\n",
       "       -1.79832797e+06,  8.15762087e+05, -9.53853874e+05,  7.75607708e+05,\n",
       "        1.21688555e+05,  1.09638456e+05,  0.00000000e+00, -3.43721860e+00,\n",
       "        4.73943080e+05, -2.48528962e+05,  4.34167767e+05, -1.06346308e+06,\n",
       "       -1.17112445e+06,  1.00952016e+06, -1.84020925e+06,  1.70048959e+06,\n",
       "       -2.72410766e+05,  0.00000000e+00, -3.43721860e+00,  2.62733263e+05,\n",
       "       -1.23149631e+06,  5.41335426e+05, -1.11246397e+06,  4.84077260e+05,\n",
       "       -9.50166584e+05,  4.21673326e+05,  7.35404302e+05, -5.66981652e+05,\n",
       "        0.00000000e+00, -3.43721860e+00, -2.33673757e+04,  6.33014893e+04,\n",
       "        5.85202185e+05,  3.48678959e+05,  1.09508391e+05,  7.49125937e+05,\n",
       "       -1.12758585e+06,  8.35531918e+05, -9.63215228e+05,  0.00000000e+00,\n",
       "       -3.43721860e+00, -8.83101215e+05,  1.08337038e+06, -1.34948151e+06,\n",
       "        3.53661931e+05, -4.98481911e+05, -2.18723766e+05, -1.46774747e+05,\n",
       "       -2.44112492e+05,  1.36661756e+05,  0.00000000e+00, -3.43721860e+00,\n",
       "       -1.50760564e+06,  7.41027634e+05, -7.74705711e+05,  8.06254826e+05,\n",
       "        5.54930032e+05,  4.34845973e+04,  1.45765973e+06, -8.92752917e+05,\n",
       "        9.41142451e+05,  0.00000000e+00, -3.43721860e+00, -9.43765285e+05,\n",
       "        4.26052599e+05, -6.26094796e+05,  6.06601323e+05, -2.54966220e+05,\n",
       "        4.69986423e+05, -2.05553863e+05,  1.93273814e+05, -1.23134360e+05,\n",
       "        0.00000000e+00, -3.43721860e+00,  4.17808432e+05, -1.54354719e+06,\n",
       "        7.54436676e+04, -6.21941933e+05, -1.26388443e+05,  6.18405068e+03,\n",
       "       -1.93316244e+04, -1.71909081e+05,  3.95382760e+05,  0.00000000e+00,\n",
       "       -3.43721860e+00, -8.30215918e+05,  8.68978781e+04,  1.53558062e+05,\n",
       "       -3.88195289e+05,  6.49396209e+05, -2.31427655e+05,  4.24439874e+05,\n",
       "       -6.55861844e+04,  1.14316596e+05,  0.00000000e+00, -3.43721860e+00,\n",
       "        1.31104250e+06, -1.96504975e+06,  9.46932656e+05, -9.14592857e+05,\n",
       "        3.58391790e+05,  4.91066513e+04, -5.77265265e+04,  1.03703288e+05,\n",
       "       -7.85654472e+05,  0.00000000e+00, -1.90071435e+06,  1.29455505e+06,\n",
       "       -1.28002758e+06,  1.37768668e+06, -3.45155438e+05,  6.28101575e+05,\n",
       "       -8.79489662e+04,  9.52973462e+04,  0.00000000e+00,  1.23581405e+03,\n",
       "        5.80332507e+05, -5.01014061e+05, -3.66481579e+05,  1.16235976e+05,\n",
       "       -3.13608889e+05,  7.18731496e+05,  0.00000000e+00,  7.15560943e+05,\n",
       "        1.92978674e+04,  1.46110560e+05,  2.77886879e+05,  6.56824070e+04,\n",
       "        1.20447463e+05,  0.00000000e+00, -2.86991810e+05,  2.36601810e+05,\n",
       "       -1.88564412e+05, -4.87996834e+04,  1.30594140e+04,  0.00000000e+00,\n",
       "        3.69267271e+04, -8.93100271e+04, -7.52461920e+04, -1.46770659e+05,\n",
       "        0.00000000e+00,  5.43619757e+05, -7.93202699e+05,  9.50857099e+05,\n",
       "        0.00000000e+00,  6.50300666e+05, -1.00615412e+05,  0.00000000e+00,\n",
       "        1.33649318e+04,  0.00000000e+00,  0.00000000e+00, -3.59954458e+05,\n",
       "        9.97041537e+05, -8.27115447e+05,  7.81901624e+05, -8.45574740e+05,\n",
       "        2.77183849e+05, -3.98602597e+05,  2.78510350e+04, -3.47521777e+04,\n",
       "       -3.50363054e+04,  1.08115728e+04,  5.54437913e+04,  3.83629178e+04,\n",
       "        8.53954299e+04, -1.26547455e+04,  7.82559272e+04, -1.36700991e+05,\n",
       "        6.80499997e+04, -1.79732588e+05,  5.76947551e+02, -9.58248127e+04,\n",
       "       -7.28122244e+04, -2.72819548e+04, -4.78705070e+04, -4.72666403e+04,\n",
       "        5.77050006e+04, -3.07873506e+04,  6.59163982e+04,  9.81153168e+03,\n",
       "        1.63578659e+04,  5.34252165e+04, -3.83208347e+03,  2.21274340e+03,\n",
       "        1.59336426e+04, -2.31693910e+04,  1.01095040e+05, -9.70846568e+04,\n",
       "        1.38594061e+05, -1.76671034e+05,  8.89748859e+04, -1.34875971e+05,\n",
       "        2.47157933e+04, -4.39062368e+04, -5.57919080e+03,  1.57787654e+04,\n",
       "       -1.06094104e+05,  8.15536832e+04, -2.00676485e+05,  1.84912212e+05,\n",
       "       -1.72772440e+05,  1.91155223e+05, -6.29018160e+04,  9.12362356e+04,\n",
       "       -2.65632107e+02, -4.84470417e+02, -3.00610835e+03, -1.44513620e+03,\n",
       "       -6.43608375e+03, -1.97111032e+03, -8.14397635e+03,  1.96938088e+03,\n",
       "       -9.20975280e+03,  1.16587201e+04, -7.47154544e+03,  1.75208154e+04,\n",
       "        2.59189807e+02,  1.26178655e+04,  6.72803288e+03,  5.75709567e+03,\n",
       "        2.39768682e+03,  4.96398669e+03, -5.91627809e+03,  4.06184892e+03,\n",
       "       -4.13938439e+03, -6.40437096e+03, -1.28004140e+02, -7.56243047e+01,\n",
       "       -6.16252498e+02,  5.54411433e+02, -4.75565094e+03,  3.62022630e+03,\n",
       "       -1.15352939e+04,  1.03990215e+04, -1.46949813e+04,  1.57258901e+04,\n",
       "       -1.07357119e+04,  1.36692803e+04, -4.14294942e+03,  6.14138598e+03,\n",
       "        3.39293701e+03, -1.61046700e+03,  1.30363593e+04, -1.03001347e+04,\n",
       "        1.96654094e+04, -1.81125903e+04,  1.25798501e+04, -1.58536643e+04,\n",
       "        3.15427409e+01,  1.04338338e+01,  9.36494505e+01,  2.07694968e+01,\n",
       "        2.65083995e+02,  5.42968319e+01,  4.07505464e+02,  4.60391363e+01,\n",
       "        4.78979813e+02, -1.73026434e+02,  5.20757196e+02, -6.24037077e+02,\n",
       "        3.81896436e+02, -9.38603397e+02, -1.75359623e+01, -7.95180385e+02,\n",
       "       -2.65398053e+02, -4.75049754e+02,  4.54930811e+01, -2.98233244e+02,\n",
       "        1.93684237e+02,  1.27944257e+02,  3.97146291e+00,  9.61871652e-01,\n",
       "        8.55650502e+00, -7.86259296e+00,  1.09207609e+02, -7.38468627e+01,\n",
       "        3.75585612e+02, -2.86856622e+02,  7.15298761e+02, -6.30712604e+02,\n",
       "        8.57596615e+02, -8.74127689e+02,  6.68001320e+02, -7.84021651e+02,\n",
       "        2.52462650e+02, -3.99030296e+02, -2.73810616e+02,  1.12928215e+02,\n",
       "       -8.04539697e+02,  6.42270198e+02, -6.83906688e+02,  7.66276518e+02,\n",
       "       -6.64774253e+00,  1.95477293e-02, -1.13485325e+01, -5.93829887e-01,\n",
       "       -1.51875918e+01,  7.73768575e-01, -1.68893472e+01,  7.88041171e+00,\n",
       "       -1.67619428e+01,  2.08115182e+01, -1.10883807e+01,  3.02849763e+01,\n",
       "       -2.88704406e-01,  2.83018609e+01,  7.85154903e-01,  1.80574486e+01,\n",
       "       -2.96960622e+00,  2.60217126e+00, -5.66299700e+00,  3.76264417e+00,\n",
       "       -1.54585344e+01,  1.21821309e+01, -2.57872435e+01,  2.29188315e+01,\n",
       "       -2.97827151e+01,  2.98382656e+01, -2.34282567e+01,  2.69049122e+01,\n",
       "       -8.42688438e+00,  1.40343578e+01,  1.06891685e+01, -4.33027297e+00,\n",
       "        1.44116310e+01, -1.43438731e+01,  3.50386159e-01, -3.33295148e-02,\n",
       "        3.51591431e-01, -5.82916160e-02,  3.64388725e-01, -2.06388071e-01,\n",
       "        3.29393334e-01, -4.37106616e-01,  2.05333629e-01, -6.12953047e-01,\n",
       "        1.17634663e-01, -5.77879743e-01,  9.55690456e-02, -3.35453775e-01,\n",
       "        3.27783105e-01, -2.40896662e-01,  5.65795419e-01, -5.10073002e-01,\n",
       "        6.34121931e-01, -6.34469874e-01,  4.93900160e-01, -5.65964330e-01,\n",
       "        1.69973667e-01, -2.93678030e-01, -4.92372598e-02, -1.10727016e-02,\n",
       "       -6.67112402e-03,  1.37011137e-03, -5.24060072e-03,  2.99510638e-03,\n",
       "       -4.20862319e-03,  5.96641949e-03, -3.32412849e-03,  7.92224635e-03,\n",
       "       -2.44279890e-03,  7.77357534e-03, -6.53252263e-03,  5.21327846e-03,\n",
       "       -8.55365382e-03,  8.61020372e-03, -6.57419909e-03,  7.55266039e-03,\n",
       "       -2.75501535e-03,  4.08308594e-03,  6.23999514e-05, -2.36346136e-05,\n",
       "        4.18054110e-05, -5.04901777e-05,  2.69129547e-05, -7.63210669e-05,\n",
       "        5.84500818e-05, -5.02567686e-05,  4.50611003e-05, -5.73455858e-05,\n",
       "       -9.11666690e-08,  1.00325302e-07])"
      ]
     },
     "execution_count": 23,
     "metadata": {},
     "output_type": "execute_result"
    }
   ],
   "source": [
    "u_n.x.array"
   ]
  },
  {
   "cell_type": "code",
   "execution_count": null,
   "metadata": {},
   "outputs": [],
   "source": []
  },
  {
   "cell_type": "code",
   "execution_count": 24,
   "metadata": {},
   "outputs": [
    {
     "name": "stdout",
     "output_type": "stream",
     "text": [
      "Function space shape: 231\n",
      "Function value size: (462,)\n"
     ]
    }
   ],
   "source": [
    "print(\"Function space shape:\", V.dofmap.index_map.size_global)  # Should match number of DOFs in 2D\n",
    "print(\"Function value size:\", u_n.x.array.shape)  # Should be (num_dofs * 2,)\n"
   ]
  },
  {
   "cell_type": "code",
   "execution_count": null,
   "metadata": {},
   "outputs": [],
   "source": []
  },
  {
   "cell_type": "code",
   "execution_count": 25,
   "metadata": {},
   "outputs": [
    {
     "name": "stdout",
     "output_type": "stream",
     "text": [
      "First 10 values of u_n.x.array[:]: [-3.43721860e+00 -3.43721860e+00 -2.68579534e+05  4.36995081e+05\n",
      " -3.43721860e+00 -9.49906519e+05 -3.15293589e+05 -8.90525111e+05\n",
      " -3.43721860e+00 -5.13550855e+05]\n"
     ]
    }
   ],
   "source": [
    "print(\"First 10 values of u_n.x.array[:]:\", u_n.x.array[:10])\n"
   ]
  },
  {
   "cell_type": "code",
   "execution_count": null,
   "metadata": {},
   "outputs": [],
   "source": []
  },
  {
   "cell_type": "code",
   "execution_count": 26,
   "metadata": {},
   "outputs": [
    {
     "name": "stdout",
     "output_type": "stream",
     "text": [
      "u_x values: [-3.43721860e+00 -2.68579534e+05 -3.43721860e+00 -3.15293589e+05\n",
      " -3.43721860e+00  8.77981097e+05 -2.44265709e+06 -2.19207590e+06\n",
      " -1.06530918e+06 -2.30612039e+05  1.87486275e+06  9.07774885e+05\n",
      "  3.23777248e+05 -3.43721860e+00  7.88123779e+05  7.34372784e+05\n",
      "  1.92666207e+06 -3.43721860e+00  5.60687521e+05 -5.91688675e+05\n",
      "  5.94103535e+05 -2.20728332e+06 -2.18711231e+06 -1.62628521e+06\n",
      " -6.87970987e+05 -8.44743728e+05 -6.81788596e+05 -7.46858405e+04\n",
      "  1.82373189e+06  7.48465206e+05 -1.21769355e+06 -1.11460086e+06\n",
      " -3.43721860e+00  6.91437072e+05  6.53350867e+05  4.45840465e+05\n",
      " -1.28901648e+05  8.86875187e+05 -3.43721860e+00  4.01920523e+05\n",
      " -1.79832797e+06 -9.53853874e+05  1.21688555e+05  0.00000000e+00\n",
      "  4.73943080e+05  4.34167767e+05 -1.17112445e+06 -1.84020925e+06\n",
      " -2.72410766e+05 -3.43721860e+00 -1.23149631e+06 -1.11246397e+06\n",
      " -9.50166584e+05  7.35404302e+05  0.00000000e+00 -2.33673757e+04\n",
      "  5.85202185e+05  1.09508391e+05 -1.12758585e+06 -9.63215228e+05\n",
      " -3.43721860e+00  1.08337038e+06  3.53661931e+05 -2.18723766e+05\n",
      " -2.44112492e+05  0.00000000e+00 -1.50760564e+06 -7.74705711e+05\n",
      "  5.54930032e+05  1.45765973e+06  9.41142451e+05 -3.43721860e+00\n",
      "  4.26052599e+05  6.06601323e+05  4.69986423e+05  1.93273814e+05\n",
      "  0.00000000e+00  4.17808432e+05  7.54436676e+04 -1.26388443e+05\n",
      " -1.93316244e+04  3.95382760e+05 -3.43721860e+00  8.68978781e+04\n",
      " -3.88195289e+05 -2.31427655e+05 -6.55861844e+04  0.00000000e+00\n",
      "  1.31104250e+06  9.46932656e+05  3.58391790e+05 -5.77265265e+04\n",
      " -7.85654472e+05 -1.90071435e+06 -1.28002758e+06 -3.45155438e+05\n",
      " -8.79489662e+04  0.00000000e+00  5.80332507e+05 -3.66481579e+05\n",
      " -3.13608889e+05  0.00000000e+00  1.92978674e+04  2.77886879e+05\n",
      "  1.20447463e+05 -2.86991810e+05 -1.88564412e+05  1.30594140e+04\n",
      "  3.69267271e+04 -7.52461920e+04  0.00000000e+00 -7.93202699e+05\n",
      "  0.00000000e+00 -1.00615412e+05  1.33649318e+04  0.00000000e+00\n",
      "  9.97041537e+05  7.81901624e+05  2.77183849e+05  2.78510350e+04\n",
      " -3.50363054e+04  5.54437913e+04  8.53954299e+04  7.82559272e+04\n",
      "  6.80499997e+04  5.76947551e+02 -7.28122244e+04 -4.78705070e+04\n",
      "  5.77050006e+04  6.59163982e+04  1.63578659e+04 -3.83208347e+03\n",
      "  1.59336426e+04  1.01095040e+05  1.38594061e+05  8.89748859e+04\n",
      "  2.47157933e+04 -5.57919080e+03 -1.06094104e+05 -2.00676485e+05\n",
      " -1.72772440e+05 -6.29018160e+04 -2.65632107e+02 -3.00610835e+03\n",
      " -6.43608375e+03 -8.14397635e+03 -9.20975280e+03 -7.47154544e+03\n",
      "  2.59189807e+02  6.72803288e+03  2.39768682e+03 -5.91627809e+03\n",
      " -4.13938439e+03 -1.28004140e+02 -6.16252498e+02 -4.75565094e+03\n",
      " -1.15352939e+04 -1.46949813e+04 -1.07357119e+04 -4.14294942e+03\n",
      "  3.39293701e+03  1.30363593e+04  1.96654094e+04  1.25798501e+04\n",
      "  3.15427409e+01  9.36494505e+01  2.65083995e+02  4.07505464e+02\n",
      "  4.78979813e+02  5.20757196e+02  3.81896436e+02 -1.75359623e+01\n",
      " -2.65398053e+02  4.54930811e+01  1.93684237e+02  3.97146291e+00\n",
      "  8.55650502e+00  1.09207609e+02  3.75585612e+02  7.15298761e+02\n",
      "  8.57596615e+02  6.68001320e+02  2.52462650e+02 -2.73810616e+02\n",
      " -8.04539697e+02 -6.83906688e+02 -6.64774253e+00 -1.13485325e+01\n",
      " -1.51875918e+01 -1.68893472e+01 -1.67619428e+01 -1.10883807e+01\n",
      " -2.88704406e-01  7.85154903e-01 -2.96960622e+00 -5.66299700e+00\n",
      " -1.54585344e+01 -2.57872435e+01 -2.97827151e+01 -2.34282567e+01\n",
      " -8.42688438e+00  1.06891685e+01  1.44116310e+01  3.50386159e-01\n",
      "  3.51591431e-01  3.64388725e-01  3.29393334e-01  2.05333629e-01\n",
      "  1.17634663e-01  9.55690456e-02  3.27783105e-01  5.65795419e-01\n",
      "  6.34121931e-01  4.93900160e-01  1.69973667e-01 -4.92372598e-02\n",
      " -6.67112402e-03 -5.24060072e-03 -4.20862319e-03 -3.32412849e-03\n",
      " -2.44279890e-03 -6.53252263e-03 -8.55365382e-03 -6.57419909e-03\n",
      " -2.75501535e-03  6.23999514e-05  4.18054110e-05  2.69129547e-05\n",
      "  5.84500818e-05  4.50611003e-05 -9.11666690e-08]\n",
      "u_y values: [-3.43721860e+00  4.36995081e+05 -9.49906519e+05 -8.90525111e+05\n",
      " -5.13550855e+05 -1.01122166e+05 -3.43721860e+00  1.71663449e+06\n",
      "  1.09449743e+06 -3.43721860e+00 -1.39005004e+06 -1.17181867e+06\n",
      " -9.70687098e+05 -6.96897664e+05 -7.93898151e+05 -6.45561496e+05\n",
      " -1.82309790e+06 -1.80576404e+06 -6.95049058e+05 -2.41663327e+05\n",
      "  1.49675586e+05 -3.43721860e+00  1.54859932e+06  1.54630414e+06\n",
      "  1.38752698e+06  1.13789562e+06 -3.43721860e+00  3.15587011e+05\n",
      " -2.03183226e+06 -9.35849831e+05  7.25628502e+05  5.80912247e+05\n",
      "  0.00000000e+00 -5.39498270e+05 -1.09412673e+05 -2.81985798e+05\n",
      " -7.97180775e+05  0.00000000e+00 -1.08524154e+06 -5.07915619e+05\n",
      "  8.15762087e+05  7.75607708e+05  1.09638456e+05 -3.43721860e+00\n",
      " -2.48528962e+05 -1.06346308e+06  1.00952016e+06  1.70048959e+06\n",
      "  0.00000000e+00  2.62733263e+05  5.41335426e+05  4.84077260e+05\n",
      "  4.21673326e+05 -5.66981652e+05 -3.43721860e+00  6.33014893e+04\n",
      "  3.48678959e+05  7.49125937e+05  8.35531918e+05  0.00000000e+00\n",
      " -8.83101215e+05 -1.34948151e+06 -4.98481911e+05 -1.46774747e+05\n",
      "  1.36661756e+05 -3.43721860e+00  7.41027634e+05  8.06254826e+05\n",
      "  4.34845973e+04 -8.92752917e+05  0.00000000e+00 -9.43765285e+05\n",
      " -6.26094796e+05 -2.54966220e+05 -2.05553863e+05 -1.23134360e+05\n",
      " -3.43721860e+00 -1.54354719e+06 -6.21941933e+05  6.18405068e+03\n",
      " -1.71909081e+05  0.00000000e+00 -8.30215918e+05  1.53558062e+05\n",
      "  6.49396209e+05  4.24439874e+05  1.14316596e+05 -3.43721860e+00\n",
      " -1.96504975e+06 -9.14592857e+05  4.91066513e+04  1.03703288e+05\n",
      "  0.00000000e+00  1.29455505e+06  1.37768668e+06  6.28101575e+05\n",
      "  9.52973462e+04  1.23581405e+03 -5.01014061e+05  1.16235976e+05\n",
      "  7.18731496e+05  7.15560943e+05  1.46110560e+05  6.56824070e+04\n",
      "  0.00000000e+00  2.36601810e+05 -4.87996834e+04  0.00000000e+00\n",
      " -8.93100271e+04 -1.46770659e+05  5.43619757e+05  9.50857099e+05\n",
      "  6.50300666e+05  0.00000000e+00  0.00000000e+00 -3.59954458e+05\n",
      " -8.27115447e+05 -8.45574740e+05 -3.98602597e+05 -3.47521777e+04\n",
      "  1.08115728e+04  3.83629178e+04 -1.26547455e+04 -1.36700991e+05\n",
      " -1.79732588e+05 -9.58248127e+04 -2.72819548e+04 -4.72666403e+04\n",
      " -3.07873506e+04  9.81153168e+03  5.34252165e+04  2.21274340e+03\n",
      " -2.31693910e+04 -9.70846568e+04 -1.76671034e+05 -1.34875971e+05\n",
      " -4.39062368e+04  1.57787654e+04  8.15536832e+04  1.84912212e+05\n",
      "  1.91155223e+05  9.12362356e+04 -4.84470417e+02 -1.44513620e+03\n",
      " -1.97111032e+03  1.96938088e+03  1.16587201e+04  1.75208154e+04\n",
      "  1.26178655e+04  5.75709567e+03  4.96398669e+03  4.06184892e+03\n",
      " -6.40437096e+03 -7.56243047e+01  5.54411433e+02  3.62022630e+03\n",
      "  1.03990215e+04  1.57258901e+04  1.36692803e+04  6.14138598e+03\n",
      " -1.61046700e+03 -1.03001347e+04 -1.81125903e+04 -1.58536643e+04\n",
      "  1.04338338e+01  2.07694968e+01  5.42968319e+01  4.60391363e+01\n",
      " -1.73026434e+02 -6.24037077e+02 -9.38603397e+02 -7.95180385e+02\n",
      " -4.75049754e+02 -2.98233244e+02  1.27944257e+02  9.61871652e-01\n",
      " -7.86259296e+00 -7.38468627e+01 -2.86856622e+02 -6.30712604e+02\n",
      " -8.74127689e+02 -7.84021651e+02 -3.99030296e+02  1.12928215e+02\n",
      "  6.42270198e+02  7.66276518e+02  1.95477293e-02 -5.93829887e-01\n",
      "  7.73768575e-01  7.88041171e+00  2.08115182e+01  3.02849763e+01\n",
      "  2.83018609e+01  1.80574486e+01  2.60217126e+00  3.76264417e+00\n",
      "  1.21821309e+01  2.29188315e+01  2.98382656e+01  2.69049122e+01\n",
      "  1.40343578e+01 -4.33027297e+00 -1.43438731e+01 -3.33295148e-02\n",
      " -5.82916160e-02 -2.06388071e-01 -4.37106616e-01 -6.12953047e-01\n",
      " -5.77879743e-01 -3.35453775e-01 -2.40896662e-01 -5.10073002e-01\n",
      " -6.34469874e-01 -5.65964330e-01 -2.93678030e-01 -1.10727016e-02\n",
      "  1.37011137e-03  2.99510638e-03  5.96641949e-03  7.92224635e-03\n",
      "  7.77357534e-03  5.21327846e-03  8.61020372e-03  7.55266039e-03\n",
      "  4.08308594e-03 -2.36346136e-05 -5.04901777e-05 -7.63210669e-05\n",
      " -5.02567686e-05 -5.73455858e-05  1.00325302e-07]\n"
     ]
    }
   ],
   "source": [
    "print(\"u_x values:\", u_n.x.array[::2])  # Every 2nd value is u_x\n",
    "print(\"u_y values:\", u_n.x.array[1::2])  # Every 2nd value is u_y\n"
   ]
  },
  {
   "cell_type": "code",
   "execution_count": 27,
   "metadata": {},
   "outputs": [
    {
     "name": "stdout",
     "output_type": "stream",
     "text": [
      "f\n"
     ]
    }
   ],
   "source": [
    "print(b)"
   ]
  },
  {
   "cell_type": "code",
   "execution_count": null,
   "metadata": {},
   "outputs": [],
   "source": []
  },
  {
   "cell_type": "code",
   "execution_count": null,
   "metadata": {},
   "outputs": [],
   "source": []
  },
  {
   "cell_type": "code",
   "execution_count": null,
   "metadata": {},
   "outputs": [],
   "source": []
  }
 ],
 "metadata": {
  "kernelspec": {
   "display_name": "Python 3 (ipykernel)",
   "language": "python",
   "name": "python3"
  },
  "language_info": {
   "codemirror_mode": {
    "name": "ipython",
    "version": 3
   },
   "file_extension": ".py",
   "mimetype": "text/x-python",
   "name": "python",
   "nbconvert_exporter": "python",
   "pygments_lexer": "ipython3",
   "version": "3.12.3"
  }
 },
 "nbformat": 4,
 "nbformat_minor": 4
}
