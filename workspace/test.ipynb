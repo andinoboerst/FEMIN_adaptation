{
 "cells": [
  {
   "cell_type": "code",
   "execution_count": 2,
   "metadata": {},
   "outputs": [
    {
     "ename": "TimeoutError",
     "evalue": "JIT compilation timed out, probably due to a failed previous compile. Try cleaning cache (e.g. remove /root/.cache/fenics/libffcx_forms_ae6a141403a158277e6ea637876432621dd4b44d.c) or increase timeout option.",
     "output_type": "error",
     "traceback": [
      "\u001b[0;31m---------------------------------------------------------------------------\u001b[0m",
      "\u001b[0;31mFileExistsError\u001b[0m                           Traceback (most recent call last)",
      "File \u001b[0;32m/dolfinx-env/lib/python3.12/site-packages/ffcx/codegeneration/jit.py:97\u001b[0m, in \u001b[0;36mget_cached_module\u001b[0;34m(module_name, object_names, cache_dir, timeout)\u001b[0m\n\u001b[1;32m     95\u001b[0m \u001b[38;5;28;01mtry\u001b[39;00m:\n\u001b[1;32m     96\u001b[0m     \u001b[38;5;66;03m# Create C file with exclusive access\u001b[39;00m\n\u001b[0;32m---> 97\u001b[0m     \u001b[38;5;28;01mwith\u001b[39;00m \u001b[38;5;28;43mopen\u001b[39;49m\u001b[43m(\u001b[49m\u001b[43mc_filename\u001b[49m\u001b[43m,\u001b[49m\u001b[43m \u001b[49m\u001b[38;5;124;43m\"\u001b[39;49m\u001b[38;5;124;43mx\u001b[39;49m\u001b[38;5;124;43m\"\u001b[39;49m\u001b[43m)\u001b[49m:\n\u001b[1;32m     98\u001b[0m         \u001b[38;5;28;01mpass\u001b[39;00m\n",
      "\u001b[0;31mFileExistsError\u001b[0m: [Errno 17] File exists: '/root/.cache/fenics/libffcx_forms_ae6a141403a158277e6ea637876432621dd4b44d.c'",
      "\nDuring handling of the above exception, another exception occurred:\n",
      "\u001b[0;31mTimeoutError\u001b[0m                              Traceback (most recent call last)",
      "Cell \u001b[0;32mIn[2], line 60\u001b[0m\n\u001b[1;32m     58\u001b[0m \u001b[38;5;66;03m# Define variational problem\u001b[39;00m\n\u001b[1;32m     59\u001b[0m residual \u001b[38;5;241m=\u001b[39m ufl\u001b[38;5;241m.\u001b[39minner(sigma_new, strain(nu)) \u001b[38;5;241m*\u001b[39m ufl\u001b[38;5;241m.\u001b[39mdx\n\u001b[0;32m---> 60\u001b[0m problem \u001b[38;5;241m=\u001b[39m \u001b[43mNonlinearProblem\u001b[49m\u001b[43m(\u001b[49m\u001b[43mresidual\u001b[49m\u001b[43m,\u001b[49m\u001b[43m \u001b[49m\u001b[43mu_\u001b[49m\u001b[43m,\u001b[49m\u001b[43m \u001b[49m\u001b[43mbcs\u001b[49m\u001b[38;5;241;43m=\u001b[39;49m\u001b[43m[\u001b[49m\u001b[43m]\u001b[49m\u001b[43m)\u001b[49m\n\u001b[1;32m     61\u001b[0m solver \u001b[38;5;241m=\u001b[39m NewtonSolver(MPI\u001b[38;5;241m.\u001b[39mCOMM_WORLD, problem)\n\u001b[1;32m     62\u001b[0m solver\u001b[38;5;241m.\u001b[39msolve(u_)\n",
      "File \u001b[0;32m/usr/local/dolfinx-real/lib/python3.12/dist-packages/dolfinx/fem/petsc.py:922\u001b[0m, in \u001b[0;36mNonlinearProblem.__init__\u001b[0;34m(self, F, u, bcs, J, form_compiler_options, jit_options)\u001b[0m\n\u001b[1;32m    894\u001b[0m \u001b[38;5;28;01mdef\u001b[39;00m \u001b[38;5;21m__init__\u001b[39m(\n\u001b[1;32m    895\u001b[0m     \u001b[38;5;28mself\u001b[39m,\n\u001b[1;32m    896\u001b[0m     F: ufl\u001b[38;5;241m.\u001b[39mform\u001b[38;5;241m.\u001b[39mForm,\n\u001b[0;32m   (...)\u001b[0m\n\u001b[1;32m    901\u001b[0m     jit_options: typing\u001b[38;5;241m.\u001b[39mOptional[\u001b[38;5;28mdict\u001b[39m] \u001b[38;5;241m=\u001b[39m \u001b[38;5;28;01mNone\u001b[39;00m,\n\u001b[1;32m    902\u001b[0m ):\n\u001b[1;32m    903\u001b[0m \u001b[38;5;250m    \u001b[39m\u001b[38;5;124;03m\"\"\"Initialize solver for solving a non-linear problem using Newton's method`.\u001b[39;00m\n\u001b[1;32m    904\u001b[0m \n\u001b[1;32m    905\u001b[0m \u001b[38;5;124;03m    Args:\u001b[39;00m\n\u001b[0;32m   (...)\u001b[0m\n\u001b[1;32m    920\u001b[0m \u001b[38;5;124;03m        problem = LinearProblem(F, u, [bc0, bc1])\u001b[39;00m\n\u001b[1;32m    921\u001b[0m \u001b[38;5;124;03m    \"\"\"\u001b[39;00m\n\u001b[0;32m--> 922\u001b[0m     \u001b[38;5;28mself\u001b[39m\u001b[38;5;241m.\u001b[39m_L \u001b[38;5;241m=\u001b[39m \u001b[43m_create_form\u001b[49m\u001b[43m(\u001b[49m\n\u001b[1;32m    923\u001b[0m \u001b[43m        \u001b[49m\u001b[43mF\u001b[49m\u001b[43m,\u001b[49m\u001b[43m \u001b[49m\u001b[43mform_compiler_options\u001b[49m\u001b[38;5;241;43m=\u001b[39;49m\u001b[43mform_compiler_options\u001b[49m\u001b[43m,\u001b[49m\u001b[43m \u001b[49m\u001b[43mjit_options\u001b[49m\u001b[38;5;241;43m=\u001b[39;49m\u001b[43mjit_options\u001b[49m\n\u001b[1;32m    924\u001b[0m \u001b[43m    \u001b[49m\u001b[43m)\u001b[49m\n\u001b[1;32m    926\u001b[0m     \u001b[38;5;66;03m# Create the Jacobian matrix, dF/du\u001b[39;00m\n\u001b[1;32m    927\u001b[0m     \u001b[38;5;28;01mif\u001b[39;00m J \u001b[38;5;129;01mis\u001b[39;00m \u001b[38;5;28;01mNone\u001b[39;00m:\n",
      "File \u001b[0;32m/usr/local/dolfinx-real/lib/python3.12/dist-packages/dolfinx/fem/forms.py:337\u001b[0m, in \u001b[0;36mform\u001b[0;34m(form, dtype, form_compiler_options, jit_options, entity_maps)\u001b[0m\n\u001b[1;32m    334\u001b[0m     \u001b[38;5;28;01melse\u001b[39;00m:\n\u001b[1;32m    335\u001b[0m         \u001b[38;5;28;01mreturn\u001b[39;00m form\n\u001b[0;32m--> 337\u001b[0m \u001b[38;5;28;01mreturn\u001b[39;00m \u001b[43m_create_form\u001b[49m\u001b[43m(\u001b[49m\u001b[43mform\u001b[49m\u001b[43m)\u001b[49m\n",
      "File \u001b[0;32m/usr/local/dolfinx-real/lib/python3.12/dist-packages/dolfinx/fem/forms.py:331\u001b[0m, in \u001b[0;36mform.<locals>._create_form\u001b[0;34m(form)\u001b[0m\n\u001b[1;32m    329\u001b[0m         \u001b[38;5;28;01mreturn\u001b[39;00m \u001b[38;5;28;01mNone\u001b[39;00m\n\u001b[1;32m    330\u001b[0m     \u001b[38;5;28;01melse\u001b[39;00m:\n\u001b[0;32m--> 331\u001b[0m         \u001b[38;5;28;01mreturn\u001b[39;00m \u001b[43m_form\u001b[49m\u001b[43m(\u001b[49m\u001b[43mform\u001b[49m\u001b[43m)\u001b[49m\n\u001b[1;32m    332\u001b[0m \u001b[38;5;28;01melif\u001b[39;00m \u001b[38;5;28misinstance\u001b[39m(form, collections\u001b[38;5;241m.\u001b[39mabc\u001b[38;5;241m.\u001b[39mIterable):\n\u001b[1;32m    333\u001b[0m     \u001b[38;5;28;01mreturn\u001b[39;00m \u001b[38;5;28mlist\u001b[39m(\u001b[38;5;28mmap\u001b[39m(\u001b[38;5;28;01mlambda\u001b[39;00m sub_form: _create_form(sub_form), form))\n",
      "File \u001b[0;32m/usr/local/dolfinx-real/lib/python3.12/dist-packages/dolfinx/fem/forms.py:254\u001b[0m, in \u001b[0;36mform.<locals>._form\u001b[0;34m(form)\u001b[0m\n\u001b[1;32m    252\u001b[0m \u001b[38;5;28;01mif\u001b[39;00m mesh \u001b[38;5;129;01mis\u001b[39;00m \u001b[38;5;28;01mNone\u001b[39;00m:\n\u001b[1;32m    253\u001b[0m     \u001b[38;5;28;01mraise\u001b[39;00m \u001b[38;5;167;01mRuntimeError\u001b[39;00m(\u001b[38;5;124m\"\u001b[39m\u001b[38;5;124mExpecting to find a Mesh in the form.\u001b[39m\u001b[38;5;124m\"\u001b[39m)\n\u001b[0;32m--> 254\u001b[0m ufcx_form, module, code \u001b[38;5;241m=\u001b[39m \u001b[43mjit\u001b[49m\u001b[38;5;241;43m.\u001b[39;49m\u001b[43mffcx_jit\u001b[49m\u001b[43m(\u001b[49m\n\u001b[1;32m    255\u001b[0m \u001b[43m    \u001b[49m\u001b[43mmesh\u001b[49m\u001b[38;5;241;43m.\u001b[39;49m\u001b[43mcomm\u001b[49m\u001b[43m,\u001b[49m\u001b[43m \u001b[49m\u001b[43mform\u001b[49m\u001b[43m,\u001b[49m\u001b[43m \u001b[49m\u001b[43mform_compiler_options\u001b[49m\u001b[38;5;241;43m=\u001b[39;49m\u001b[43mform_compiler_options\u001b[49m\u001b[43m,\u001b[49m\u001b[43m \u001b[49m\u001b[43mjit_options\u001b[49m\u001b[38;5;241;43m=\u001b[39;49m\u001b[43mjit_options\u001b[49m\n\u001b[1;32m    256\u001b[0m \u001b[43m\u001b[49m\u001b[43m)\u001b[49m\n\u001b[1;32m    258\u001b[0m \u001b[38;5;66;03m# For each argument in form extract its function space\u001b[39;00m\n\u001b[1;32m    259\u001b[0m V \u001b[38;5;241m=\u001b[39m [arg\u001b[38;5;241m.\u001b[39mufl_function_space()\u001b[38;5;241m.\u001b[39m_cpp_object \u001b[38;5;28;01mfor\u001b[39;00m arg \u001b[38;5;129;01min\u001b[39;00m form\u001b[38;5;241m.\u001b[39marguments()]\n",
      "File \u001b[0;32m/usr/local/dolfinx-real/lib/python3.12/dist-packages/dolfinx/jit.py:62\u001b[0m, in \u001b[0;36mmpi_jit_decorator.<locals>.mpi_jit\u001b[0;34m(comm, *args, **kwargs)\u001b[0m\n\u001b[1;32m     58\u001b[0m \u001b[38;5;129m@functools\u001b[39m\u001b[38;5;241m.\u001b[39mwraps(local_jit)\n\u001b[1;32m     59\u001b[0m \u001b[38;5;28;01mdef\u001b[39;00m \u001b[38;5;21mmpi_jit\u001b[39m(comm, \u001b[38;5;241m*\u001b[39margs, \u001b[38;5;241m*\u001b[39m\u001b[38;5;241m*\u001b[39mkwargs):\n\u001b[1;32m     60\u001b[0m     \u001b[38;5;66;03m# Just call JIT compiler when running in serial\u001b[39;00m\n\u001b[1;32m     61\u001b[0m     \u001b[38;5;28;01mif\u001b[39;00m comm\u001b[38;5;241m.\u001b[39msize \u001b[38;5;241m==\u001b[39m \u001b[38;5;241m1\u001b[39m:\n\u001b[0;32m---> 62\u001b[0m         \u001b[38;5;28;01mreturn\u001b[39;00m \u001b[43mlocal_jit\u001b[49m\u001b[43m(\u001b[49m\u001b[38;5;241;43m*\u001b[39;49m\u001b[43margs\u001b[49m\u001b[43m,\u001b[49m\u001b[43m \u001b[49m\u001b[38;5;241;43m*\u001b[39;49m\u001b[38;5;241;43m*\u001b[39;49m\u001b[43mkwargs\u001b[49m\u001b[43m)\u001b[49m\n\u001b[1;32m     64\u001b[0m     \u001b[38;5;66;03m# Default status (0 == ok, 1 == fail)\u001b[39;00m\n\u001b[1;32m     65\u001b[0m     status \u001b[38;5;241m=\u001b[39m \u001b[38;5;241m0\u001b[39m\n",
      "File \u001b[0;32m/usr/local/dolfinx-real/lib/python3.12/dist-packages/dolfinx/jit.py:212\u001b[0m, in \u001b[0;36mffcx_jit\u001b[0;34m(ufl_object, form_compiler_options, jit_options)\u001b[0m\n\u001b[1;32m    210\u001b[0m \u001b[38;5;66;03m# Switch on type and compile, returning cffi object\u001b[39;00m\n\u001b[1;32m    211\u001b[0m \u001b[38;5;28;01mif\u001b[39;00m \u001b[38;5;28misinstance\u001b[39m(ufl_object, ufl\u001b[38;5;241m.\u001b[39mForm):\n\u001b[0;32m--> 212\u001b[0m     r \u001b[38;5;241m=\u001b[39m \u001b[43mffcx\u001b[49m\u001b[38;5;241;43m.\u001b[39;49m\u001b[43mcodegeneration\u001b[49m\u001b[38;5;241;43m.\u001b[39;49m\u001b[43mjit\u001b[49m\u001b[38;5;241;43m.\u001b[39;49m\u001b[43mcompile_forms\u001b[49m\u001b[43m(\u001b[49m\u001b[43m[\u001b[49m\u001b[43mufl_object\u001b[49m\u001b[43m]\u001b[49m\u001b[43m,\u001b[49m\u001b[43m \u001b[49m\u001b[43moptions\u001b[49m\u001b[38;5;241;43m=\u001b[39;49m\u001b[43mp_ffcx\u001b[49m\u001b[43m,\u001b[49m\u001b[43m \u001b[49m\u001b[38;5;241;43m*\u001b[39;49m\u001b[38;5;241;43m*\u001b[39;49m\u001b[43mp_jit\u001b[49m\u001b[43m)\u001b[49m\n\u001b[1;32m    213\u001b[0m \u001b[38;5;28;01melif\u001b[39;00m \u001b[38;5;28misinstance\u001b[39m(ufl_object, ufl\u001b[38;5;241m.\u001b[39mMesh):\n\u001b[1;32m    214\u001b[0m     r \u001b[38;5;241m=\u001b[39m ffcx\u001b[38;5;241m.\u001b[39mcodegeneration\u001b[38;5;241m.\u001b[39mjit\u001b[38;5;241m.\u001b[39mcompile_coordinate_maps([ufl_object], options\u001b[38;5;241m=\u001b[39mp_ffcx, \u001b[38;5;241m*\u001b[39m\u001b[38;5;241m*\u001b[39mp_jit)\n",
      "File \u001b[0;32m/dolfinx-env/lib/python3.12/site-packages/ffcx/codegeneration/jit.py:188\u001b[0m, in \u001b[0;36mcompile_forms\u001b[0;34m(forms, options, cache_dir, timeout, cffi_extra_compile_args, cffi_verbose, cffi_debug, cffi_libraries, visualise)\u001b[0m\n\u001b[1;32m    186\u001b[0m \u001b[38;5;28;01mif\u001b[39;00m cache_dir \u001b[38;5;129;01mis\u001b[39;00m \u001b[38;5;129;01mnot\u001b[39;00m \u001b[38;5;28;01mNone\u001b[39;00m:\n\u001b[1;32m    187\u001b[0m     cache_dir \u001b[38;5;241m=\u001b[39m Path(cache_dir)\n\u001b[0;32m--> 188\u001b[0m     obj, mod \u001b[38;5;241m=\u001b[39m \u001b[43mget_cached_module\u001b[49m\u001b[43m(\u001b[49m\u001b[43mmodule_name\u001b[49m\u001b[43m,\u001b[49m\u001b[43m \u001b[49m\u001b[43mform_names\u001b[49m\u001b[43m,\u001b[49m\u001b[43m \u001b[49m\u001b[43mcache_dir\u001b[49m\u001b[43m,\u001b[49m\u001b[43m \u001b[49m\u001b[43mtimeout\u001b[49m\u001b[43m)\u001b[49m\n\u001b[1;32m    189\u001b[0m     \u001b[38;5;28;01mif\u001b[39;00m obj \u001b[38;5;129;01mis\u001b[39;00m \u001b[38;5;129;01mnot\u001b[39;00m \u001b[38;5;28;01mNone\u001b[39;00m:\n\u001b[1;32m    190\u001b[0m         \u001b[38;5;28;01mreturn\u001b[39;00m obj, mod, (\u001b[38;5;28;01mNone\u001b[39;00m, \u001b[38;5;28;01mNone\u001b[39;00m)\n",
      "File \u001b[0;32m/dolfinx-env/lib/python3.12/site-packages/ffcx/codegeneration/jit.py:122\u001b[0m, in \u001b[0;36mget_cached_module\u001b[0;34m(module_name, object_names, cache_dir, timeout)\u001b[0m\n\u001b[1;32m    120\u001b[0m     logger\u001b[38;5;241m.\u001b[39minfo(\u001b[38;5;124mf\u001b[39m\u001b[38;5;124m\"\u001b[39m\u001b[38;5;124mWaiting for \u001b[39m\u001b[38;5;132;01m{\u001b[39;00mready_name\u001b[38;5;132;01m}\u001b[39;00m\u001b[38;5;124m to appear.\u001b[39m\u001b[38;5;124m\"\u001b[39m)\n\u001b[1;32m    121\u001b[0m     time\u001b[38;5;241m.\u001b[39msleep(\u001b[38;5;241m1\u001b[39m)\n\u001b[0;32m--> 122\u001b[0m \u001b[38;5;28;01mraise\u001b[39;00m \u001b[38;5;167;01mTimeoutError\u001b[39;00m(\n\u001b[1;32m    123\u001b[0m     \u001b[38;5;124m\"\u001b[39m\u001b[38;5;124mJIT compilation timed out, probably due to a failed previous compile. \u001b[39m\u001b[38;5;124m\"\u001b[39m\n\u001b[1;32m    124\u001b[0m     \u001b[38;5;124mf\u001b[39m\u001b[38;5;124m\"\u001b[39m\u001b[38;5;124mTry cleaning cache (e.g. remove \u001b[39m\u001b[38;5;132;01m{\u001b[39;00mc_filename\u001b[38;5;132;01m}\u001b[39;00m\u001b[38;5;124m) or increase timeout option.\u001b[39m\u001b[38;5;124m\"\u001b[39m\n\u001b[1;32m    125\u001b[0m )\n",
      "\u001b[0;31mTimeoutError\u001b[0m: JIT compilation timed out, probably due to a failed previous compile. Try cleaning cache (e.g. remove /root/.cache/fenics/libffcx_forms_ae6a141403a158277e6ea637876432621dd4b44d.c) or increase timeout option."
     ]
    }
   ],
   "source": [
    "from dolfinx import mesh, fem, nls, cpp\n",
    "from dolfinx.fem.petsc import NonlinearProblem\n",
    "from dolfinx.nls.petsc import NewtonSolver\n",
    "import ufl\n",
    "import numpy as np\n",
    "from mpi4py import MPI\n",
    "\n",
    "# Create mesh and function space\n",
    "domain = mesh.create_unit_square(MPI.COMM_WORLD, 10, 10)\n",
    "V = fem.functionspace(domain, (\"CG\", 2, (2,)))\n",
    "\n",
    "# Define material properties\n",
    "E = 210e9  # Young's modulus (Pa)\n",
    "v = 0.3    # Poisson's ratio\n",
    "sigma_Y = 250e6  # Yield stress (Pa)\n",
    "C_k = 10e9  # Kinematic hardening modulus\n",
    "\n",
    "# Define elasticity parameters\n",
    "mu = E / (2 * (1 + v))\n",
    "lambda_ = E * v / ((1 + v) * (1 - 2 * v))\n",
    "\n",
    "def epsilon(u):\n",
    "    return ufl.sym(ufl.grad(u))\n",
    "\n",
    "def sigma(u):\n",
    "    epsilon = epsilon(u)\n",
    "    return lambda_ * ufl.tr(epsilon) * ufl.Identity(2) + 2 * mu * epsilon\n",
    "\n",
    "def sigma_dev(sigma):\n",
    "    return sigma - (1/3) * ufl.tr(sigma) * ufl.Identity(2)\n",
    "\n",
    "# Define trial and test functions\n",
    "v = ufl.TestFunction(V)\n",
    "u = ufl.TrialFunction(V)\n",
    "u_k = fem.Function(V)  # Displacement field\n",
    "\n",
    "# Initial conditions\n",
    "W = fem.functionspace(domain, (\"DG\", 0, (2, 2)))\n",
    "sigma_old = fem.Function(W)\n",
    "alpha_old = fem.Function(W)\n",
    "eps_p_old = fem.Function(W)\n",
    "\n",
    "# Define elastic trial stress\n",
    "sigma_trial = sigma(u_k)\n",
    "s_trial = sigma_dev(sigma_trial)\n",
    "\n",
    "# Compute yield function\n",
    "f_trial = ufl.sqrt(ufl.inner(s_trial - alpha_old, s_trial - alpha_old)) - sigma_Y\n",
    "\n",
    "# Return mapping (Plastic correction)\n",
    "delta_lambda = ufl.conditional(f_trial > 0, f_trial / (2 * mu + C_k), 0)\n",
    "eps_p_new = eps_p_old + delta_lambda * (s_trial - alpha_old) / ufl.sqrt(ufl.inner(s_trial - alpha_old, s_trial - alpha_old))\n",
    "alpha_new = alpha_old + C_k * (eps_p_new - eps_p_old)\n",
    "\n",
    "# Compute updated stress\n",
    "sigma_new = sigma(u_k) - 2 * mu * (eps_p_new - eps_p_old)\n",
    "\n",
    "# Define variational problem\n",
    "residual = ufl.inner(sigma_new, epsilon(v)) * ufl.dx\n",
    "problem = NonlinearProblem(residual, u_k, bcs=[])\n",
    "solver = NewtonSolver(MPI.COMM_WORLD, problem)\n",
    "solver.solve(u_k)\n"
   ]
  },
  {
   "cell_type": "code",
   "execution_count": null,
   "metadata": {},
   "outputs": [],
   "source": []
  },
  {
   "cell_type": "code",
   "execution_count": null,
   "metadata": {},
   "outputs": [],
   "source": [
    "from dolfinx import mesh, fem, nls, cpp, common\n",
    "import ufl\n",
    "import numpy as np\n",
    "from mpi4py import MPI\n",
    "\n",
    "# Increase JIT compilation timeout\n",
    "common.jit_parameters[\"timeout\"] = 600  # 10 minutes\n",
    "\n",
    "# Create mesh and function space\n",
    "domain = mesh.create_unit_square(MPI.COMM_WORLD, 10, 10)\n",
    "V = fem.functionspace(domain, (\"CG\", 2, (2,)))\n",
    "\n",
    "# Define material properties\n",
    "E = 210e9  # Young's modulus (Pa)\n",
    "nu = 0.3    # Poisson's ratio\n",
    "sigma_Y = 250e6  # Yield stress (Pa)\n",
    "C_k = 10e9  # Kinematic hardening modulus\n",
    "\n",
    "# Define elasticity parameters\n",
    "mu = E / (2 * (1 + nu))\n",
    "lambda_ = E * nu / ((1 + nu) * (1 - 2 * nu))\n",
    "\n",
    "def strain(u):\n",
    "    return ufl.sym(ufl.grad(u))\n",
    "\n",
    "def stress(u):\n",
    "    epsilon = strain(u)\n",
    "    return lambda_ * ufl.tr(epsilon) * ufl.Identity(2) + 2 * mu * epsilon\n",
    "\n",
    "def deviatoric_stress(sigma):\n",
    "    return sigma - (1/3) * ufl.tr(sigma) * ufl.Identity(2)\n",
    "\n",
    "# Define trial and test functions\n",
    "nu = ufl.TestFunction(V)\n",
    "du = ufl.TrialFunction(V)\n",
    "u_ = fem.Function(V)  # Displacement field\n",
    "\n",
    "# Initial conditions\n",
    "sigma_old = fem.Function(fem.TensorFunctionSpace(domain, (ufl.FiniteElement(\"DG\", domain.ufl_cell(), 0))))\n",
    "alpha_old = fem.Function(fem.TensorFunctionSpace(domain, (ufl.FiniteElement(\"DG\", domain.ufl_cell(), 0))))\n",
    "eps_p_old = fem.Function(fem.TensorFunctionSpace(domain, (ufl.FiniteElement(\"DG\", domain.ufl_cell(), 0))))\n",
    "\n",
    "# Define elastic trial stress\n",
    "sigma_trial = stress(u_)\n",
    "s_trial = deviatoric_stress(sigma_trial)\n",
    "\n",
    "# Compute yield function\n",
    "f_trial = ufl.sqrt(ufl.inner(s_trial - alpha_old, s_trial - alpha_old)) - sigma_Y\n",
    "\n",
    "# Return mapping (Plastic correction)\n",
    "delta_lambda = ufl.conditional(f_trial > 0, f_trial / (2 * mu + C_k + 1e-8), 0)  # Small epsilon added for numerical stability\n",
    "eps_p_new = eps_p_old + delta_lambda * (s_trial - alpha_old) / ufl.sqrt(ufl.inner(s_trial - alpha_old, s_trial - alpha_old) + 1e-8)\n",
    "alpha_new = alpha_old + C_k * (eps_p_new - eps_p_old)\n",
    "\n",
    "# Compute updated stress\n",
    "sigma_new = stress(u_) - 2 * mu * (eps_p_new - eps_p_old)\n",
    "\n",
    "# Define variational problem\n",
    "residual = ufl.inner(sigma_new, strain(nu)) * ufl.dx\n",
    "problem = fem.petsc.NonlinearProblem(residual, u_, bcs=[])\n",
    "solver = nls.petsc.NewtonSolver(MPI.COMM_WORLD, problem)\n",
    "\n",
    "# Improve solver debugging and tolerance settings\n",
    "solver.atol = 1e-8\n",
    "solver.rtol = 1e-8\n",
    "solver.report = True\n",
    "solver.solve(u_)\n"
   ]
  },
  {
   "cell_type": "code",
   "execution_count": null,
   "metadata": {},
   "outputs": [],
   "source": []
  },
  {
   "cell_type": "code",
   "execution_count": 3,
   "metadata": {},
   "outputs": [
    {
     "ename": "AttributeError",
     "evalue": "'Form' object has no attribute '_cpp_object'",
     "output_type": "error",
     "traceback": [
      "\u001b[0;31m---------------------------------------------------------------------------\u001b[0m",
      "\u001b[0;31mAttributeError\u001b[0m                            Traceback (most recent call last)",
      "Cell \u001b[0;32mIn[3], line 20\u001b[0m\n\u001b[1;32m     17\u001b[0m L \u001b[38;5;241m=\u001b[39m f \u001b[38;5;241m*\u001b[39m v \u001b[38;5;241m*\u001b[39m ufl\u001b[38;5;241m.\u001b[39mdx  \u001b[38;5;66;03m# RHS\u001b[39;00m\n\u001b[1;32m     19\u001b[0m \u001b[38;5;66;03m# Assemble the Jacobian\u001b[39;00m\n\u001b[0;32m---> 20\u001b[0m A \u001b[38;5;241m=\u001b[39m \u001b[43mfem\u001b[49m\u001b[38;5;241;43m.\u001b[39;49m\u001b[43massemble_matrix\u001b[49m\u001b[43m(\u001b[49m\u001b[43ma\u001b[49m\u001b[43m)\u001b[49m  \u001b[38;5;66;03m# This should work\u001b[39;00m\n\u001b[1;32m     21\u001b[0m A\u001b[38;5;241m.\u001b[39massemble()\n\u001b[1;32m     22\u001b[0m \u001b[38;5;28mprint\u001b[39m(A)\n",
      "File \u001b[0;32m/usr/lib/python3.12/functools.py:909\u001b[0m, in \u001b[0;36msingledispatch.<locals>.wrapper\u001b[0;34m(*args, **kw)\u001b[0m\n\u001b[1;32m    905\u001b[0m \u001b[38;5;28;01mif\u001b[39;00m \u001b[38;5;129;01mnot\u001b[39;00m args:\n\u001b[1;32m    906\u001b[0m     \u001b[38;5;28;01mraise\u001b[39;00m \u001b[38;5;167;01mTypeError\u001b[39;00m(\u001b[38;5;124mf\u001b[39m\u001b[38;5;124m'\u001b[39m\u001b[38;5;132;01m{\u001b[39;00mfuncname\u001b[38;5;132;01m}\u001b[39;00m\u001b[38;5;124m requires at least \u001b[39m\u001b[38;5;124m'\u001b[39m\n\u001b[1;32m    907\u001b[0m                     \u001b[38;5;124m'\u001b[39m\u001b[38;5;124m1 positional argument\u001b[39m\u001b[38;5;124m'\u001b[39m)\n\u001b[0;32m--> 909\u001b[0m \u001b[38;5;28;01mreturn\u001b[39;00m \u001b[43mdispatch\u001b[49m\u001b[43m(\u001b[49m\u001b[43margs\u001b[49m\u001b[43m[\u001b[49m\u001b[38;5;241;43m0\u001b[39;49m\u001b[43m]\u001b[49m\u001b[38;5;241;43m.\u001b[39;49m\u001b[38;5;18;43m__class__\u001b[39;49m\u001b[43m)\u001b[49m\u001b[43m(\u001b[49m\u001b[38;5;241;43m*\u001b[39;49m\u001b[43margs\u001b[49m\u001b[43m,\u001b[49m\u001b[43m \u001b[49m\u001b[38;5;241;43m*\u001b[39;49m\u001b[38;5;241;43m*\u001b[39;49m\u001b[43mkw\u001b[49m\u001b[43m)\u001b[49m\n",
      "File \u001b[0;32m/usr/local/dolfinx-real/lib/python3.12/dist-packages/dolfinx/fem/assemble.py:253\u001b[0m, in \u001b[0;36massemble_matrix\u001b[0;34m(a, bcs, diagonal, constants, coeffs, block_mode)\u001b[0m\n\u001b[1;32m    228\u001b[0m \u001b[38;5;250m\u001b[39m\u001b[38;5;124;03m\"\"\"Assemble bilinear form into a matrix.\u001b[39;00m\n\u001b[1;32m    229\u001b[0m \n\u001b[1;32m    230\u001b[0m \u001b[38;5;124;03mArgs:\u001b[39;00m\n\u001b[0;32m   (...)\u001b[0m\n\u001b[1;32m    250\u001b[0m \u001b[38;5;124;03m    accumulated.\u001b[39;00m\n\u001b[1;32m    251\u001b[0m \u001b[38;5;124;03m\"\"\"\u001b[39;00m\n\u001b[1;32m    252\u001b[0m bcs \u001b[38;5;241m=\u001b[39m [] \u001b[38;5;28;01mif\u001b[39;00m bcs \u001b[38;5;129;01mis\u001b[39;00m \u001b[38;5;28;01mNone\u001b[39;00m \u001b[38;5;28;01melse\u001b[39;00m bcs\n\u001b[0;32m--> 253\u001b[0m A: la\u001b[38;5;241m.\u001b[39mMatrixCSR \u001b[38;5;241m=\u001b[39m \u001b[43mcreate_matrix\u001b[49m\u001b[43m(\u001b[49m\u001b[43ma\u001b[49m\u001b[43m,\u001b[49m\u001b[43m \u001b[49m\u001b[43mblock_mode\u001b[49m\u001b[43m)\u001b[49m\n\u001b[1;32m    254\u001b[0m _assemble_matrix_csr(A, a, bcs, diagonal, constants, coeffs)\n\u001b[1;32m    255\u001b[0m \u001b[38;5;28;01mreturn\u001b[39;00m A\n",
      "File \u001b[0;32m/usr/local/dolfinx-real/lib/python3.12/dist-packages/dolfinx/fem/assemble.py:107\u001b[0m, in \u001b[0;36mcreate_matrix\u001b[0;34m(a, block_mode)\u001b[0m\n\u001b[1;32m     96\u001b[0m \u001b[38;5;28;01mdef\u001b[39;00m \u001b[38;5;21mcreate_matrix\u001b[39m(a: Form, block_mode: typing\u001b[38;5;241m.\u001b[39mOptional[la\u001b[38;5;241m.\u001b[39mBlockMode] \u001b[38;5;241m=\u001b[39m \u001b[38;5;28;01mNone\u001b[39;00m) \u001b[38;5;241m-\u001b[39m\u001b[38;5;241m>\u001b[39m la\u001b[38;5;241m.\u001b[39mMatrixCSR:\n\u001b[1;32m     97\u001b[0m \u001b[38;5;250m    \u001b[39m\u001b[38;5;124;03m\"\"\"Create a sparse matrix that is compatible with a given bilinear form.\u001b[39;00m\n\u001b[1;32m     98\u001b[0m \n\u001b[1;32m     99\u001b[0m \u001b[38;5;124;03m    Args:\u001b[39;00m\n\u001b[0;32m   (...)\u001b[0m\n\u001b[1;32m    105\u001b[0m \u001b[38;5;124;03m        Assembled sparse matrix.\u001b[39;00m\n\u001b[1;32m    106\u001b[0m \u001b[38;5;124;03m    \"\"\"\u001b[39;00m\n\u001b[0;32m--> 107\u001b[0m     sp \u001b[38;5;241m=\u001b[39m \u001b[43mdolfinx\u001b[49m\u001b[38;5;241;43m.\u001b[39;49m\u001b[43mfem\u001b[49m\u001b[38;5;241;43m.\u001b[39;49m\u001b[43mcreate_sparsity_pattern\u001b[49m\u001b[43m(\u001b[49m\u001b[43ma\u001b[49m\u001b[43m)\u001b[49m\n\u001b[1;32m    108\u001b[0m     sp\u001b[38;5;241m.\u001b[39mfinalize()\n\u001b[1;32m    109\u001b[0m     \u001b[38;5;28;01mif\u001b[39;00m block_mode \u001b[38;5;129;01mis\u001b[39;00m \u001b[38;5;129;01mnot\u001b[39;00m \u001b[38;5;28;01mNone\u001b[39;00m:\n",
      "File \u001b[0;32m/usr/local/dolfinx-real/lib/python3.12/dist-packages/dolfinx/fem/__init__.py:69\u001b[0m, in \u001b[0;36mcreate_sparsity_pattern\u001b[0;34m(a)\u001b[0m\n\u001b[1;32m     56\u001b[0m \u001b[38;5;28;01mdef\u001b[39;00m \u001b[38;5;21mcreate_sparsity_pattern\u001b[39m(a: Form):\n\u001b[1;32m     57\u001b[0m \u001b[38;5;250m    \u001b[39m\u001b[38;5;124;03m\"\"\"Create a sparsity pattern from a bilinear form.\u001b[39;00m\n\u001b[1;32m     58\u001b[0m \n\u001b[1;32m     59\u001b[0m \u001b[38;5;124;03m    Args:\u001b[39;00m\n\u001b[0;32m   (...)\u001b[0m\n\u001b[1;32m     67\u001b[0m \u001b[38;5;124;03m        calling ``assemble`` on the sparsity pattern.\u001b[39;00m\n\u001b[1;32m     68\u001b[0m \u001b[38;5;124;03m    \"\"\"\u001b[39;00m\n\u001b[0;32m---> 69\u001b[0m     \u001b[38;5;28;01mreturn\u001b[39;00m _create_sparsity_pattern(\u001b[43ma\u001b[49m\u001b[38;5;241;43m.\u001b[39;49m\u001b[43m_cpp_object\u001b[49m)\n",
      "\u001b[0;31mAttributeError\u001b[0m: 'Form' object has no attribute '_cpp_object'"
     ]
    }
   ],
   "source": [
    "from dolfinx import mesh, fem\n",
    "import ufl\n",
    "from mpi4py import MPI\n",
    "\n",
    "# Create mesh and function space\n",
    "msh = mesh.create_unit_square(MPI.COMM_WORLD, 10, 10)\n",
    "V = fem.functionspace(msh, (\"Lagrange\", 1))\n",
    "\n",
    "# Define trial and test functions\n",
    "u = fem.Function(V)\n",
    "du = ufl.TrialFunction(V)\n",
    "v = ufl.TestFunction(V)\n",
    "\n",
    "# Define a basic linear form (Laplace problem)\n",
    "f = fem.Constant(msh, 1.0)\n",
    "a = ufl.inner(ufl.grad(du), ufl.grad(v)) * ufl.dx\n",
    "L = f * v * ufl.dx  # RHS\n",
    "\n",
    "# Assemble the Jacobian\n",
    "A = fem.assemble_matrix(a)  # This should work\n",
    "A.assemble()\n",
    "print(A)\n"
   ]
  },
  {
   "cell_type": "code",
   "execution_count": 4,
   "metadata": {},
   "outputs": [
    {
     "name": "stdout",
     "output_type": "stream",
     "text": [
      "0.9.0\n"
     ]
    }
   ],
   "source": [
    "import dolfinx\n",
    "print(dolfinx.__version__)\n"
   ]
  },
  {
   "cell_type": "code",
   "execution_count": null,
   "metadata": {},
   "outputs": [],
   "source": []
  },
  {
   "cell_type": "code",
   "execution_count": 1,
   "metadata": {},
   "outputs": [],
   "source": [
    "import numpy as np"
   ]
  },
  {
   "cell_type": "code",
   "execution_count": 3,
   "metadata": {},
   "outputs": [
    {
     "name": "stdout",
     "output_type": "stream",
     "text": [
      "[1 2 3 4 5 6]\n"
     ]
    }
   ],
   "source": [
    "x1 = [1, 2, 3]\n",
    "x2 = [4, 5, 6]\n",
    "print(np.concatenate((x1, x2), axis=0))"
   ]
  },
  {
   "cell_type": "code",
   "execution_count": 8,
   "metadata": {},
   "outputs": [
    {
     "data": {
      "text/plain": [
       "array([1, 4, 2, 5, 3, 6])"
      ]
     },
     "execution_count": 8,
     "metadata": {},
     "output_type": "execute_result"
    }
   ],
   "source": [
    "np.concatenate(np.dstack([x1, x2]).reshape(len(x1),-1))"
   ]
  },
  {
   "cell_type": "code",
   "execution_count": null,
   "metadata": {},
   "outputs": [],
   "source": []
  },
  {
   "cell_type": "code",
   "execution_count": 10,
   "metadata": {},
   "outputs": [],
   "source": [
    "import numpy as np"
   ]
  },
  {
   "cell_type": "code",
   "execution_count": 24,
   "metadata": {},
   "outputs": [],
   "source": [
    "with open(\"in_data.npy\", \"rb\") as f:\n",
    "    input_data_std = np.load(f)\n",
    "\n",
    "with open(\"out_data.npy\", \"rb\") as f:\n",
    "    target_data_std = np.load(f)\n",
    "\n",
    "with open(\"results/training_in_v10.npy\", \"rb\") as f:\n",
    "    input_data = np.load(f)\n",
    "\n",
    "with open(\"results/training_out_v10.npy\", \"rb\") as f:\n",
    "    target_data = np.load(f)"
   ]
  },
  {
   "cell_type": "code",
   "execution_count": 25,
   "metadata": {},
   "outputs": [
    {
     "data": {
      "text/plain": [
       "(21, 6000, 42)"
      ]
     },
     "execution_count": 25,
     "metadata": {},
     "output_type": "execute_result"
    }
   ],
   "source": [
    "input_data.shape"
   ]
  },
  {
   "cell_type": "code",
   "execution_count": 26,
   "metadata": {},
   "outputs": [
    {
     "data": {
      "text/plain": [
       "array([-1.42366475e+00,  2.30967393e+00, -1.25401746e+00,  2.30968282e+00,\n",
       "       -1.06827308e+00,  2.30968678e+00, -8.85014582e-01,  2.30969631e+00,\n",
       "       -7.16106141e-01,  2.30969665e+00, -5.65369588e-01,  2.30969076e+00,\n",
       "       -4.31732728e-01,  2.30968125e+00, -3.11980302e-01,  2.30967376e+00,\n",
       "       -2.02456260e-01,  2.30967155e+00, -9.95907033e-02,  2.30967495e+00,\n",
       "        2.72570870e-06,  2.30968267e+00,  9.95950261e-02,  2.30969294e+00,\n",
       "        2.02457171e-01,  2.30970406e+00,  3.11975577e-01,  2.30971452e+00,\n",
       "        4.31720680e-01,  2.30972283e+00,  5.65350116e-01,  2.30972792e+00,\n",
       "        7.16081771e-01,  2.30973026e+00,  8.84989127e-01,  2.30973191e+00,\n",
       "        1.06824741e+00,  2.30973453e+00,  1.25400249e+00,  2.30973427e+00,\n",
       "        1.42366050e+00,  2.30972958e+00])"
      ]
     },
     "execution_count": 26,
     "metadata": {},
     "output_type": "execute_result"
    }
   ],
   "source": [
    "input_data[10, 500]"
   ]
  },
  {
   "cell_type": "code",
   "execution_count": 27,
   "metadata": {},
   "outputs": [
    {
     "data": {
      "text/plain": [
       "array([-1.2361686,  1.2361686, -1.2361686,  1.2361686, -1.2361686,\n",
       "        1.2361686, -1.2361686,  1.2361686, -1.2361686,  1.2361686,\n",
       "       -1.2361686,  1.2361686, -1.2361686,  1.2361686, -1.2361686,\n",
       "        1.2361686, -1.2361686,  1.2361686, -1.2361686,  1.2361686,\n",
       "        1.2361686,  1.2361686,  1.2361686,  1.2361686,  1.2361686,\n",
       "        1.2361686,  1.2361686,  1.2361686,  1.2361686,  1.2361686,\n",
       "        1.2361686,  1.2361686,  1.2361686,  1.2361686,  1.2361686,\n",
       "        1.2361686,  1.2361686,  1.2361686,  1.2361686,  1.2361686,\n",
       "        1.2361686,  1.2361686], dtype=float32)"
      ]
     },
     "execution_count": 27,
     "metadata": {},
     "output_type": "execute_result"
    }
   ],
   "source": [
    "input_data_std[10, 500]"
   ]
  },
  {
   "cell_type": "code",
   "execution_count": 34,
   "metadata": {},
   "outputs": [
    {
     "data": {
      "text/plain": [
       "array([ 7.46943347e-01, -1.53764368e+04,  7.96296773e-02, -1.93605081e+04,\n",
       "       -2.19998912e-01, -2.12996313e+04,  1.43019650e-01, -2.25713394e+04,\n",
       "       -1.97198544e-01, -2.31792238e+04, -2.38799960e-01, -2.35008937e+04,\n",
       "       -2.41783240e-01, -2.36754289e+04, -1.75749392e-01, -2.37841314e+04,\n",
       "       -1.09723244e-01, -2.38524118e+04, -6.22086032e-02, -2.38913017e+04,\n",
       "       -3.88717478e-02, -2.39039549e+04, -3.35167903e-02, -2.38912227e+04,\n",
       "       -3.87467156e-02, -2.38522524e+04, -5.12403996e-02, -2.37839010e+04,\n",
       "       -6.89902094e-02, -2.36751645e+04, -8.07799093e-02, -2.35007033e+04,\n",
       "       -4.67842115e-02, -2.31791398e+04,  1.38286275e-02, -2.25714512e+04,\n",
       "        6.06175941e-02, -2.12994180e+04,  1.22545671e-01, -1.93607750e+04,\n",
       "        2.01442105e-02, -1.53763933e+04])"
      ]
     },
     "execution_count": 34,
     "metadata": {},
     "output_type": "execute_result"
    }
   ],
   "source": [
    "target_data[10, 501]"
   ]
  },
  {
   "cell_type": "code",
   "execution_count": 35,
   "metadata": {},
   "outputs": [
    {
     "data": {
      "text/plain": [
       "array([ 1.2317793, -1.2317793,  1.2317793, -1.2317793, -1.2317793,\n",
       "       -1.2317793,  1.2317793, -1.2317793, -1.2317793, -1.2317793,\n",
       "       -1.2317793, -1.2317793, -1.2317793, -1.2317793, -1.2317793,\n",
       "       -1.2317793, -1.2317793, -1.2317793, -1.2317793, -1.2317793,\n",
       "       -1.2317793, -1.2317793, -1.2317793, -1.2317793, -1.2317793,\n",
       "       -1.2317793, -1.2317793, -1.2317793, -1.2317793, -1.2317793,\n",
       "       -1.2317793, -1.2317793, -1.2317793, -1.2317793,  1.2317793,\n",
       "       -1.2317793,  1.2317793, -1.2317793,  1.2317793, -1.2317793,\n",
       "        1.2317793, -1.2317793], dtype=float32)"
      ]
     },
     "execution_count": 35,
     "metadata": {},
     "output_type": "execute_result"
    }
   ],
   "source": [
    "target_data_std[10, 501]"
   ]
  },
  {
   "cell_type": "code",
   "execution_count": null,
   "metadata": {},
   "outputs": [],
   "source": []
  },
  {
   "cell_type": "code",
   "execution_count": 1,
   "metadata": {},
   "outputs": [],
   "source": [
    "import pickle"
   ]
  },
  {
   "cell_type": "code",
   "execution_count": 2,
   "metadata": {},
   "outputs": [],
   "source": [
    "from shared.tct import tct_comp\n",
    "from tct.tct_tractions import TCTExtractTractions, TCTApplyTractions"
   ]
  },
  {
   "cell_type": "code",
   "execution_count": 3,
   "metadata": {},
   "outputs": [
    {
     "name": "stderr",
     "output_type": "stream",
     "text": [
      "No Neumann BCs applied to this function space.\n"
     ]
    },
    {
     "name": "stdout",
     "output_type": "stream",
     "text": [
      "[██████████████████████████████████████████████████] 6000/6000\n",
      "\n"
     ]
    },
    {
     "name": "stderr",
     "output_type": "stream",
     "text": [
      "error: XDG_RUNTIME_DIR is invalid or not set in the environment.\n",
      "MESA: error: ZINK: failed to choose pdev\n",
      "glx: failed to create drisw screen\n"
     ]
    },
    {
     "name": "stdout",
     "output_type": "stream",
     "text": [
      "[██████████████████████████████████████████████████] 6000/6000\n",
      "\n"
     ]
    },
    {
     "name": "stderr",
     "output_type": "stream",
     "text": [
      "error: XDG_RUNTIME_DIR is invalid or not set in the environment.\n",
      "MESA: error: ZINK: failed to choose pdev\n",
      "glx: failed to create drisw screen\n",
      "error: XDG_RUNTIME_DIR is invalid or not set in the environment.\n",
      "MESA: error: ZINK: failed to choose pdev\n",
      "glx: failed to create drisw screen\n"
     ]
    }
   ],
   "source": [
    "with open(\"results/model_v10.pkl\", \"rb\") as f:\n",
    "    predictor = pickle.load(f)\n",
    "\n",
    "predictor.initialize_memory_variables()\n",
    "tct_comp(TCTExtractTractions(), TCTApplyTractions(predictor), \"lstm_test\")"
   ]
  },
  {
   "cell_type": "code",
   "execution_count": null,
   "metadata": {},
   "outputs": [],
   "source": []
  },
  {
   "cell_type": "code",
   "execution_count": 1,
   "metadata": {},
   "outputs": [],
   "source": [
    "import numpy as np"
   ]
  },
  {
   "cell_type": "code",
   "execution_count": 2,
   "metadata": {},
   "outputs": [],
   "source": [
    "with open(\"results/training_in_v11.npy\", \"rb\") as f:\n",
    "    data_in_11 = np.load(f)\n",
    "\n",
    "with open(\"results/training_in_v10.npy\", \"rb\") as f:\n",
    "    data_in_10 = np.load(f)"
   ]
  },
  {
   "cell_type": "code",
   "execution_count": 3,
   "metadata": {},
   "outputs": [],
   "source": [
    "with open(\"results/training_out_v11.npy\", \"rb\") as f:\n",
    "    data_out_11 = np.load(f)\n",
    "\n",
    "with open(\"results/training_out_v10.npy\", \"rb\") as f:\n",
    "    data_out_10 = np.load(f)"
   ]
  },
  {
   "cell_type": "code",
   "execution_count": 11,
   "metadata": {},
   "outputs": [
    {
     "data": {
      "text/plain": [
       "array([ 2.65818711e-11,  1.65587597e+04, -3.08583847e-11,  2.08495511e+04,\n",
       "        1.94991432e-11,  2.29376312e+04, -1.84535203e-12,  2.43075123e+04,\n",
       "        7.52735045e-12,  2.49620075e+04, -2.17156879e-11,  2.53083431e+04,\n",
       "        3.56796556e-11,  2.54962295e+04, -3.80570176e-11,  2.56133081e+04,\n",
       "       -3.40639078e-11,  2.56868902e+04,  2.15175390e-11,  2.57288286e+04,\n",
       "        3.96708177e-11,  2.57425030e+04, -2.52229125e-11,  2.57288286e+04,\n",
       "       -1.73595099e-11,  2.56868902e+04, -1.66611994e-11,  2.56133081e+04,\n",
       "        2.28862636e-11,  2.54962295e+04, -2.46797474e-11,  2.53083431e+04,\n",
       "        4.30909166e-11,  2.49620075e+04,  1.49337337e-11,  2.43075123e+04,\n",
       "        1.17704812e-11,  2.29376312e+04, -5.49215996e-11,  2.08495511e+04,\n",
       "        1.05324915e-10,  1.65587597e+04])"
      ]
     },
     "execution_count": 11,
     "metadata": {},
     "output_type": "execute_result"
    }
   ],
   "source": [
    "data_out_11[8, 1400, :]"
   ]
  },
  {
   "cell_type": "code",
   "execution_count": 10,
   "metadata": {},
   "outputs": [
    {
     "data": {
      "text/plain": [
       "array([ 6.55483991e-01, -1.34936715e+04,  6.98794345e-02, -1.69899139e+04,\n",
       "       -1.93061181e-01, -1.86916014e+04,  1.25507633e-01, -1.98075954e+04,\n",
       "       -1.73052601e-01, -2.03410476e+04, -2.09560138e-01, -2.06233306e+04,\n",
       "       -2.12178131e-01, -2.07764948e+04, -1.54229786e-01, -2.08718873e+04,\n",
       "       -9.62881997e-02, -2.09318071e+04, -5.45914809e-02, -2.09659352e+04,\n",
       "       -3.41121030e-02, -2.09770390e+04, -2.94128323e-02, -2.09658658e+04,\n",
       "       -3.40023803e-02, -2.09316672e+04, -4.49662772e-02, -2.08716851e+04,\n",
       "       -6.05427145e-02, -2.07762629e+04, -7.08888265e-02, -2.06231635e+04,\n",
       "       -4.10557264e-02, -2.03409738e+04,  1.21353835e-02, -1.98076936e+04,\n",
       "        5.31952827e-02, -1.86914143e+04,  1.07540586e-01, -1.69901480e+04,\n",
       "        1.76776560e-02, -1.34936333e+04])"
      ]
     },
     "execution_count": 10,
     "metadata": {},
     "output_type": "execute_result"
    }
   ],
   "source": [
    "data_out_10[0, 1400, :]"
   ]
  },
  {
   "cell_type": "code",
   "execution_count": null,
   "metadata": {},
   "outputs": [],
   "source": []
  },
  {
   "cell_type": "code",
   "execution_count": 5,
   "metadata": {},
   "outputs": [],
   "source": [
    "with open(\"in_data_11.npy\", \"rb\") as f:\n",
    "    in_norm_11 = np.load(f)\n",
    "\n",
    "with open(\"out_data_11.npy\", \"rb\") as f:\n",
    "    out_norm_11 = np.load(f)\n",
    "\n",
    "with open(\"in_data_10.npy\", \"rb\") as f:\n",
    "    in_norm_10 = np.load(f)\n",
    "\n",
    "with open(\"out_data_10.npy\", \"rb\") as f:\n",
    "    out_norm_10 = np.load(f)"
   ]
  },
  {
   "cell_type": "code",
   "execution_count": 10,
   "metadata": {},
   "outputs": [
    {
     "data": {
      "text/plain": [
       "array([ 1.492372 , -1.492372 ,  1.492372 , -1.492372 ,  1.492372 ,\n",
       "       -1.492372 ,  1.492372 , -1.492372 ,  1.492372 , -1.492372 ,\n",
       "        1.492372 , -1.492372 ,  1.492372 , -1.492372 ,  1.492372 ,\n",
       "       -1.492372 ,  1.492372 , -1.492372 ,  1.492372 , -1.492372 ,\n",
       "        1.4443531, -1.492372 , -1.492372 , -1.492372 , -1.492372 ,\n",
       "       -1.492372 , -1.492372 , -1.492372 , -1.492372 , -1.492372 ,\n",
       "       -1.492372 , -1.492372 , -1.492372 , -1.492372 , -1.492372 ,\n",
       "       -1.492372 , -1.492372 , -1.492372 , -1.492372 , -1.492372 ,\n",
       "       -1.492372 , -1.492372 ], dtype=float32)"
      ]
     },
     "execution_count": 10,
     "metadata": {},
     "output_type": "execute_result"
    }
   ],
   "source": [
    "in_norm_11[10, 5999, :]"
   ]
  },
  {
   "cell_type": "code",
   "execution_count": 7,
   "metadata": {},
   "outputs": [
    {
     "data": {
      "text/plain": [
       "array([-0.73717856,  0.73717856, -0.73717856,  0.73717856, -0.73717856,\n",
       "        0.73717856, -0.73717856,  0.73717856, -0.73717856,  0.73717856,\n",
       "       -0.73717856,  0.73717856, -0.73717856,  0.73717856, -0.73717856,\n",
       "        0.73717856, -0.73717856,  0.73717856, -0.73717856,  0.73717856,\n",
       "        0.73717856,  0.73717856,  0.73717856,  0.73717856,  0.73717856,\n",
       "        0.73717856,  0.73717856,  0.73717856,  0.73717856,  0.73717856,\n",
       "        0.73717856,  0.73717856,  0.73717856,  0.73717856,  0.73717856,\n",
       "        0.73717856,  0.73717856,  0.73717856,  0.73717856,  0.73717856,\n",
       "        0.73717856,  0.73717856], dtype=float32)"
      ]
     },
     "execution_count": 7,
     "metadata": {},
     "output_type": "execute_result"
    }
   ],
   "source": [
    "in_norm_10[1, 1402, :]"
   ]
  },
  {
   "cell_type": "code",
   "execution_count": 9,
   "metadata": {},
   "outputs": [
    {
     "data": {
      "text/plain": [
       "array([ 0.5659403 ,  1.4922491 , -0.90534586,  1.4922491 ,  0.77459246,\n",
       "        1.4922491 , -0.02290907,  1.4922491 , -1.1207155 ,  1.4922491 ,\n",
       "        0.8028389 ,  1.4922491 ,  1.9793295 ,  1.4922491 , -0.96400976,\n",
       "        1.4922491 , -1.3302284 ,  1.4922491 , -0.5115989 ,  1.4922491 ,\n",
       "        1.8324044 ,  1.4922491 , -1.2943527 ,  1.4922491 , -1.2925913 ,\n",
       "        1.4922491 , -1.5913948 ,  1.4922491 , -0.8503976 ,  1.4922491 ,\n",
       "       -0.27346236,  1.4922491 ,  2.398705  ,  1.4922491 ,  1.1161748 ,\n",
       "        1.4922491 ,  0.8510471 ,  1.4922491 , -2.670135  ,  1.4922491 ,\n",
       "        2.1109974 ,  1.4922491 ], dtype=float32)"
      ]
     },
     "execution_count": 9,
     "metadata": {},
     "output_type": "execute_result"
    }
   ],
   "source": [
    "out_norm_11[10, 5999, :]"
   ]
  },
  {
   "cell_type": "code",
   "execution_count": null,
   "metadata": {},
   "outputs": [
    {
     "data": {
      "text/plain": [
       "array([ 1.0973656, -1.0973656,  1.0973656, -1.0973656, -1.0973656,\n",
       "       -1.0973656,  1.0973656, -1.0973656, -1.0973656, -1.0973656,\n",
       "       -1.0973656, -1.0973656, -1.0973656, -1.0973656, -1.0973656,\n",
       "       -1.0973656, -1.0973656, -1.0973656, -1.0973656, -1.0973656,\n",
       "       -1.0973656, -1.0973656, -1.0973656, -1.0973656, -1.0973656,\n",
       "       -1.0973656, -1.0973656, -1.0973656, -1.0973656, -1.0973656,\n",
       "       -1.0973656, -1.0973656, -1.0973656, -1.0973656,  1.0973656,\n",
       "       -1.0973656,  1.0973656, -1.0973656,  1.0973656, -1.0973656,\n",
       "        1.0973656, -1.0973656], dtype=float32)"
      ]
     },
     "execution_count": 28,
     "metadata": {},
     "output_type": "execute_result"
    }
   ],
   "source": [
    "out_norm_10[1, 1200, :]"
   ]
  },
  {
   "cell_type": "code",
   "execution_count": null,
   "metadata": {},
   "outputs": [],
   "source": []
  },
  {
   "cell_type": "code",
   "execution_count": 1,
   "metadata": {},
   "outputs": [],
   "source": [
    "import numpy as np"
   ]
  },
  {
   "cell_type": "code",
   "execution_count": 1,
   "metadata": {},
   "outputs": [],
   "source": [
    "from tct.tct_tractions_comp import TCTExtractTractions, TCTApplyFixedTractions"
   ]
  },
  {
   "cell_type": "code",
   "execution_count": 2,
   "metadata": {},
   "outputs": [
    {
     "name": "stderr",
     "output_type": "stream",
     "text": [
      "No Neumann BCs applied to this function space.\n"
     ]
    },
    {
     "name": "stdout",
     "output_type": "stream",
     "text": [
      "[██████████████████████████████████████████████████] 100/100\n",
      "\n"
     ]
    }
   ],
   "source": [
    "tct = TCTExtractTractions(frequency=1000)\n",
    "tct.time_total = 5e-5\n",
    "tct.run()"
   ]
  },
  {
   "cell_type": "code",
   "execution_count": 3,
   "metadata": {},
   "outputs": [
    {
     "name": "stderr",
     "output_type": "stream",
     "text": [
      "error: XDG_RUNTIME_DIR is invalid or not set in the environment.\n",
      "MESA: error: ZINK: failed to choose pdev\n",
      "glx: failed to create drisw screen\n"
     ]
    }
   ],
   "source": [
    "tct.postprocess(\"u\", \"u\", \"y\", \"tractions_full\")"
   ]
  },
  {
   "cell_type": "code",
   "execution_count": 5,
   "metadata": {},
   "outputs": [
    {
     "name": "stdout",
     "output_type": "stream",
     "text": [
      "[██████████████████████████████████████████████████] 6000/6000\n",
      "\n"
     ]
    }
   ],
   "source": [
    "tct_apply = TCTApplyFixedTractions(tct.data_out, frequency=1000)\n",
    "tct_apply.run()"
   ]
  },
  {
   "cell_type": "code",
   "execution_count": 6,
   "metadata": {},
   "outputs": [
    {
     "name": "stderr",
     "output_type": "stream",
     "text": [
      "error: XDG_RUNTIME_DIR is invalid or not set in the environment.\n",
      "MESA: error: ZINK: failed to choose pdev\n",
      "glx: failed to create drisw screen\n"
     ]
    }
   ],
   "source": [
    "tct_apply.postprocess(\"u\", \"u\", \"y\", \"tractions_applied\")"
   ]
  },
  {
   "cell_type": "code",
   "execution_count": 7,
   "metadata": {},
   "outputs": [
    {
     "name": "stderr",
     "output_type": "stream",
     "text": [
      "error: XDG_RUNTIME_DIR is invalid or not set in the environment.\n",
      "MESA: error: ZINK: failed to choose pdev\n",
      "glx: failed to create drisw screen\n"
     ]
    }
   ],
   "source": [
    "u_k_app_error = np.zeros(tct.formatted_plot_results[\"u\"].shape)\n",
    "u_k_app_error[:, tct.bottom_half_nodes, :] = tct.formatted_plot_results[\"u\"][:, tct.bottom_half_nodes, :] - tct_apply.formatted_plot_results[\"u\"][:, tct_apply.bottom_half_nodes, :]\n",
    "tct.postprocess(u_k_app_error, \"u\", \"norm\", \"tractions_applied_error\")"
   ]
  },
  {
   "cell_type": "code",
   "execution_count": 11,
   "metadata": {},
   "outputs": [
    {
     "data": {
      "text/plain": [
       "array([[ 1.16944018e-15,  5.00000000e+00,  0.00000000e+00],\n",
       "       [-1.59286217e+00,  4.18845495e+00,  0.00000000e+00],\n",
       "       [ 1.16944018e-15,  5.00000000e+00,  0.00000000e+00],\n",
       "       [-1.12228712e+00,  4.60944944e+00,  0.00000000e+00],\n",
       "       [-2.38422849e+00,  3.58851193e+00,  0.00000000e+00],\n",
       "       [-2.02599033e+00,  4.03071314e+00,  0.00000000e+00],\n",
       "       [ 1.16944018e-15,  5.00000000e+00,  0.00000000e+00],\n",
       "       [-9.03325289e-01,  4.65075532e+00,  0.00000000e+00],\n",
       "       [-2.91756204e+00,  3.17273839e+00,  0.00000000e+00],\n",
       "       [-2.60085358e+00,  3.48847758e+00,  0.00000000e+00],\n",
       "       [-1.67751303e+00,  4.18263526e+00,  0.00000000e+00],\n",
       "       [ 1.16944018e-15,  5.00000000e+00,  0.00000000e+00],\n",
       "       [-7.54560117e-01,  4.66116706e+00,  0.00000000e+00],\n",
       "       [-3.21798713e+00,  2.82479655e+00,  0.00000000e+00],\n",
       "       [-2.92640939e+00,  2.98590642e+00,  0.00000000e+00],\n",
       "       [-2.23708174e+00,  3.63505561e+00,  0.00000000e+00],\n",
       "       [-1.40077201e+00,  4.21295720e+00,  0.00000000e+00],\n",
       "       [ 3.04696644e-16,  5.00000000e+00,  0.00000000e+00],\n",
       "       [-6.28708648e-01,  4.65410842e+00,  0.00000000e+00],\n",
       "       [-3.31567070e+00,  2.50382479e+00,  0.00000000e+00],\n",
       "       [-3.03119254e+00,  2.50371900e+00,  0.00000000e+00],\n",
       "       [-2.56089723e+00,  3.07032159e+00,  0.00000000e+00],\n",
       "       [-1.88514545e+00,  3.68224154e+00,  0.00000000e+00],\n",
       "       [-1.16046076e+00,  4.21060239e+00,  0.00000000e+00],\n",
       "       [ 3.04696644e-16,  5.00000000e+00,  0.00000000e+00],\n",
       "       [-5.13007727e-01,  4.64465191e+00,  0.00000000e+00],\n",
       "       [-2.66663840e+00,  2.50335714e+00,  0.00000000e+00],\n",
       "       [-2.17959709e+00,  3.10218417e+00,  0.00000000e+00],\n",
       "       [-1.56300650e+00,  3.68609464e+00,  0.00000000e+00],\n",
       "       [-9.41987279e-01,  4.19828852e+00,  0.00000000e+00],\n",
       "       [ 3.04696644e-16,  5.00000000e+00,  0.00000000e+00],\n",
       "       [-4.03324166e-01,  4.63580700e+00,  0.00000000e+00],\n",
       "       [-2.27685015e+00,  2.50279737e+00,  0.00000000e+00],\n",
       "       [-1.81186429e+00,  3.10740368e+00,  0.00000000e+00],\n",
       "       [-1.26622554e+00,  3.67686888e+00,  0.00000000e+00],\n",
       "       [-7.38032675e-01,  4.18560585e+00,  0.00000000e+00],\n",
       "       [ 3.04696644e-16,  5.00000000e+00,  0.00000000e+00],\n",
       "       [-2.98203023e-01,  4.62883870e+00,  0.00000000e+00],\n",
       "       [-1.89523267e+00,  2.50211200e+00,  0.00000000e+00],\n",
       "       [-1.46758690e+00,  3.10259454e+00,  0.00000000e+00],\n",
       "       [-9.89863706e-01,  3.66540656e+00,  0.00000000e+00],\n",
       "       [-5.44613154e-01,  4.17531324e+00,  0.00000000e+00],\n",
       "       [-1.75101233e-15,  5.00000000e+00,  0.00000000e+00],\n",
       "       [-1.96666839e-01,  4.62394920e+00,  0.00000000e+00],\n",
       "       [-1.53511737e+00,  2.50136588e+00,  0.00000000e+00],\n",
       "       [-1.14604651e+00,  3.09577303e+00,  0.00000000e+00],\n",
       "       [-7.29186552e-01,  3.65571082e+00,  0.00000000e+00],\n",
       "       [-3.58846825e-01,  4.16808479e+00,  0.00000000e+00],\n",
       "       [-1.75101233e-15,  5.00000000e+00,  0.00000000e+00],\n",
       "       [-9.76709999e-02,  4.62108551e+00,  0.00000000e+00],\n",
       "       [-1.19833279e+00,  2.50062168e+00,  0.00000000e+00],\n",
       "       [-8.43332718e-01,  3.08975116e+00,  0.00000000e+00],\n",
       "       [-4.79928063e-01,  3.64879497e+00,  0.00000000e+00],\n",
       "       [-1.78153685e-01,  4.16386451e+00,  0.00000000e+00],\n",
       "       [-1.75101233e-15,  5.00000000e+00,  0.00000000e+00],\n",
       "       [ 3.50481571e-14,  4.62014537e+00,  0.00000000e+00],\n",
       "       [-8.81422569e-01,  2.49994493e+00,  0.00000000e+00],\n",
       "       [-5.54611107e-01,  3.08537933e+00,  0.00000000e+00],\n",
       "       [-2.38123513e-01,  3.64473763e+00,  0.00000000e+00],\n",
       "       [ 2.35731973e-14,  4.16248287e+00,  0.00000000e+00],\n",
       "       [-4.14497087e-17,  5.00000000e+00,  0.00000000e+00],\n",
       "       [ 9.76709999e-02,  4.62108551e+00,  0.00000000e+00],\n",
       "       [-5.79460183e-01,  2.49940146e+00,  0.00000000e+00],\n",
       "       [-2.75049098e-01,  3.08278814e+00,  0.00000000e+00],\n",
       "       [ 2.68055715e-15,  3.64340703e+00,  0.00000000e+00],\n",
       "       [ 1.78153685e-01,  4.16386451e+00,  0.00000000e+00],\n",
       "       [-4.14497087e-17,  5.00000000e+00,  0.00000000e+00],\n",
       "       [ 1.96666839e-01,  4.62394920e+00,  0.00000000e+00],\n",
       "       [-2.87311186e-01,  2.49904884e+00,  0.00000000e+00],\n",
       "       [-7.19396561e-15,  3.08193438e+00,  0.00000000e+00],\n",
       "       [ 2.38123513e-01,  3.64473763e+00,  0.00000000e+00],\n",
       "       [ 3.58846825e-01,  4.16808479e+00,  0.00000000e+00],\n",
       "       [-4.14497087e-17,  5.00000000e+00,  0.00000000e+00],\n",
       "       [ 2.98203023e-01,  4.62883870e+00,  0.00000000e+00],\n",
       "       [ 6.59066502e-15,  2.49892660e+00,  0.00000000e+00],\n",
       "       [ 2.75049098e-01,  3.08278814e+00,  0.00000000e+00],\n",
       "       [ 4.79928063e-01,  3.64879497e+00,  0.00000000e+00],\n",
       "       [ 5.44613154e-01,  4.17531324e+00,  0.00000000e+00],\n",
       "       [ 1.09095755e-15,  5.00000000e+00,  0.00000000e+00],\n",
       "       [ 4.03324166e-01,  4.63580700e+00,  0.00000000e+00],\n",
       "       [ 2.87311186e-01,  2.49904884e+00,  0.00000000e+00],\n",
       "       [ 5.54611107e-01,  3.08537933e+00,  0.00000000e+00],\n",
       "       [ 7.29186552e-01,  3.65571082e+00,  0.00000000e+00],\n",
       "       [ 7.38032675e-01,  4.18560585e+00,  0.00000000e+00],\n",
       "       [ 1.09095755e-15,  5.00000000e+00,  0.00000000e+00],\n",
       "       [ 5.13007727e-01,  4.64465191e+00,  0.00000000e+00],\n",
       "       [ 5.79460183e-01,  2.49940146e+00,  0.00000000e+00],\n",
       "       [ 8.43332718e-01,  3.08975116e+00,  0.00000000e+00],\n",
       "       [ 9.89863706e-01,  3.66540656e+00,  0.00000000e+00],\n",
       "       [ 9.41987279e-01,  4.19828852e+00,  0.00000000e+00],\n",
       "       [ 1.09095755e-15,  5.00000000e+00,  0.00000000e+00],\n",
       "       [ 6.28708648e-01,  4.65410842e+00,  0.00000000e+00],\n",
       "       [ 8.81422569e-01,  2.49994493e+00,  0.00000000e+00],\n",
       "       [ 1.14604651e+00,  3.09577303e+00,  0.00000000e+00],\n",
       "       [ 1.26622554e+00,  3.67686888e+00,  0.00000000e+00],\n",
       "       [ 1.16046076e+00,  4.21060239e+00,  0.00000000e+00],\n",
       "       [ 1.09095755e-15,  5.00000000e+00,  0.00000000e+00],\n",
       "       [ 7.54560117e-01,  4.66116706e+00,  0.00000000e+00],\n",
       "       [ 1.19833279e+00,  2.50062168e+00,  0.00000000e+00],\n",
       "       [ 1.46758690e+00,  3.10259454e+00,  0.00000000e+00],\n",
       "       [ 1.56300650e+00,  3.68609464e+00,  0.00000000e+00],\n",
       "       [ 1.40077201e+00,  4.21295720e+00,  0.00000000e+00],\n",
       "       [-5.09005682e-15,  5.00000000e+00,  0.00000000e+00],\n",
       "       [ 9.03325289e-01,  4.65075532e+00,  0.00000000e+00],\n",
       "       [ 1.53511737e+00,  2.50136588e+00,  0.00000000e+00],\n",
       "       [ 1.81186429e+00,  3.10740368e+00,  0.00000000e+00],\n",
       "       [ 1.88514545e+00,  3.68224154e+00,  0.00000000e+00],\n",
       "       [ 1.67751303e+00,  4.18263526e+00,  0.00000000e+00],\n",
       "       [-5.09005682e-15,  5.00000000e+00,  0.00000000e+00],\n",
       "       [ 1.12228712e+00,  4.60944944e+00,  0.00000000e+00],\n",
       "       [ 1.89523267e+00,  2.50211200e+00,  0.00000000e+00],\n",
       "       [ 2.17959709e+00,  3.10218417e+00,  0.00000000e+00],\n",
       "       [ 2.23708174e+00,  3.63505561e+00,  0.00000000e+00],\n",
       "       [ 2.02599033e+00,  4.03071314e+00,  0.00000000e+00],\n",
       "       [-5.09005682e-15,  5.00000000e+00,  0.00000000e+00],\n",
       "       [ 1.59286217e+00,  4.18845495e+00,  0.00000000e+00],\n",
       "       [ 2.27685015e+00,  2.50279737e+00,  0.00000000e+00],\n",
       "       [ 2.56089723e+00,  3.07032159e+00,  0.00000000e+00],\n",
       "       [ 2.60085358e+00,  3.48847758e+00,  0.00000000e+00],\n",
       "       [ 2.38422849e+00,  3.58851193e+00,  0.00000000e+00],\n",
       "       [ 2.66663840e+00,  2.50335714e+00,  0.00000000e+00],\n",
       "       [ 2.92640939e+00,  2.98590642e+00,  0.00000000e+00],\n",
       "       [ 2.91756204e+00,  3.17273839e+00,  0.00000000e+00],\n",
       "       [ 3.03119254e+00,  2.50371900e+00,  0.00000000e+00],\n",
       "       [ 3.21798713e+00,  2.82479655e+00,  0.00000000e+00],\n",
       "       [ 3.31567070e+00,  2.50382479e+00,  0.00000000e+00]])"
      ]
     },
     "execution_count": 11,
     "metadata": {},
     "output_type": "execute_result"
    }
   ],
   "source": [
    "tct.formatted_plot_results[\"u\"][10, tct.bottom_half_nodes, :]"
   ]
  },
  {
   "cell_type": "code",
   "execution_count": 12,
   "metadata": {},
   "outputs": [
    {
     "data": {
      "text/plain": [
       "array([[-2.73110685e-15,  5.00000000e+00,  0.00000000e+00],\n",
       "       [-1.67094940e+00,  4.12637622e+00,  0.00000000e+00],\n",
       "       [-2.73110685e-15,  5.00000000e+00,  0.00000000e+00],\n",
       "       [-1.15704474e+00,  4.57530493e+00,  0.00000000e+00],\n",
       "       [-2.50244562e+00,  3.45905862e+00,  0.00000000e+00],\n",
       "       [-2.10172412e+00,  3.94483885e+00,  0.00000000e+00],\n",
       "       [-2.73110685e-15,  5.00000000e+00,  0.00000000e+00],\n",
       "       [-9.16300864e-01,  4.62863884e+00,  0.00000000e+00],\n",
       "       [-3.08662173e+00,  2.97632810e+00,  0.00000000e+00],\n",
       "       [-2.72607387e+00,  3.35056053e+00,  0.00000000e+00],\n",
       "       [-1.72168337e+00,  4.12837982e+00,  0.00000000e+00],\n",
       "       [-3.11544106e-15,  5.00000000e+00,  0.00000000e+00],\n",
       "       [-7.57231919e-01,  4.64875547e+00,  0.00000000e+00],\n",
       "       [-3.45776770e+00,  2.56191243e+00,  0.00000000e+00],\n",
       "       [-3.12433073e+00,  2.79725605e+00,  0.00000000e+00],\n",
       "       [-2.32662146e+00,  3.54129465e+00,  0.00000000e+00],\n",
       "       [-1.42584644e+00,  4.18250171e+00,  0.00000000e+00],\n",
       "       [-3.11544106e-15,  5.00000000e+00,  0.00000000e+00],\n",
       "       [-6.28209606e-01,  4.64877195e+00,  0.00000000e+00],\n",
       "       [-3.68847283e+00,  2.17193177e+00,  0.00000000e+00],\n",
       "       [-3.33079306e+00,  2.25513163e+00,  0.00000000e+00],\n",
       "       [-2.71312698e+00,  2.92708274e+00,  0.00000000e+00],\n",
       "       [-1.94630691e+00,  3.62730882e+00,  0.00000000e+00],\n",
       "       [-1.17654820e+00,  4.19827094e+00,  0.00000000e+00],\n",
       "       [-3.11544106e-15,  5.00000000e+00,  0.00000000e+00],\n",
       "       [-5.13487044e-01,  4.64371728e+00,  0.00000000e+00],\n",
       "       [-2.89765136e+00,  2.29298239e+00,  0.00000000e+00],\n",
       "       [-2.28816968e+00,  3.01363711e+00,  0.00000000e+00],\n",
       "       [-1.60763113e+00,  3.66349819e+00,  0.00000000e+00],\n",
       "       [-9.55985773e-01,  4.19674511e+00,  0.00000000e+00],\n",
       "       [ 1.93310868e-15,  5.00000000e+00,  0.00000000e+00],\n",
       "       [-4.06353215e-01,  4.63698358e+00,  0.00000000e+00],\n",
       "       [-2.44912215e+00,  2.36835276e+00,  0.00000000e+00],\n",
       "       [-1.89401933e+00,  3.07123190e+00,  0.00000000e+00],\n",
       "       [-1.30361153e+00,  3.67265489e+00,  0.00000000e+00],\n",
       "       [-7.52870138e-01,  4.18873638e+00,  0.00000000e+00],\n",
       "       [ 1.93310868e-15,  5.00000000e+00,  0.00000000e+00],\n",
       "       [-3.03661942e-01,  4.63061803e+00,  0.00000000e+00],\n",
       "       [-2.02442606e+00,  2.44686725e+00,  0.00000000e+00],\n",
       "       [-1.53511394e+00,  3.09175182e+00,  0.00000000e+00],\n",
       "       [-1.02349859e+00,  3.66845387e+00,  0.00000000e+00],\n",
       "       [-5.60604943e-01,  4.17934698e+00,  0.00000000e+00],\n",
       "       [ 1.93310868e-15,  5.00000000e+00,  0.00000000e+00],\n",
       "       [-2.03700591e-01,  4.62557400e+00,  0.00000000e+00],\n",
       "       [-1.63221264e+00,  2.47528853e+00,  0.00000000e+00],\n",
       "       [-1.20153646e+00,  3.09415551e+00,  0.00000000e+00],\n",
       "       [-7.59712086e-01,  3.65998679e+00,  0.00000000e+00],\n",
       "       [-3.75250713e-01,  4.17135283e+00,  0.00000000e+00],\n",
       "       [ 1.93310868e-15,  5.00000000e+00,  0.00000000e+00],\n",
       "       [-1.05353881e-01,  4.62230520e+00,  0.00000000e+00],\n",
       "       [-1.27098625e+00,  2.48774929e+00,  0.00000000e+00],\n",
       "       [-8.88969130e-01,  3.09036621e+00,  0.00000000e+00],\n",
       "       [-5.07419600e-01,  3.65196193e+00,  0.00000000e+00],\n",
       "       [-1.94128536e-01,  4.16596132e+00,  0.00000000e+00],\n",
       "       [ 1.93310868e-15,  5.00000000e+00,  0.00000000e+00],\n",
       "       [-7.63727164e-03,  4.62096151e+00,  0.00000000e+00],\n",
       "       [-9.36760716e-01,  2.49230389e+00,  0.00000000e+00],\n",
       "       [-5.92397679e-01,  3.08548510e+00,  0.00000000e+00],\n",
       "       [-2.62621174e-01,  3.64629147e+00,  0.00000000e+00],\n",
       "       [-1.49358376e-02,  4.16355376e+00,  0.00000000e+00],\n",
       "       [-5.99037042e-16,  5.00000000e+00,  0.00000000e+00],\n",
       "       [ 9.04951672e-02,  4.62158495e+00,  0.00000000e+00],\n",
       "       [-6.22728439e-01,  2.49348775e+00,  0.00000000e+00],\n",
       "       [-3.06652700e-01,  3.08171383e+00,  0.00000000e+00],\n",
       "       [-2.16326638e-02,  3.64361034e+00,  0.00000000e+00],\n",
       "       [ 1.64580721e-01,  4.16421055e+00,  0.00000000e+00],\n",
       "       [-5.99037042e-16,  5.00000000e+00,  0.00000000e+00],\n",
       "       [ 1.90146786e-01,  4.62422558e+00,  0.00000000e+00],\n",
       "       [-3.22154735e-01,  2.49353031e+00,  0.00000000e+00],\n",
       "       [-2.67240177e-02,  3.07985628e+00,  0.00000000e+00],\n",
       "       [ 2.19135831e-01,  3.64404931e+00,  0.00000000e+00],\n",
       "       [ 3.46730547e-01,  4.16798295e+00,  0.00000000e+00],\n",
       "       [-5.99037042e-16,  5.00000000e+00,  0.00000000e+00],\n",
       "       [ 2.92391366e-01,  4.62896523e+00,  0.00000000e+00],\n",
       "       [-2.88405122e-02,  2.49348811e+00,  0.00000000e+00],\n",
       "       [ 2.52212765e-01,  3.08011970e+00,  0.00000000e+00],\n",
       "       [ 4.63304798e-01,  3.64762253e+00,  0.00000000e+00],\n",
       "       [ 5.33899934e-01,  4.17496150e+00,  0.00000000e+00],\n",
       "       [-5.99037042e-16,  5.00000000e+00,  0.00000000e+00],\n",
       "       [ 3.98197887e-01,  4.63583419e+00,  0.00000000e+00],\n",
       "       [ 2.62894733e-01,  2.49376652e+00,  0.00000000e+00],\n",
       "       [ 5.34905414e-01,  3.08250011e+00,  0.00000000e+00],\n",
       "       [ 7.14620968e-01,  3.65433657e+00,  0.00000000e+00],\n",
       "       [ 7.28593058e-01,  4.18512725e+00,  0.00000000e+00],\n",
       "       [-5.99037042e-16,  5.00000000e+00,  0.00000000e+00],\n",
       "       [ 5.08511385e-01,  4.64461473e+00,  0.00000000e+00],\n",
       "       [ 5.58428079e-01,  2.49443955e+00,  0.00000000e+00],\n",
       "       [ 8.26165277e-01,  3.08692165e+00,  0.00000000e+00],\n",
       "       [ 9.77049624e-01,  3.66399795e+00,  0.00000000e+00],\n",
       "       [ 9.33662947e-01,  4.19775842e+00,  0.00000000e+00],\n",
       "       [-6.92390317e-16,  5.00000000e+00,  0.00000000e+00],\n",
       "       [ 6.24775870e-01,  4.65403753e+00,  0.00000000e+00],\n",
       "       [ 8.63055081e-01,  2.49543497e+00,  0.00000000e+00],\n",
       "       [ 1.13093490e+00,  3.09314152e+00,  0.00000000e+00],\n",
       "       [ 1.25487144e+00,  3.67552299e+00,  0.00000000e+00],\n",
       "       [ 1.15308419e+00,  4.21008256e+00,  0.00000000e+00],\n",
       "       [-6.92390317e-16,  5.00000000e+00,  0.00000000e+00],\n",
       "       [ 7.51114996e-01,  4.66110045e+00,  0.00000000e+00],\n",
       "       [ 1.18208400e+00,  2.49664003e+00,  0.00000000e+00],\n",
       "       [ 1.45411900e+00,  3.10024408e+00,  0.00000000e+00],\n",
       "       [ 1.55283484e+00,  3.68489448e+00,  0.00000000e+00],\n",
       "       [ 1.39415902e+00,  4.21253624e+00,  0.00000000e+00],\n",
       "       [-6.92390317e-16,  5.00000000e+00,  0.00000000e+00],\n",
       "       [ 9.00261181e-01,  4.65077135e+00,  0.00000000e+00],\n",
       "       [ 1.52052459e+00,  2.49795938e+00,  0.00000000e+00],\n",
       "       [ 1.79967031e+00,  3.10541394e+00,  0.00000000e+00],\n",
       "       [ 1.87587727e+00,  3.68131574e+00,  0.00000000e+00],\n",
       "       [ 1.67142976e+00,  4.18247588e+00,  0.00000000e+00],\n",
       "       [-6.92390317e-16,  5.00000000e+00,  0.00000000e+00],\n",
       "       [ 1.11937941e+00,  4.60967644e+00,  0.00000000e+00],\n",
       "       [ 1.88186675e+00,  2.49934454e+00,  0.00000000e+00],\n",
       "       [ 2.16833019e+00,  3.10069880e+00,  0.00000000e+00],\n",
       "       [ 2.22840864e+00,  3.63465311e+00,  0.00000000e+00],\n",
       "       [ 2.02007991e+00,  4.03122465e+00,  0.00000000e+00],\n",
       "       [-6.92390317e-16,  5.00000000e+00,  0.00000000e+00],\n",
       "       [ 1.58941077e+00,  4.18989088e+00,  0.00000000e+00],\n",
       "       [ 2.26430081e+00,  2.50080150e+00,  0.00000000e+00],\n",
       "       [ 2.55022926e+00,  3.06960863e+00,  0.00000000e+00],\n",
       "       [ 2.59245799e+00,  3.48904336e+00,  0.00000000e+00],\n",
       "       [ 2.37820294e+00,  3.59065080e+00,  0.00000000e+00],\n",
       "       [ 2.65453544e+00,  2.50237362e+00,  0.00000000e+00],\n",
       "       [ 2.91604957e+00,  2.98637759e+00,  0.00000000e+00],\n",
       "       [ 2.90924959e+00,  3.17496713e+00,  0.00000000e+00],\n",
       "       [ 3.01926650e+00,  2.50408394e+00,  0.00000000e+00],\n",
       "       [ 3.20776568e+00,  2.82689472e+00,  0.00000000e+00],\n",
       "       [ 3.30381642e+00,  2.50581769e+00,  0.00000000e+00]])"
      ]
     },
     "execution_count": 12,
     "metadata": {},
     "output_type": "execute_result"
    }
   ],
   "source": [
    "tct_apply.formatted_plot_results[\"u\"][10, tct_apply.bottom_half_nodes, :]"
   ]
  },
  {
   "cell_type": "code",
   "execution_count": 14,
   "metadata": {},
   "outputs": [
    {
     "data": {
      "text/plain": [
       "array([[ 3.90054703e-15, -2.66453526e-15,  0.00000000e+00],\n",
       "       [ 7.80872272e-02,  6.20787273e-02,  0.00000000e+00],\n",
       "       [ 3.90054703e-15, -2.66453526e-15,  0.00000000e+00],\n",
       "       [ 3.47576196e-02,  3.41445037e-02,  0.00000000e+00],\n",
       "       [ 1.18217134e-01,  1.29453318e-01,  0.00000000e+00],\n",
       "       [ 7.57337820e-02,  8.58742901e-02,  0.00000000e+00],\n",
       "       [ 3.90054703e-15, -2.66453526e-15,  0.00000000e+00],\n",
       "       [ 1.29755750e-02,  2.21164820e-02,  0.00000000e+00],\n",
       "       [ 1.69059683e-01,  1.96410298e-01,  0.00000000e+00],\n",
       "       [ 1.25220292e-01,  1.37917045e-01,  0.00000000e+00],\n",
       "       [ 4.41703408e-02,  5.42554454e-02,  0.00000000e+00],\n",
       "       [ 4.28488124e-15, -3.55271368e-15,  0.00000000e+00],\n",
       "       [ 2.67180206e-03,  1.24115946e-02,  0.00000000e+00],\n",
       "       [ 2.39780573e-01,  2.62884123e-01,  0.00000000e+00],\n",
       "       [ 1.97921337e-01,  1.88650376e-01,  0.00000000e+00],\n",
       "       [ 8.95397207e-02,  9.37609509e-02,  0.00000000e+00],\n",
       "       [ 2.50744314e-02,  3.04554920e-02,  0.00000000e+00],\n",
       "       [ 3.42013770e-15, -6.21724894e-15,  0.00000000e+00],\n",
       "       [-4.99041381e-04,  5.33647563e-03,  0.00000000e+00],\n",
       "       [ 3.72802124e-01,  3.31893012e-01,  0.00000000e+00],\n",
       "       [ 2.99600521e-01,  2.48587371e-01,  0.00000000e+00],\n",
       "       [ 1.52229747e-01,  1.43238854e-01,  0.00000000e+00],\n",
       "       [ 6.11614611e-02,  5.49327195e-02,  0.00000000e+00],\n",
       "       [ 1.60874379e-02,  1.23314419e-02,  0.00000000e+00],\n",
       "       [ 3.42013770e-15, -6.21724894e-15,  0.00000000e+00],\n",
       "       [ 4.79317179e-04,  9.34628891e-04,  0.00000000e+00],\n",
       "       [ 2.31012960e-01,  2.10374750e-01,  0.00000000e+00],\n",
       "       [ 1.08572590e-01,  8.85470648e-02,  0.00000000e+00],\n",
       "       [ 4.46246330e-02,  2.25964495e-02,  0.00000000e+00],\n",
       "       [ 1.39984938e-02,  1.54340518e-03,  0.00000000e+00],\n",
       "       [-1.62841204e-15, -4.44089210e-15,  0.00000000e+00],\n",
       "       [ 3.02904877e-03, -1.17658203e-03,  0.00000000e+00],\n",
       "       [ 1.72271998e-01,  1.34444607e-01,  0.00000000e+00],\n",
       "       [ 8.21550366e-02,  3.61717820e-02,  0.00000000e+00],\n",
       "       [ 3.73859948e-02,  4.21399203e-03,  0.00000000e+00],\n",
       "       [ 1.48374625e-02, -3.13053198e-03,  0.00000000e+00],\n",
       "       [-1.62841204e-15, -4.44089210e-15,  0.00000000e+00],\n",
       "       [ 5.45891963e-03, -1.77932983e-03,  0.00000000e+00],\n",
       "       [ 1.29193388e-01,  5.52447494e-02,  0.00000000e+00],\n",
       "       [ 6.75270369e-02,  1.08427115e-02,  0.00000000e+00],\n",
       "       [ 3.36348846e-02, -3.04730854e-03,  0.00000000e+00],\n",
       "       [ 1.59917885e-02, -4.03373353e-03,  0.00000000e+00],\n",
       "       [-3.68412101e-15, -1.77635684e-15,  0.00000000e+00],\n",
       "       [ 7.03375193e-03, -1.62480082e-03,  0.00000000e+00],\n",
       "       [ 9.70952729e-02,  2.60773491e-02,  0.00000000e+00],\n",
       "       [ 5.54899524e-02,  1.61751745e-03,  0.00000000e+00],\n",
       "       [ 3.05255334e-02, -4.27596715e-03,  0.00000000e+00],\n",
       "       [ 1.64038879e-02, -3.26803739e-03,  0.00000000e+00],\n",
       "       [-3.68412101e-15, -1.77635684e-15,  0.00000000e+00],\n",
       "       [ 7.68288152e-03, -1.21969180e-03,  0.00000000e+00],\n",
       "       [ 7.26534508e-02,  1.28723978e-02,  0.00000000e+00],\n",
       "       [ 4.56364114e-02, -6.15053428e-04,  0.00000000e+00],\n",
       "       [ 2.74915369e-02, -3.16695897e-03,  0.00000000e+00],\n",
       "       [ 1.59748501e-02, -2.09681039e-03,  0.00000000e+00],\n",
       "       [-3.68412101e-15, -1.77635684e-15,  0.00000000e+00],\n",
       "       [ 7.63727164e-03, -8.16141950e-04,  0.00000000e+00],\n",
       "       [ 5.53381471e-02,  7.64103961e-03,  0.00000000e+00],\n",
       "       [ 3.77865716e-02, -1.05767107e-04,  0.00000000e+00],\n",
       "       [ 2.44976613e-02, -1.55383709e-03,  0.00000000e+00],\n",
       "       [ 1.49358376e-02, -1.07089782e-03,  0.00000000e+00],\n",
       "       [ 5.57587333e-16,  8.88178420e-16,  0.00000000e+00],\n",
       "       [ 7.17583268e-03, -4.99433249e-04,  0.00000000e+00],\n",
       "       [ 4.32682560e-02,  5.91370590e-03,  0.00000000e+00],\n",
       "       [ 3.16036015e-02,  1.07430474e-03,  0.00000000e+00],\n",
       "       [ 2.16326638e-02, -2.03315013e-04,  0.00000000e+00],\n",
       "       [ 1.35729645e-02, -3.46037913e-04,  0.00000000e+00],\n",
       "       [ 5.57587333e-16,  8.88178420e-16,  0.00000000e+00],\n",
       "       [ 6.52005381e-03, -2.76374579e-04,  0.00000000e+00],\n",
       "       [ 3.48435487e-02,  5.51853223e-03,  0.00000000e+00],\n",
       "       [ 2.67240177e-02,  2.07810352e-03,  0.00000000e+00],\n",
       "       [ 1.89876821e-02,  6.88320616e-04,  0.00000000e+00],\n",
       "       [ 1.21162779e-02,  1.01848030e-04,  0.00000000e+00],\n",
       "       [ 5.57587333e-16,  8.88178420e-16,  0.00000000e+00],\n",
       "       [ 5.81165625e-03, -1.26535503e-04,  0.00000000e+00],\n",
       "       [ 2.88405122e-02,  5.43849744e-03,  0.00000000e+00],\n",
       "       [ 2.28363333e-02,  2.66843418e-03,  0.00000000e+00],\n",
       "       [ 1.66232651e-02,  1.17243986e-03,  0.00000000e+00],\n",
       "       [ 1.07132203e-02,  3.51748574e-04,  0.00000000e+00],\n",
       "       [ 1.68999459e-15, -2.66453526e-15,  0.00000000e+00],\n",
       "       [ 5.12627970e-03, -2.71875964e-05,  0.00000000e+00],\n",
       "       [ 2.44164536e-02,  5.28231963e-03,  0.00000000e+00],\n",
       "       [ 1.97056929e-02,  2.87921867e-03,  0.00000000e+00],\n",
       "       [ 1.45655847e-02,  1.37424793e-03,  0.00000000e+00],\n",
       "       [ 9.43961722e-03,  4.78594285e-04,  0.00000000e+00],\n",
       "       [ 1.68999459e-15, -2.66453526e-15,  0.00000000e+00],\n",
       "       [ 4.49634208e-03,  3.71824606e-05,  0.00000000e+00],\n",
       "       [ 2.10321044e-02,  4.96190231e-03,  0.00000000e+00],\n",
       "       [ 1.71674418e-02,  2.82951238e-03,  0.00000000e+00],\n",
       "       [ 1.28140821e-02,  1.40860714e-03,  0.00000000e+00],\n",
       "       [ 8.32433188e-03,  5.30100720e-04,  0.00000000e+00],\n",
       "       [ 1.78334787e-15, -2.66453526e-15,  0.00000000e+00],\n",
       "       [ 3.93277737e-03,  7.08887654e-05,  0.00000000e+00],\n",
       "       [ 1.83674873e-02,  4.50996581e-03,  0.00000000e+00],\n",
       "       [ 1.51116091e-02,  2.63151152e-03,  0.00000000e+00],\n",
       "       [ 1.13540978e-02,  1.34588657e-03,  0.00000000e+00],\n",
       "       [ 7.37657103e-03,  5.19823375e-04,  0.00000000e+00],\n",
       "       [ 1.78334787e-15, -2.66453526e-15,  0.00000000e+00],\n",
       "       [ 3.44512090e-03,  6.66102050e-05,  0.00000000e+00],\n",
       "       [ 1.62487941e-02,  3.98165382e-03,  0.00000000e+00],\n",
       "       [ 1.34678967e-02,  2.35045490e-03,  0.00000000e+00],\n",
       "       [ 1.01716554e-02,  1.20016282e-03,  0.00000000e+00],\n",
       "       [ 6.61298736e-03,  4.20955117e-04,  0.00000000e+00],\n",
       "       [-4.39766651e-15,  0.00000000e+00,  0.00000000e+00],\n",
       "       [ 3.06410840e-03, -1.60297292e-05,  0.00000000e+00],\n",
       "       [ 1.45927772e-02,  3.40650068e-03,  0.00000000e+00],\n",
       "       [ 1.21939887e-02,  1.98973644e-03,  0.00000000e+00],\n",
       "       [ 9.26818462e-03,  9.25798093e-04,  0.00000000e+00],\n",
       "       [ 6.08326890e-03,  1.59379575e-04,  0.00000000e+00],\n",
       "       [-4.39766651e-15,  0.00000000e+00,  0.00000000e+00],\n",
       "       [ 2.90770884e-03, -2.27000887e-04,  0.00000000e+00],\n",
       "       [ 1.33659213e-02,  2.76746427e-03,  0.00000000e+00],\n",
       "       [ 1.12668949e-02,  1.48537176e-03,  0.00000000e+00],\n",
       "       [ 8.67310731e-03,  4.02496323e-04,  0.00000000e+00],\n",
       "       [ 5.91042937e-03, -5.11507419e-04,  0.00000000e+00],\n",
       "       [-4.39766651e-15,  0.00000000e+00,  0.00000000e+00],\n",
       "       [ 3.45140042e-03, -1.43593209e-03,  0.00000000e+00],\n",
       "       [ 1.25493470e-02,  1.99586679e-03,  0.00000000e+00],\n",
       "       [ 1.06679750e-02,  7.12957295e-04,  0.00000000e+00],\n",
       "       [ 8.39558846e-03, -5.65787325e-04,  0.00000000e+00],\n",
       "       [ 6.02555431e-03, -2.13886719e-03,  0.00000000e+00],\n",
       "       [ 1.21029640e-02,  9.83524140e-04,  0.00000000e+00],\n",
       "       [ 1.03598212e-02, -4.71167511e-04,  0.00000000e+00],\n",
       "       [ 8.31245666e-03, -2.22873586e-03,  0.00000000e+00],\n",
       "       [ 1.19260473e-02, -3.64939640e-04,  0.00000000e+00],\n",
       "       [ 1.02214482e-02, -2.09817041e-03,  0.00000000e+00],\n",
       "       [ 1.18542852e-02, -1.99290442e-03,  0.00000000e+00]])"
      ]
     },
     "execution_count": 14,
     "metadata": {},
     "output_type": "execute_result"
    }
   ],
   "source": [
    "u_k_app_error[10, tct.bottom_half_nodes, :]"
   ]
  },
  {
   "cell_type": "code",
   "execution_count": 9,
   "metadata": {},
   "outputs": [
    {
     "data": {
      "text/plain": [
       "array([ 1.89988468e-01, -4.05526725e-02, -1.56772352e-01, -3.96752549e-02,\n",
       "        1.21249222e-01, -9.76806699e-03, -6.65398443e-02, -6.46047006e-02,\n",
       "        3.07510893e-02, -2.85977271e-02, -9.82643266e-03, -4.98340339e-02,\n",
       "        3.06700720e-03, -4.33824276e-02, -9.00168308e-04, -4.54058989e-02,\n",
       "        2.57987848e-04, -4.48354090e-02, -6.76319495e-05, -4.49996123e-02,\n",
       "        6.27726115e-14, -4.49432522e-02,  6.76319496e-05, -4.49996123e-02,\n",
       "       -2.57987848e-04, -4.48354090e-02,  9.00168308e-04, -4.54058989e-02,\n",
       "       -3.06700720e-03, -4.33824276e-02,  9.82643266e-03, -4.98340339e-02,\n",
       "       -3.07510893e-02, -2.85977271e-02,  6.65398443e-02, -6.46047006e-02,\n",
       "       -1.21249222e-01, -9.76806699e-03,  1.56772352e-01, -3.96752549e-02,\n",
       "       -1.89988468e-01, -4.05526725e-02])"
      ]
     },
     "execution_count": 9,
     "metadata": {},
     "output_type": "execute_result"
    }
   ],
   "source": [
    "tct.data_out[0, :]"
   ]
  },
  {
   "cell_type": "code",
   "execution_count": null,
   "metadata": {},
   "outputs": [],
   "source": []
  },
  {
   "cell_type": "code",
   "execution_count": 3,
   "metadata": {},
   "outputs": [],
   "source": [
    "from tct.tct_disp_comp import TCTExtractDisp, TCTApplyFixedDisp\n",
    "from shared.plotting import format_vectors_from_flat\n",
    "import numpy as np"
   ]
  },
  {
   "cell_type": "code",
   "execution_count": null,
   "metadata": {},
   "outputs": [],
   "source": [
    "tct_extract = TCTExtractDisp()\n",
    "tct_extract.run()\n",
    "\n",
    "tct_extract.postprocess(\"u\", \"u\", \"y\", \"disps_full\")"
   ]
  },
  {
   "cell_type": "code",
   "execution_count": null,
   "metadata": {},
   "outputs": [],
   "source": [
    "tct_apply = TCTApplyFixedDisp(tct_extract.data_out)\n",
    "tct_apply.run()\n",
    "\n",
    "tct_apply.postprocess(\"u\", \"u\", \"y\", \"disps_applied\")"
   ]
  },
  {
   "cell_type": "code",
   "execution_count": 4,
   "metadata": {},
   "outputs": [
    {
     "name": "stderr",
     "output_type": "stream",
     "text": [
      "error: XDG_RUNTIME_DIR is invalid or not set in the environment.\n",
      "MESA: error: ZINK: failed to choose pdev\n",
      "glx: failed to create drisw screen\n"
     ]
    }
   ],
   "source": [
    "forces_real = tct_extract.data_in\n",
    "forces_pred = tct_apply.prediction_input\n",
    "\n",
    "prediction_error = np.zeros((tct_extract.num_steps, len(tct_extract.u_k.x.array)))\n",
    "prediction_error[:, tct_extract.interface_dofs] = np.nan_to_num((forces_real - forces_pred) / forces_real.max(), nan=0.0)\n",
    "formatted_prediction_error = format_vectors_from_flat(prediction_error)\n",
    "formatted_prediction_error = formatted_prediction_error[::100]\n",
    "\n",
    "tct_extract.postprocess(formatted_prediction_error, \"u\", \"norm\", \"disps_tractions_error\")"
   ]
  },
  {
   "cell_type": "code",
   "execution_count": 5,
   "metadata": {},
   "outputs": [
    {
     "name": "stderr",
     "output_type": "stream",
     "text": [
      "error: XDG_RUNTIME_DIR is invalid or not set in the environment.\n",
      "MESA: error: ZINK: failed to choose pdev\n",
      "glx: failed to create drisw screen\n"
     ]
    }
   ],
   "source": [
    "error = np.zeros(tct_extract.formatted_plot_results[\"u\"].shape)\n",
    "error[:, tct_extract.bottom_half_nodes] = tct_extract.formatted_plot_results[\"u\"][:, tct_extract.bottom_half_nodes] - tct_apply.formatted_plot_results[\"u\"][:, tct_apply.bottom_half_nodes]\n",
    "\n",
    "tct_extract.postprocess(error, \"u\", \"norm\", \"disps_error\")"
   ]
  },
  {
   "cell_type": "code",
   "execution_count": null,
   "metadata": {},
   "outputs": [],
   "source": []
  },
  {
   "cell_type": "code",
   "execution_count": 4,
   "metadata": {},
   "outputs": [],
   "source": [
    "import numpy as np\n",
    "import matplotlib.pyplot as plt"
   ]
  },
  {
   "cell_type": "code",
   "execution_count": 5,
   "metadata": {},
   "outputs": [],
   "source": [
    "with open(\"tractions_test5.npy\", \"rb\") as f:\n",
    "    tractions = np.load(f)"
   ]
  },
  {
   "cell_type": "code",
   "execution_count": 28,
   "metadata": {},
   "outputs": [
    {
     "data": {
      "text/plain": [
       "(6000, 42)"
      ]
     },
     "execution_count": 28,
     "metadata": {},
     "output_type": "execute_result"
    }
   ],
   "source": [
    "tractions.shape"
   ]
  },
  {
   "cell_type": "code",
   "execution_count": 6,
   "metadata": {},
   "outputs": [
    {
     "data": {
      "text/plain": [
       "[<matplotlib.lines.Line2D at 0x7fffb097ef60>]"
      ]
     },
     "execution_count": 6,
     "metadata": {},
     "output_type": "execute_result"
    },
    {
     "data": {
      "image/png": "[encoded data removed]",
      "text/plain": [
       "<Figure size 640x480 with 1 Axes>"
      ]
     },
     "metadata": {},
     "output_type": "display_data"
    }
   ],
   "source": [
    "plt.plot(tractions[:, 21])"
   ]
  },
  {
   "cell_type": "code",
   "execution_count": 5,
   "metadata": {},
   "outputs": [
    {
     "data": {
      "text/plain": [
       "np.float64(20887.823942668074)"
      ]
     },
     "execution_count": 5,
     "metadata": {},
     "output_type": "execute_result"
    }
   ],
   "source": [
    "tractions[500:1500, 21].max()"
   ]
  },
  {
   "cell_type": "code",
   "execution_count": 6,
   "metadata": {},
   "outputs": [
    {
     "data": {
      "text/plain": [
       "np.float64(20887.466378706722)"
      ]
     },
     "execution_count": 6,
     "metadata": {},
     "output_type": "execute_result"
    }
   ],
   "source": [
    "tractions[2500:3500, 21].max()"
   ]
  },
  {
   "cell_type": "code",
   "execution_count": null,
   "metadata": {},
   "outputs": [],
   "source": []
  }
 ],
 "metadata": {
  "kernelspec": {
   "display_name": "dolfinx-env",
   "language": "python",
   "name": "python3"
  },
  "language_info": {
   "codemirror_mode": {
    "name": "ipython",
    "version": 3
   },
   "file_extension": ".py",
   "mimetype": "text/x-python",
   "name": "python",
   "nbconvert_exporter": "python",
   "pygments_lexer": "ipython3",
   "version": "3.12.3"
  }
 },
 "nbformat": 4,
 "nbformat_minor": 2
}
