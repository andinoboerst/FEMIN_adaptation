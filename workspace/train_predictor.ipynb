{
 "cells": [
  {
   "cell_type": "code",
   "execution_count": 2,
   "metadata": {},
   "outputs": [],
   "source": [
    "import numpy as np\n",
    "import pickle\n",
    "\n",
    "from sklearn import ensemble\n",
    "from sklearn.metrics import mean_squared_error\n",
    "from sklearn.model_selection import train_test_split\n",
    "from sklearn.multioutput import MultiOutputRegressor"
   ]
  },
  {
   "cell_type": "code",
   "execution_count": 3,
   "metadata": {},
   "outputs": [],
   "source": [
    "with open(\"results/training_in_v04.npy\", \"rb\") as f:\n",
    "    training_in_loaded = np.load(f)\n",
    "\n",
    "with open(\"results/training_out_v04.npy\", \"rb\") as f:\n",
    "    training_out_loaded = np.load(f)"
   ]
  },
  {
   "cell_type": "code",
   "execution_count": 4,
   "metadata": {},
   "outputs": [
    {
     "data": {
      "text/plain": [
       "(6, 2000, 63)"
      ]
     },
     "execution_count": 4,
     "metadata": {},
     "output_type": "execute_result"
    }
   ],
   "source": [
    "training_in_loaded.shape"
   ]
  },
  {
   "cell_type": "code",
   "execution_count": 5,
   "metadata": {},
   "outputs": [
    {
     "data": {
      "text/plain": [
       "(6, 2000, 42)"
      ]
     },
     "execution_count": 5,
     "metadata": {},
     "output_type": "execute_result"
    }
   ],
   "source": [
    "training_out_loaded.shape"
   ]
  },
  {
   "cell_type": "code",
   "execution_count": 6,
   "metadata": {},
   "outputs": [],
   "source": [
    "training_in = training_in_loaded.reshape(-1, training_in_loaded.shape[-1])\n",
    "training_out = training_out_loaded.reshape(-1, training_out_loaded.shape[-1])"
   ]
  },
  {
   "cell_type": "code",
   "execution_count": 7,
   "metadata": {},
   "outputs": [
    {
     "data": {
      "text/plain": [
       "(12000, 63)"
      ]
     },
     "execution_count": 7,
     "metadata": {},
     "output_type": "execute_result"
    }
   ],
   "source": [
    "training_in.shape"
   ]
  },
  {
   "cell_type": "code",
   "execution_count": 8,
   "metadata": {},
   "outputs": [
    {
     "data": {
      "text/plain": [
       "array([[[ 0.00000000e+00,  0.00000000e+00,  0.00000000e+00, ...,\n",
       "          0.00000000e+00,  0.00000000e+00,  0.00000000e+00],\n",
       "        [ 8.36671376e-01,  1.69659827e-04, -2.68829846e+01, ...,\n",
       "          8.36844472e-01,  1.87298975e-04, -2.68843134e+01],\n",
       "        [ 1.67334069e+00,  3.39319235e-04, -5.37659029e+01, ...,\n",
       "          1.67368688e+00,  3.74597487e-04, -5.37685605e+01],\n",
       "        ...,\n",
       "        [ 2.51000587e+00,  5.08977807e-04, -8.06486886e+01, ...,\n",
       "          2.51052516e+00,  5.61895076e-04, -8.06526749e+01],\n",
       "        [ 1.67334069e+00,  3.39319236e-04, -5.37659029e+01, ...,\n",
       "          1.67368688e+00,  3.74597487e-04, -5.37685605e+01],\n",
       "        [ 8.36671376e-01,  1.69659827e-04, -2.68829846e+01, ...,\n",
       "          8.36844472e-01,  1.87298975e-04, -2.68843134e+01]],\n",
       "\n",
       "       [[ 0.00000000e+00,  0.00000000e+00,  0.00000000e+00, ...,\n",
       "          0.00000000e+00,  0.00000000e+00,  0.00000000e+00],\n",
       "        [ 1.33867334e+00,  2.71455549e-04, -4.30127478e+01, ...,\n",
       "          1.33895030e+00,  2.99678167e-04, -4.30148739e+01],\n",
       "        [ 2.67733823e+00,  5.42909384e-04, -8.60252239e+01, ...,\n",
       "          2.67789214e+00,  5.99354442e-04, -8.60294760e+01],\n",
       "        ...,\n",
       "        [-5.07799026e+02, -1.02971247e-01,  1.63160278e+04, ...,\n",
       "         -5.07904082e+02, -1.13676934e-01,  1.63168342e+04],\n",
       "        [-5.07393360e+02, -1.02888986e-01,  1.63029934e+04, ...,\n",
       "         -5.07498333e+02, -1.13586121e-01,  1.63037992e+04],\n",
       "        [-5.06984490e+02, -1.02806076e-01,  1.62898560e+04, ...,\n",
       "         -5.07089378e+02, -1.13494590e-01,  1.62906612e+04]],\n",
       "\n",
       "       [[ 0.00000000e+00,  0.00000000e+00,  0.00000000e+00, ...,\n",
       "          0.00000000e+00,  0.00000000e+00,  0.00000000e+00],\n",
       "        [ 1.84067412e+00,  3.73251030e-04, -5.91424728e+01, ...,\n",
       "          1.84105493e+00,  4.12057094e-04, -5.91453961e+01],\n",
       "        [ 3.68132626e+00,  7.46497603e-04, -1.18284239e+02, ...,\n",
       "          3.68208788e+00,  8.24109266e-04, -1.18290086e+02],\n",
       "        ...,\n",
       "        [ 3.08594808e+02,  6.25767096e-02, -9.91542165e+03, ...,\n",
       "          3.08658652e+02,  6.90826682e-02, -9.91591175e+03],\n",
       "        [ 3.10093238e+02,  6.28805606e-02, -9.96356753e+03, ...,\n",
       "          3.10157392e+02,  6.94181099e-02, -9.96406001e+03],\n",
       "        [ 3.11587965e+02,  6.31836606e-02, -1.00115944e+04, ...,\n",
       "          3.11652429e+02,  6.97527226e-02, -1.00120893e+04]],\n",
       "\n",
       "       [[ 0.00000000e+00,  0.00000000e+00,  0.00000000e+00, ...,\n",
       "          0.00000000e+00,  0.00000000e+00,  0.00000000e+00],\n",
       "        [ 2.34267326e+00,  4.75046179e-04, -7.52721452e+01, ...,\n",
       "          2.34315793e+00,  5.24435654e-04, -7.52758658e+01],\n",
       "        [ 4.68530121e+00,  9.50083169e-04, -1.50542834e+02, ...,\n",
       "          4.68627053e+00,  1.04886116e-03, -1.50550275e+02],\n",
       "        ...,\n",
       "        [ 3.18737359e+02,  6.46334113e-02, -1.02413107e+04, ...,\n",
       "          3.18803301e+02,  7.13532006e-02, -1.02418169e+04],\n",
       "        [ 3.16857347e+02,  6.42521834e-02, -1.01809043e+04, ...,\n",
       "          3.16922901e+02,  7.09323373e-02, -1.01814075e+04],\n",
       "        [ 3.14971206e+02,  6.38697125e-02, -1.01203009e+04, ...,\n",
       "          3.15036369e+02,  7.05101018e-02, -1.01208011e+04]],\n",
       "\n",
       "       [[ 0.00000000e+00,  0.00000000e+00,  0.00000000e+00, ...,\n",
       "          0.00000000e+00,  0.00000000e+00,  0.00000000e+00],\n",
       "        [ 2.84467033e+00,  5.76840907e-04, -9.14017508e+01, ...,\n",
       "          2.84525885e+00,  6.36813749e-04, -9.14062687e+01],\n",
       "        [ 5.68925951e+00,  1.15366536e-03, -1.82800895e+02, ...,\n",
       "          5.69043654e+00,  1.27360933e-03, -1.82809930e+02],\n",
       "        ...,\n",
       "        [-5.03870343e+02, -1.02174591e-01,  1.61897958e+04, ...,\n",
       "         -5.03974587e+02, -1.12797451e-01,  1.61905960e+04],\n",
       "        [-5.04785441e+02, -1.02360154e-01,  1.62191986e+04, ...,\n",
       "         -5.04889874e+02, -1.13002307e-01,  1.62200003e+04],\n",
       "        [-5.05686141e+02, -1.02542797e-01,  1.62481389e+04, ...,\n",
       "         -5.05790760e+02, -1.13203939e-01,  1.62489420e+04]],\n",
       "\n",
       "       [[ 0.00000000e+00,  0.00000000e+00,  0.00000000e+00, ...,\n",
       "          0.00000000e+00,  0.00000000e+00,  0.00000000e+00],\n",
       "        [ 3.34666486e+00,  6.78635122e-04, -1.07531275e+02, ...,\n",
       "          3.34735724e+00,  7.49191277e-04, -1.07536590e+02],\n",
       "        [ 6.69319760e+00,  1.35724345e-03, -2.15058305e+02, ...,\n",
       "          6.69458233e+00,  1.49835298e-03, -2.15068935e+02],\n",
       "        ...,\n",
       "        [-1.00394661e+01, -2.03579820e-03,  3.22576845e+02, ...,\n",
       "         -1.00415431e+01, -2.24745553e-03,  3.22592790e+02],\n",
       "        [-6.69319760e+00, -1.35724345e-03,  2.15058305e+02, ...,\n",
       "         -6.69458233e+00, -1.49835298e-03,  2.15068935e+02],\n",
       "        [-3.34666486e+00, -6.78635122e-04,  1.07531275e+02, ...,\n",
       "         -3.34735724e+00, -7.49191277e-04,  1.07536590e+02]]])"
      ]
     },
     "execution_count": 8,
     "metadata": {},
     "output_type": "execute_result"
    }
   ],
   "source": [
    "training_in_loaded"
   ]
  },
  {
   "cell_type": "code",
   "execution_count": 9,
   "metadata": {},
   "outputs": [
    {
     "data": {
      "text/plain": [
       "array([[ 0.00000000e+00,  0.00000000e+00,  0.00000000e+00, ...,\n",
       "         0.00000000e+00,  0.00000000e+00,  0.00000000e+00],\n",
       "       [ 8.36671376e-01,  1.69659827e-04, -2.68829846e+01, ...,\n",
       "         8.36844472e-01,  1.87298975e-04, -2.68843134e+01],\n",
       "       [ 1.67334069e+00,  3.39319235e-04, -5.37659029e+01, ...,\n",
       "         1.67368688e+00,  3.74597487e-04, -5.37685605e+01],\n",
       "       ...,\n",
       "       [-1.00394661e+01, -2.03579820e-03,  3.22576845e+02, ...,\n",
       "        -1.00415431e+01, -2.24745553e-03,  3.22592790e+02],\n",
       "       [-6.69319760e+00, -1.35724345e-03,  2.15058305e+02, ...,\n",
       "        -6.69458233e+00, -1.49835298e-03,  2.15068935e+02],\n",
       "       [-3.34666486e+00, -6.78635122e-04,  1.07531275e+02, ...,\n",
       "        -3.34735724e+00, -7.49191277e-04,  1.07536590e+02]])"
      ]
     },
     "execution_count": 9,
     "metadata": {},
     "output_type": "execute_result"
    }
   ],
   "source": [
    "training_in"
   ]
  },
  {
   "cell_type": "code",
   "execution_count": 10,
   "metadata": {},
   "outputs": [],
   "source": [
    "X_train, X_test, y_train, y_test = train_test_split(\n",
    "    training_in, training_out, test_size=0.2, random_state=13\n",
    ")\n",
    "\n",
    "params = {\n",
    "    \"n_estimators\": 500,\n",
    "    \"max_depth\": 4,\n",
    "    \"min_samples_split\": 5,\n",
    "    \"learning_rate\": 0.01,\n",
    "    \"loss\": \"squared_error\",\n",
    "}"
   ]
  },
  {
   "cell_type": "code",
   "execution_count": 11,
   "metadata": {},
   "outputs": [
    {
     "name": "stdout",
     "output_type": "stream",
     "text": [
      "The mean squared error (MSE) on test set: 0.0000\n"
     ]
    }
   ],
   "source": [
    "reg = MultiOutputRegressor(ensemble.GradientBoostingRegressor(**params), n_jobs=-1)\n",
    "reg.fit(X_train, y_train)\n",
    "\n",
    "mse = mean_squared_error(y_test, reg.predict(X_test))\n",
    "print(\"The mean squared error (MSE) on test set: {:.4f}\".format(mse))"
   ]
  },
  {
   "cell_type": "code",
   "execution_count": 12,
   "metadata": {},
   "outputs": [],
   "source": [
    "with open(\"model_v04.pkl\", \"wb\") as f:\n",
    "    pickle.dump(reg, f)"
   ]
  },
  {
   "cell_type": "code",
   "execution_count": null,
   "metadata": {},
   "outputs": [],
   "source": []
  },
  {
   "cell_type": "code",
   "execution_count": 13,
   "metadata": {},
   "outputs": [
    {
     "data": {
      "text/plain": [
       "array([-1.71023528e-03, -1.50643955e-03, -1.28330655e-03, -1.06315981e-03,\n",
       "       -8.60251670e-04, -6.79173246e-04, -5.18636525e-04, -3.74779045e-04,\n",
       "       -2.43208829e-04, -1.19637389e-04,  3.27436880e-09,  1.19642582e-04,\n",
       "        2.43209923e-04,  3.74773369e-04,  5.18622052e-04,  6.79149855e-04,\n",
       "        8.60222395e-04,  1.06312924e-03,  1.28327572e-03,  1.50642157e-03,\n",
       "        1.71023016e-03])"
      ]
     },
     "execution_count": 13,
     "metadata": {},
     "output_type": "execute_result"
    }
   ],
   "source": [
    "training_out_loaded[0, 500, ::2]"
   ]
  },
  {
   "cell_type": "code",
   "execution_count": 14,
   "metadata": {},
   "outputs": [],
   "source": [
    "prediction = reg.predict([training_in_loaded[0, 500, :]])[0]"
   ]
  },
  {
   "cell_type": "code",
   "execution_count": 15,
   "metadata": {},
   "outputs": [
    {
     "data": {
      "text/plain": [
       "array([-1.88840044e-05, -1.66337413e-05, -1.41699606e-05, -1.17391536e-05,\n",
       "       -9.49869096e-06, -7.49926678e-06, -5.72665912e-06, -4.13821961e-06,\n",
       "       -2.68545309e-06, -1.32100712e-06, -1.82999156e-10,  1.32106446e-06,\n",
       "        2.68546517e-06,  4.13815693e-06,  5.72649931e-06,  7.49900850e-06,\n",
       "        9.49836772e-06,  1.17388160e-05,  1.41696202e-05,  1.66335428e-05,\n",
       "        1.88839480e-05])"
      ]
     },
     "execution_count": 15,
     "metadata": {},
     "output_type": "execute_result"
    }
   ],
   "source": [
    "prediction[::2]"
   ]
  },
  {
   "cell_type": "code",
   "execution_count": null,
   "metadata": {},
   "outputs": [],
   "source": []
  },
  {
   "cell_type": "code",
   "execution_count": null,
   "metadata": {},
   "outputs": [],
   "source": []
  }
 ],
 "metadata": {
  "kernelspec": {
   "display_name": "dolfinx-env",
   "language": "python",
   "name": "python3"
  },
  "language_info": {
   "codemirror_mode": {
    "name": "ipython",
    "version": 3
   },
   "file_extension": ".py",
   "mimetype": "text/x-python",
   "name": "python",
   "nbconvert_exporter": "python",
   "pygments_lexer": "ipython3",
   "version": "3.12.3"
  }
 },
 "nbformat": 4,
 "nbformat_minor": 2
}
