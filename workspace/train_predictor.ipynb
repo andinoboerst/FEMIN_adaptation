{
 "cells": [
  {
   "cell_type": "code",
   "execution_count": 2,
   "metadata": {},
   "outputs": [],
   "source": [
    "import numpy as np\n",
    "import pickle\n",
    "\n",
    "from sklearn import ensemble\n",
    "from sklearn.metrics import mean_squared_error\n",
    "from sklearn.model_selection import train_test_split\n",
    "from sklearn.multioutput import MultiOutputRegressor"
   ]
  },
  {
   "cell_type": "code",
   "execution_count": 3,
   "metadata": {},
   "outputs": [],
   "source": [
    "with open(\"results/training_in_v04.npy\", \"rb\") as f:\n",
    "    training_in_loaded = np.load(f)\n",
    "\n",
    "with open(\"results/training_out_v04.npy\", \"rb\") as f:\n",
    "    training_out_loaded = np.load(f)"
   ]
  },
  {
   "cell_type": "code",
   "execution_count": 4,
   "metadata": {},
   "outputs": [
    {
     "data": {
      "text/plain": [
       "(6, 2000, 63)"
      ]
     },
     "execution_count": 4,
     "metadata": {},
     "output_type": "execute_result"
    }
   ],
   "source": [
    "training_in_loaded.shape"
   ]
  },
  {
   "cell_type": "code",
   "execution_count": 5,
   "metadata": {},
   "outputs": [
    {
     "data": {
      "text/plain": [
       "(6, 2000, 42)"
      ]
     },
     "execution_count": 5,
     "metadata": {},
     "output_type": "execute_result"
    }
   ],
   "source": [
    "training_out_loaded.shape"
   ]
  },
  {
   "cell_type": "code",
   "execution_count": null,
   "metadata": {},
   "outputs": [],
   "source": [
    "training_in = training_in_loaded.reshape(-1, training_in_loaded.shape[-1])\n",
    "training_out = training_out_loaded.reshape(-1, training_out_loaded.shape[-1])"
   ]
  },
  {
   "cell_type": "code",
   "execution_count": 9,
   "metadata": {},
   "outputs": [
    {
     "data": {
      "text/plain": [
       "(12000, 63)"
      ]
     },
     "execution_count": 9,
     "metadata": {},
     "output_type": "execute_result"
    }
   ],
   "source": [
    "training_in.shape"
   ]
  },
  {
   "cell_type": "code",
   "execution_count": 15,
   "metadata": {},
   "outputs": [
    {
     "data": {
      "text/plain": [
       "array([[[ 0.00000000e+00,  0.00000000e+00,  0.00000000e+00, ...,\n",
       "          0.00000000e+00,  0.00000000e+00,  0.00000000e+00],\n",
       "        [ 1.52521331e+01,  1.80385005e+02,  2.26304078e+01, ...,\n",
       "          1.96848314e+02, -1.51697690e+01,  1.91086168e+02],\n",
       "        [ 3.05042285e+01,  3.60769565e+02,  4.52607597e+01, ...,\n",
       "          3.93696142e+02, -3.03395006e+01,  3.82171864e+02],\n",
       "        ...,\n",
       "        [ 4.57562487e+01,  5.41153235e+02,  6.78909999e+01, ...,\n",
       "          5.90542999e+02, -4.55091574e+01,  5.73256618e+02],\n",
       "        [ 3.05042285e+01,  3.60769565e+02,  4.52607597e+01, ...,\n",
       "          3.93696142e+02, -3.03395006e+01,  3.82171864e+02],\n",
       "        [ 1.52521331e+01,  1.80385005e+02,  2.26304078e+01, ...,\n",
       "          1.96848314e+02, -1.51697690e+01,  1.91086168e+02]],\n",
       "\n",
       "       [[ 0.00000000e+00,  0.00000000e+00,  0.00000000e+00, ...,\n",
       "          0.00000000e+00,  0.00000000e+00,  0.00000000e+00],\n",
       "        [ 2.44033973e+01,  2.88615823e+02,  3.62086292e+01, ...,\n",
       "          3.14957100e+02, -2.42716149e+01,  3.05737672e+02],\n",
       "        [ 4.88066404e+01,  5.77229823e+02,  7.24170297e+01, ...,\n",
       "          6.29912211e+02, -4.85430764e+01,  6.11473414e+02],\n",
       "        ...,\n",
       "        [ 5.76635073e+03,  6.81978843e+04,  8.55584381e+03, ...,\n",
       "          7.44221423e+04, -5.73521148e+03,  7.22436566e+04],\n",
       "        [ 5.74669847e+03,  6.79654595e+04,  8.52668469e+03, ...,\n",
       "          7.41685047e+04, -5.71566534e+03,  7.19974434e+04],\n",
       "        [ 5.72700991e+03,  6.77326054e+04,  8.49747171e+03, ...,\n",
       "          7.39143985e+04, -5.69608310e+03,  7.17507755e+04]],\n",
       "\n",
       "       [[ 0.00000000e+00,  0.00000000e+00,  0.00000000e+00, ...,\n",
       "          0.00000000e+00,  0.00000000e+00,  0.00000000e+00],\n",
       "        [ 3.35546398e+01,  3.96846385e+02,  4.97868185e+01, ...,\n",
       "          4.33065607e+02, -3.33734392e+01,  4.20388905e+02],\n",
       "        [ 6.71088789e+01,  7.93688030e+02,  9.95730424e+01, ...,\n",
       "          8.66126041e+02, -6.67464798e+01,  8.40772791e+02],\n",
       "        ...,\n",
       "        [ 9.26519149e+03,  1.09578221e+05,  1.37472615e+04, ...,\n",
       "          1.19579164e+05, -9.21515792e+03,  1.16078841e+05],\n",
       "        [ 9.25509861e+03,  1.09458854e+05,  1.37322861e+04, ...,\n",
       "          1.19448902e+05, -9.20511954e+03,  1.15952393e+05],\n",
       "        [ 9.24489520e+03,  1.09338180e+05,  1.37171468e+04, ...,\n",
       "          1.19317214e+05, -9.19497123e+03,  1.15824560e+05]],\n",
       "\n",
       "       [[ 0.00000000e+00,  0.00000000e+00,  0.00000000e+00, ...,\n",
       "          0.00000000e+00,  0.00000000e+00,  0.00000000e+00],\n",
       "        [ 4.27058525e+01,  5.05076594e+02,  6.33649635e+01, ...,\n",
       "          5.51173728e+02, -4.24752338e+01,  5.35039765e+02],\n",
       "        [ 8.54108789e+01,  1.01014342e+03,  1.26728701e+02, ...,\n",
       "          1.10233679e+03, -8.49496459e+01,  1.07006918e+03],\n",
       "        ...,\n",
       "        [ 9.19418805e+03,  1.08738473e+05,  1.36419099e+04, ...,\n",
       "          1.18662774e+05, -9.14453790e+03,  1.15189276e+05],\n",
       "        [ 9.20783070e+03,  1.08899823e+05,  1.36621522e+04, ...,\n",
       "          1.18838849e+05, -9.15810688e+03,  1.15360197e+05],\n",
       "        [ 9.22129523e+03,  1.09059066e+05,  1.36821302e+04, ...,\n",
       "          1.19012627e+05, -9.17149870e+03,  1.15528888e+05]],\n",
       "\n",
       "       [[ 0.00000000e+00,  0.00000000e+00,  0.00000000e+00, ...,\n",
       "          0.00000000e+00,  0.00000000e+00,  0.00000000e+00],\n",
       "        [ 5.18570273e+01,  6.13306354e+02,  7.69430523e+01, ...,\n",
       "          6.69281361e+02, -5.15769907e+01,  6.49690149e+02],\n",
       "        [ 1.03712575e+02,  1.22659521e+03,  1.53883910e+02, ...,\n",
       "          1.33854363e+03, -1.03152510e+02,  1.29936177e+03],\n",
       "        ...,\n",
       "        [ 5.58069777e+03,  6.60021907e+04,  8.28038055e+03, ...,\n",
       "          7.20260530e+04, -5.55056107e+03,  6.99177056e+04],\n",
       "        [ 5.62305436e+03,  6.65031365e+04,  8.34322729e+03, ...,\n",
       "          7.25727190e+04, -5.59268893e+03,  7.04483696e+04],\n",
       "        [ 5.66525056e+03,  6.70021856e+04,  8.40583606e+03, ...,\n",
       "          7.31173150e+04, -5.63465726e+03,  7.09770242e+04]],\n",
       "\n",
       "       [[ 0.00000000e+00,  0.00000000e+00,  0.00000000e+00, ...,\n",
       "          0.00000000e+00,  0.00000000e+00,  0.00000000e+00],\n",
       "        [ 6.10081560e+01,  7.21535570e+02,  9.05210727e+01, ...,\n",
       "          7.87388398e+02, -6.06787018e+01,  7.64339957e+02],\n",
       "        [ 1.22013903e+02,  1.44304265e+03,  1.81038572e+02, ...,\n",
       "          1.57474571e+03, -1.21355008e+02,  1.52864974e+03],\n",
       "        ...,\n",
       "        [-1.83014834e+02, -2.16449277e+03, -2.71548924e+02, ...,\n",
       "         -2.36204086e+03,  1.82026524e+02, -2.29289917e+03],\n",
       "        [-1.22013903e+02, -1.44304265e+03, -1.81038572e+02, ...,\n",
       "         -1.57474571e+03,  1.21355008e+02, -1.52864974e+03],\n",
       "        [-6.10081560e+01, -7.21535569e+02, -9.05210726e+01, ...,\n",
       "         -7.87388398e+02,  6.06787018e+01, -7.64339956e+02]]])"
      ]
     },
     "execution_count": 15,
     "metadata": {},
     "output_type": "execute_result"
    }
   ],
   "source": [
    "training_in_loaded"
   ]
  },
  {
   "cell_type": "code",
   "execution_count": 16,
   "metadata": {},
   "outputs": [
    {
     "data": {
      "text/plain": [
       "array([[    0.        ,     0.        ,     0.        , ...,\n",
       "            0.        ,     0.        ,     0.        ],\n",
       "       [   15.25213308,   180.38500515,    22.63040776, ...,\n",
       "          196.84831383,   -15.16976903,   191.08616787],\n",
       "       [   30.50422853,   360.76956522,    45.26075969, ...,\n",
       "          393.69614196,   -30.33950062,   382.17186426],\n",
       "       ...,\n",
       "       [ -183.01483406, -2164.4927702 ,  -271.54892366, ...,\n",
       "        -2362.04085678,   182.02652352, -2292.89917139],\n",
       "       [ -122.01390346, -1443.04265425,  -181.03857169, ...,\n",
       "        -1574.74571149,   121.35500809, -1528.64973807],\n",
       "       [  -61.00815597,  -721.53556945,   -90.52107263, ...,\n",
       "         -787.38839793,    60.67870178,  -764.33995627]])"
      ]
     },
     "execution_count": 16,
     "metadata": {},
     "output_type": "execute_result"
    }
   ],
   "source": [
    "training_in"
   ]
  },
  {
   "cell_type": "code",
   "execution_count": 6,
   "metadata": {},
   "outputs": [],
   "source": [
    "X_train, X_test, y_train, y_test = train_test_split(\n",
    "    training_in, training_out, test_size=0.2, random_state=13\n",
    ")\n",
    "\n",
    "params = {\n",
    "    \"n_estimators\": 500,\n",
    "    \"max_depth\": 4,\n",
    "    \"min_samples_split\": 5,\n",
    "    \"learning_rate\": 0.01,\n",
    "    \"loss\": \"squared_error\",\n",
    "}"
   ]
  },
  {
   "cell_type": "code",
   "execution_count": 7,
   "metadata": {},
   "outputs": [
    {
     "name": "stdout",
     "output_type": "stream",
     "text": [
      "The mean squared error (MSE) on test set: 0.0001\n"
     ]
    }
   ],
   "source": [
    "reg = MultiOutputRegressor(ensemble.GradientBoostingRegressor(**params), n_jobs=-1)\n",
    "reg.fit(X_train, y_train)\n",
    "\n",
    "mse = mean_squared_error(y_test, reg.predict(X_test))\n",
    "print(\"The mean squared error (MSE) on test set: {:.4f}\".format(mse))"
   ]
  },
  {
   "cell_type": "code",
   "execution_count": 8,
   "metadata": {},
   "outputs": [],
   "source": [
    "with open(\"model_v3.pkl\", \"wb\") as f:\n",
    "    pickle.dump(reg, f)"
   ]
  },
  {
   "cell_type": "code",
   "execution_count": null,
   "metadata": {},
   "outputs": [],
   "source": []
  },
  {
   "cell_type": "code",
   "execution_count": 24,
   "metadata": {},
   "outputs": [
    {
     "data": {
      "text/plain": [
       "array([-1.09133607e+00, -9.61289850e-01, -8.18904122e-01, -6.78423995e-01,\n",
       "       -5.48944163e-01, -4.33394322e-01, -3.30952561e-01, -2.39154164e-01,\n",
       "       -1.55196522e-01, -7.63430617e-02,  2.08944149e-06,  7.63463754e-02,\n",
       "        1.55197220e-01,  2.39150542e-01,  3.30943326e-01,  4.33379396e-01,\n",
       "        5.48925483e-01,  6.78404483e-01,  8.18884450e-01,  9.61278376e-01,\n",
       "        1.09133280e+00])"
      ]
     },
     "execution_count": 24,
     "metadata": {},
     "output_type": "execute_result"
    }
   ],
   "source": [
    "training_out_loaded[0, 500, ::2]"
   ]
  },
  {
   "cell_type": "code",
   "execution_count": 25,
   "metadata": {},
   "outputs": [],
   "source": [
    "prediction = reg.predict([training_in_loaded[0, 500, :]])[0]"
   ]
  },
  {
   "cell_type": "code",
   "execution_count": 26,
   "metadata": {},
   "outputs": [
    {
     "data": {
      "text/plain": [
       "array([-1.08372777e+00, -9.54588179e-01, -8.13195099e-01, -6.73694335e-01,\n",
       "       -5.45117177e-01, -4.30372896e-01, -3.28645312e-01, -2.37486891e-01,\n",
       "       -1.54114563e-01, -7.58108329e-02,  2.07688347e-06,  7.58141235e-02,\n",
       "        1.54115256e-01,  2.37483294e-01,  3.28636141e-01,  4.30358073e-01,\n",
       "        5.45098626e-01,  6.73674958e-01,  8.13175563e-01,  9.54576785e-01,\n",
       "        1.08372453e+00])"
      ]
     },
     "execution_count": 26,
     "metadata": {},
     "output_type": "execute_result"
    }
   ],
   "source": [
    "prediction[::2]"
   ]
  },
  {
   "cell_type": "code",
   "execution_count": null,
   "metadata": {},
   "outputs": [],
   "source": []
  },
  {
   "cell_type": "code",
   "execution_count": null,
   "metadata": {},
   "outputs": [],
   "source": []
  }
 ],
 "metadata": {
  "kernelspec": {
   "display_name": "dolfinx-env",
   "language": "python",
   "name": "python3"
  },
  "language_info": {
   "codemirror_mode": {
    "name": "ipython",
    "version": 3
   },
   "file_extension": ".py",
   "mimetype": "text/x-python",
   "name": "python",
   "nbconvert_exporter": "python",
   "pygments_lexer": "ipython3",
   "version": "3.12.3"
  }
 },
 "nbformat": 4,
 "nbformat_minor": 2
}
