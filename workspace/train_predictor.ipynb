{
 "cells": [
  {
   "cell_type": "code",
   "execution_count": 2,
   "metadata": {},
   "outputs": [],
   "source": [
    "import numpy as np\n",
    "import pickle\n",
    "\n",
    "from sklearn import ensemble\n",
    "from sklearn.metrics import mean_squared_error\n",
    "from sklearn.model_selection import train_test_split\n",
    "from sklearn.multioutput import MultiOutputRegressor"
   ]
  },
  {
   "cell_type": "code",
   "execution_count": 3,
   "metadata": {},
   "outputs": [],
   "source": [
    "with open(\"results/training_in_v08.npy\", \"rb\") as f:\n",
    "    training_in_loaded = np.load(f)\n",
    "\n",
    "with open(\"results/training_out_v08.npy\", \"rb\") as f:\n",
    "    training_out_loaded = np.load(f)"
   ]
  },
  {
   "cell_type": "code",
   "execution_count": 4,
   "metadata": {},
   "outputs": [
    {
     "data": {
      "text/plain": [
       "(6, 6000, 42)"
      ]
     },
     "execution_count": 4,
     "metadata": {},
     "output_type": "execute_result"
    }
   ],
   "source": [
    "training_in_loaded.shape"
   ]
  },
  {
   "cell_type": "code",
   "execution_count": 5,
   "metadata": {},
   "outputs": [
    {
     "data": {
      "text/plain": [
       "(6, 6000, 42)"
      ]
     },
     "execution_count": 5,
     "metadata": {},
     "output_type": "execute_result"
    }
   ],
   "source": [
    "training_out_loaded.shape"
   ]
  },
  {
   "cell_type": "code",
   "execution_count": 6,
   "metadata": {},
   "outputs": [],
   "source": [
    "training_in = training_in_loaded.reshape(-1, training_in_loaded.shape[-1])\n",
    "training_out = training_out_loaded.reshape(-1, training_out_loaded.shape[-1])"
   ]
  },
  {
   "cell_type": "code",
   "execution_count": 7,
   "metadata": {},
   "outputs": [
    {
     "data": {
      "text/plain": [
       "(36000, 42)"
      ]
     },
     "execution_count": 7,
     "metadata": {},
     "output_type": "execute_result"
    }
   ],
   "source": [
    "training_in.shape"
   ]
  },
  {
   "cell_type": "code",
   "execution_count": 8,
   "metadata": {},
   "outputs": [
    {
     "data": {
      "text/plain": [
       "array([[[ 0.00000000e+00,  0.00000000e+00,  0.00000000e+00, ...,\n",
       "          0.00000000e+00,  0.00000000e+00,  0.00000000e+00],\n",
       "        [ 1.69659827e-04, -2.68829846e+01,  1.74496452e-04, ...,\n",
       "         -3.28308914e+01,  1.87298975e-04, -2.68843134e+01],\n",
       "        [ 3.39319235e-04, -5.37659029e+01,  3.48992473e-04, ...,\n",
       "         -6.56617019e+01,  3.74597487e-04, -5.37685605e+01],\n",
       "        ...,\n",
       "        [ 5.08977807e-04, -8.06486885e+01,  5.23487633e-04, ...,\n",
       "         -9.84923503e+01,  5.61895075e-04, -8.06526749e+01],\n",
       "        [ 3.39319235e-04, -5.37659029e+01,  3.48992473e-04, ...,\n",
       "         -6.56617019e+01,  3.74597487e-04, -5.37685605e+01],\n",
       "        [ 1.69659827e-04, -2.68829846e+01,  1.74496452e-04, ...,\n",
       "         -3.28308914e+01,  1.87298975e-04, -2.68843134e+01]],\n",
       "\n",
       "       [[ 0.00000000e+00,  0.00000000e+00,  0.00000000e+00, ...,\n",
       "          0.00000000e+00,  0.00000000e+00,  0.00000000e+00],\n",
       "        [ 2.71455549e-04, -4.30127478e+01,  2.79194144e-04, ...,\n",
       "         -5.25293926e+01,  2.99678167e-04, -4.30148739e+01],\n",
       "        [ 5.42909384e-04, -8.60252239e+01,  5.58386524e-04, ...,\n",
       "         -1.05058453e+02,  5.99354442e-04, -8.60294760e+01],\n",
       "        ...,\n",
       "        [ 6.41430325e-02, -1.01636091e+04,  6.59716078e-02, ...,\n",
       "         -1.24123251e+04,  7.08118382e-02, -1.01641114e+04],\n",
       "        [ 6.39244270e-02, -1.01289705e+04,  6.57467704e-02, ...,\n",
       "         -1.23700228e+04,  7.05705048e-02, -1.01294712e+04],\n",
       "        [ 6.37054178e-02, -1.00942680e+04,  6.55215177e-02, ...,\n",
       "         -1.23276423e+04,  7.03287257e-02, -1.00947670e+04]],\n",
       "\n",
       "       [[ 0.00000000e+00,  0.00000000e+00,  0.00000000e+00, ...,\n",
       "          0.00000000e+00,  0.00000000e+00,  0.00000000e+00],\n",
       "        [ 3.73251030e-04, -5.91424728e+01,  3.83891588e-04, ...,\n",
       "         -7.22278471e+01,  4.12057094e-04, -5.91453961e+01],\n",
       "        [ 7.46497603e-04, -1.18284239e+02,  7.67778591e-04, ...,\n",
       "         -1.44454832e+02,  8.24109266e-04, -1.18290086e+02],\n",
       "        ...,\n",
       "        [ 1.03063013e-01, -1.63305683e+04,  1.06001110e-01, ...,\n",
       "         -1.99437347e+04,  1.13778241e-01, -1.63313755e+04],\n",
       "        [ 1.02950743e-01, -1.63127788e+04,  1.05885640e-01, ...,\n",
       "         -1.99220093e+04,  1.13654298e-01, -1.63135851e+04],\n",
       "        [ 1.02837243e-01, -1.62947946e+04,  1.05768905e-01, ...,\n",
       "         -1.99000460e+04,  1.13528998e-01, -1.62956000e+04]],\n",
       "\n",
       "       [[ 0.00000000e+00,  0.00000000e+00,  0.00000000e+00, ...,\n",
       "          0.00000000e+00,  0.00000000e+00,  0.00000000e+00],\n",
       "        [ 4.75046179e-04, -7.52721452e+01,  4.88588691e-04, ...,\n",
       "         -9.19262375e+01,  5.24435654e-04, -7.52758658e+01],\n",
       "        [ 9.50083169e-04, -1.50542834e+02,  9.77167930e-04, ...,\n",
       "         -1.83850697e+02,  1.04886116e-03, -1.50550275e+02],\n",
       "        ...,\n",
       "        [ 1.02273193e-01, -1.62054196e+04,  1.05188775e-01, ...,\n",
       "         -1.97908967e+04,  1.12906305e-01, -1.62062206e+04],\n",
       "        [ 1.02424950e-01, -1.62294657e+04,  1.05344857e-01, ...,\n",
       "         -1.98202631e+04,  1.13073840e-01, -1.62302679e+04],\n",
       "        [ 1.02574725e-01, -1.62531979e+04,  1.05498902e-01, ...,\n",
       "         -1.98492461e+04,  1.13239187e-01, -1.62540013e+04]],\n",
       "\n",
       "       [[ 0.00000000e+00,  0.00000000e+00,  0.00000000e+00, ...,\n",
       "          0.00000000e+00,  0.00000000e+00,  0.00000000e+00],\n",
       "        [ 5.76840907e-04, -9.14017508e+01,  5.93285360e-04, ...,\n",
       "         -1.11624546e+02,  6.36813749e-04, -9.14062687e+01],\n",
       "        [ 1.15366536e-03, -1.82800895e+02,  1.18655380e-03, ...,\n",
       "         -2.23245908e+02,  1.27360933e-03, -1.82809930e+02],\n",
       "        ...,\n",
       "        [ 6.20778886e-02, -9.83638233e+03,  6.38475912e-02, ...,\n",
       "         -1.20126989e+04,  6.85319859e-02, -9.83686852e+03],\n",
       "        [ 6.25490496e-02, -9.91103887e+03,  6.43321841e-02, ...,\n",
       "         -1.21038733e+04,  6.90521326e-02, -9.91152876e+03],\n",
       "        [ 6.30184266e-02, -9.98541272e+03,  6.48149420e-02, ...,\n",
       "         -1.21947025e+04,  6.95703096e-02, -9.98590628e+03]],\n",
       "\n",
       "       [[ 0.00000000e+00,  0.00000000e+00,  0.00000000e+00, ...,\n",
       "          0.00000000e+00,  0.00000000e+00,  0.00000000e+00],\n",
       "        [ 6.78635122e-04, -1.07531275e+02,  6.97981501e-04, ...,\n",
       "         -1.31322756e+02,  7.49191277e-04, -1.07536590e+02],\n",
       "        [ 1.35724345e-03, -2.15058305e+02,  1.39593545e-03, ...,\n",
       "         -2.62640327e+02,  1.49835298e-03, -2.15068935e+02],\n",
       "        ...,\n",
       "        [-2.03579820e-03,  3.22576845e+02, -2.09383428e-03, ...,\n",
       "          3.93947530e+02, -2.24745553e-03,  3.22592790e+02],\n",
       "        [-1.35724345e-03,  2.15058305e+02, -1.39593545e-03, ...,\n",
       "          2.62640327e+02, -1.49835298e-03,  2.15068935e+02],\n",
       "        [-6.78635122e-04,  1.07531275e+02, -6.97981501e-04, ...,\n",
       "          1.31322756e+02, -7.49191277e-04,  1.07536590e+02]]])"
      ]
     },
     "execution_count": 8,
     "metadata": {},
     "output_type": "execute_result"
    }
   ],
   "source": [
    "training_in_loaded"
   ]
  },
  {
   "cell_type": "code",
   "execution_count": 9,
   "metadata": {},
   "outputs": [
    {
     "data": {
      "text/plain": [
       "array([[ 0.00000000e+00,  0.00000000e+00,  0.00000000e+00, ...,\n",
       "         0.00000000e+00,  0.00000000e+00,  0.00000000e+00],\n",
       "       [ 1.69659827e-04, -2.68829846e+01,  1.74496452e-04, ...,\n",
       "        -3.28308914e+01,  1.87298975e-04, -2.68843134e+01],\n",
       "       [ 3.39319235e-04, -5.37659029e+01,  3.48992473e-04, ...,\n",
       "        -6.56617019e+01,  3.74597487e-04, -5.37685605e+01],\n",
       "       ...,\n",
       "       [-2.03579820e-03,  3.22576845e+02, -2.09383428e-03, ...,\n",
       "         3.93947530e+02, -2.24745553e-03,  3.22592790e+02],\n",
       "       [-1.35724345e-03,  2.15058305e+02, -1.39593545e-03, ...,\n",
       "         2.62640327e+02, -1.49835298e-03,  2.15068935e+02],\n",
       "       [-6.78635122e-04,  1.07531275e+02, -6.97981501e-04, ...,\n",
       "         1.31322756e+02, -7.49191277e-04,  1.07536590e+02]])"
      ]
     },
     "execution_count": 9,
     "metadata": {},
     "output_type": "execute_result"
    }
   ],
   "source": [
    "training_in"
   ]
  },
  {
   "cell_type": "code",
   "execution_count": 10,
   "metadata": {},
   "outputs": [],
   "source": [
    "X_train, X_test, y_train, y_test = train_test_split(\n",
    "    training_in, training_out, test_size=0.2, random_state=13\n",
    ")\n",
    "\n",
    "params = {\n",
    "    \"n_estimators\": 500,\n",
    "    \"max_depth\": 4,\n",
    "    \"min_samples_split\": 5,\n",
    "    \"learning_rate\": 0.01,\n",
    "    \"loss\": \"squared_error\",\n",
    "}"
   ]
  },
  {
   "cell_type": "code",
   "execution_count": 11,
   "metadata": {},
   "outputs": [
    {
     "name": "stdout",
     "output_type": "stream",
     "text": [
      "The mean squared error (MSE) on test set: 0.0001\n"
     ]
    }
   ],
   "source": [
    "reg = MultiOutputRegressor(ensemble.GradientBoostingRegressor(**params), n_jobs=-1)\n",
    "reg.fit(X_train, y_train)\n",
    "\n",
    "mse = mean_squared_error(y_test, reg.predict(X_test))\n",
    "print(\"The mean squared error (MSE) on test set: {:.4f}\".format(mse))"
   ]
  },
  {
   "cell_type": "code",
   "execution_count": 12,
   "metadata": {},
   "outputs": [],
   "source": [
    "with open(\"model_v08.pkl\", \"wb\") as f:\n",
    "    pickle.dump(reg, f)"
   ]
  },
  {
   "cell_type": "code",
   "execution_count": null,
   "metadata": {},
   "outputs": [],
   "source": []
  },
  {
   "cell_type": "code",
   "execution_count": 13,
   "metadata": {},
   "outputs": [
    {
     "data": {
      "text/plain": [
       "array([-1.09133607e+00, -9.61289850e-01, -8.18904122e-01, -6.78423995e-01,\n",
       "       -5.48944163e-01, -4.33394322e-01, -3.30952561e-01, -2.39154164e-01,\n",
       "       -1.55196522e-01, -7.63430617e-02,  2.08944149e-06,  7.63463754e-02,\n",
       "        1.55197220e-01,  2.39150542e-01,  3.30943326e-01,  4.33379396e-01,\n",
       "        5.48925483e-01,  6.78404483e-01,  8.18884450e-01,  9.61278376e-01,\n",
       "        1.09133280e+00])"
      ]
     },
     "execution_count": 13,
     "metadata": {},
     "output_type": "execute_result"
    }
   ],
   "source": [
    "training_out_loaded[0, 500, ::2]"
   ]
  },
  {
   "cell_type": "code",
   "execution_count": 14,
   "metadata": {},
   "outputs": [],
   "source": [
    "prediction = reg.predict([training_in_loaded[0, 500, :]])[0]"
   ]
  },
  {
   "cell_type": "code",
   "execution_count": 15,
   "metadata": {},
   "outputs": [
    {
     "data": {
      "text/plain": [
       "array([-1.08376632e+00, -9.54622137e-01, -8.13224027e-01, -6.73718301e-01,\n",
       "       -5.45136569e-01, -4.30388206e-01, -3.28657003e-01, -2.37495340e-01,\n",
       "       -1.54120046e-01, -7.58135298e-02,  2.07679936e-06,  7.58168206e-02,\n",
       "        1.54120739e-01,  2.37491743e-01,  3.28647832e-01,  4.30373383e-01,\n",
       "        5.45118018e-01,  6.73698924e-01,  8.13204491e-01,  9.54610743e-01,\n",
       "        1.08376308e+00])"
      ]
     },
     "execution_count": 15,
     "metadata": {},
     "output_type": "execute_result"
    }
   ],
   "source": [
    "prediction[::2]"
   ]
  },
  {
   "cell_type": "code",
   "execution_count": null,
   "metadata": {},
   "outputs": [],
   "source": []
  },
  {
   "cell_type": "code",
   "execution_count": null,
   "metadata": {},
   "outputs": [],
   "source": []
  }
 ],
 "metadata": {
  "kernelspec": {
   "display_name": "dolfinx-env",
   "language": "python",
   "name": "python3"
  },
  "language_info": {
   "codemirror_mode": {
    "name": "ipython",
    "version": 3
   },
   "file_extension": ".py",
   "mimetype": "text/x-python",
   "name": "python",
   "nbconvert_exporter": "python",
   "pygments_lexer": "ipython3",
   "version": "3.12.3"
  }
 },
 "nbformat": 4,
 "nbformat_minor": 2
}
