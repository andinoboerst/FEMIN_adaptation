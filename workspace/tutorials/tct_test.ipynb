{
 "cells": [
  {
   "cell_type": "code",
   "execution_count": 6,
   "metadata": {},
   "outputs": [],
   "source": [
    "from dolfinx import mesh\n",
    "from mpi4py import MPI\n",
    "\n",
    "# Define mesh (replace with actual dimensions)\n",
    "domain = mesh.create_rectangle(MPI.COMM_WORLD, [[0, 0], [100, 50]], [20, 10])\n"
   ]
  },
  {
   "cell_type": "code",
   "execution_count": 7,
   "metadata": {},
   "outputs": [],
   "source": [
    "from dolfinx import fem\n",
    "import numpy as np\n",
    "from petsc4py import PETSc\n",
    "\n",
    "V = fem.functionspace(domain, (\"CG\", 1))\n",
    "\n",
    "# Time-dependent boundary condition: Sinusoidal loading\n",
    "t = 0\n",
    "omega = 1000  # Frequency in Hz\n",
    "amp = 5.0     # Amplitude in mm\n",
    "\n",
    "boundary_value = fem.Constant(domain, PETSc.ScalarType(0.0))  # Initial value\n",
    "\n",
    "def update_boundary_value(t):\n",
    "    boundary_value.value = amp * np.sin(omega * t)\n",
    "\n",
    "# Apply BC to the lower edge\n",
    "boundary_dofs = fem.locate_dofs_geometrical(V, lambda x: np.isclose(x[1], 0))\n",
    "bc = fem.dirichletbc(boundary_value, boundary_dofs, V)\n"
   ]
  },
  {
   "cell_type": "code",
   "execution_count": 8,
   "metadata": {},
   "outputs": [
    {
     "ename": "ModuleNotFoundError",
     "evalue": "No module named 'torch'",
     "output_type": "error",
     "traceback": [
      "\u001b[0;31m---------------------------------------------------------------------------\u001b[0m",
      "\u001b[0;31mModuleNotFoundError\u001b[0m                       Traceback (most recent call last)",
      "Cell \u001b[0;32mIn[8], line 1\u001b[0m\n\u001b[0;32m----> 1\u001b[0m \u001b[38;5;28;01mimport\u001b[39;00m \u001b[38;5;21;01mtorch\u001b[39;00m\n\u001b[1;32m      3\u001b[0m \u001b[38;5;66;03m# Load trained NN model\u001b[39;00m\n\u001b[1;32m      4\u001b[0m nn_model \u001b[38;5;241m=\u001b[39m torch\u001b[38;5;241m.\u001b[39mload(\u001b[38;5;124m\"\u001b[39m\u001b[38;5;124mtrained_model.pth\u001b[39m\u001b[38;5;124m\"\u001b[39m)\n",
      "\u001b[0;31mModuleNotFoundError\u001b[0m: No module named 'torch'"
     ]
    }
   ],
   "source": [
    "import torch\n",
    "\n",
    "# Load trained NN model\n",
    "nn_model = torch.load(\"trained_model.pth\")\n",
    "\n",
    "def neural_network_force(displacement, velocity):\n",
    "    # Convert to PyTorch tensor\n",
    "    input_data = torch.tensor([displacement, velocity], dtype=torch.float32)\n",
    "    # Predict force\n",
    "    return nn_model(input_data).detach().numpy()\n"
   ]
  },
  {
   "cell_type": "code",
   "execution_count": 9,
   "metadata": {},
   "outputs": [
    {
     "ename": "NameError",
     "evalue": "name 'f_ext' is not defined",
     "output_type": "error",
     "traceback": [
      "\u001b[0;31m---------------------------------------------------------------------------\u001b[0m",
      "\u001b[0;31mNameError\u001b[0m                                 Traceback (most recent call last)",
      "Cell \u001b[0;32mIn[9], line 14\u001b[0m\n\u001b[1;32m     11\u001b[0m update_boundary_value(t)\n\u001b[1;32m     13\u001b[0m \u001b[38;5;66;03m# Update acceleration using explicit time integration\u001b[39;00m\n\u001b[0;32m---> 14\u001b[0m a\u001b[38;5;241m.\u001b[39mvector[:] \u001b[38;5;241m=\u001b[39m (\u001b[43mf_ext\u001b[49m \u001b[38;5;241m-\u001b[39m K \u001b[38;5;241m@\u001b[39m u\u001b[38;5;241m.\u001b[39mvector[:]) \u001b[38;5;241m/\u001b[39m M\n\u001b[1;32m     16\u001b[0m \u001b[38;5;66;03m# Update velocity and displacement\u001b[39;00m\n\u001b[1;32m     17\u001b[0m v\u001b[38;5;241m.\u001b[39mvector[:] \u001b[38;5;241m+\u001b[39m\u001b[38;5;241m=\u001b[39m dt \u001b[38;5;241m*\u001b[39m a\u001b[38;5;241m.\u001b[39mvector[:]\n",
      "\u001b[0;31mNameError\u001b[0m: name 'f_ext' is not defined"
     ]
    }
   ],
   "source": [
    "dt = 1e-4  # Time step\n",
    "u = fem.Function(V)  # Displacement field\n",
    "v = fem.Function(V)  # Velocity field\n",
    "a = fem.Function(V)  # Acceleration field\n",
    "\n",
    "t_final = 0.003  # Total simulation time\n",
    "while t < t_final:\n",
    "    # Compute external force\n",
    "    # f_ext = neural_network_force(u.vector[:], v.vector[:])\n",
    "\n",
    "    update_boundary_value(t)\n",
    "    \n",
    "    # Update acceleration using explicit time integration\n",
    "    a.vector[:] = (f_ext - K @ u.vector[:]) / M\n",
    "    \n",
    "    # Update velocity and displacement\n",
    "    v.vector[:] += dt * a.vector[:]\n",
    "    u.vector[:] += dt * v.vector[:]\n",
    "    \n",
    "    t += dt\n"
   ]
  },
  {
   "cell_type": "code",
   "execution_count": null,
   "metadata": {},
   "outputs": [],
   "source": [
    "from dolfinx.io import XDMFFile\n",
    "xdmf = XDMFFile(MPI.COMM_WORLD, \"solution.xdmf\", \"w\")\n",
    "xdmf.write_function(u)\n",
    "xdmf.close()\n"
   ]
  }
 ],
 "metadata": {
  "kernelspec": {
   "display_name": "Python 3 (ipykernel)",
   "language": "python",
   "name": "python3"
  },
  "language_info": {
   "codemirror_mode": {
    "name": "ipython",
    "version": 3
   },
   "file_extension": ".py",
   "mimetype": "text/x-python",
   "name": "python",
   "nbconvert_exporter": "python",
   "pygments_lexer": "ipython3",
   "version": "3.12.3"
  }
 },
 "nbformat": 4,
 "nbformat_minor": 4
}
